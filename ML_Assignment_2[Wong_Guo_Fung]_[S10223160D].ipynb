{
 "cells": [
  {
   "cell_type": "markdown",
   "metadata": {},
   "source": [
    "## Contents <a id=\"top\"></a>\n",
    "### [1. HR Analytics](#HR_Analytics)\n",
    "   - [1.1. Load and Sample the data](#1.1.)\n",
    "   - [1.2. Build the Classification Model(s)](#1.2.)\n",
    "   \n",
    "       - [1.2.1. Naïve Baseline Model](#1.2.1.) \n",
    "       \n",
    "       - [1.2.2. Logistic Regression Model](#1.2.2.)        \n",
    "          - [1.2.2.1.  Improve the model - Linear Regression](#1.2.2.1.)          \n",
    "\n",
    "       - [1.2.3. Multilayer Perceptron Classifier(MLP)](#1.2.3.)\n",
    "          - [1.2.3.1.  GridSearch Multilayer Perceptron (MLP)](#1.2.3.1.)     \n",
    "\n",
    "       - [1.2.4. Decision Tree Classifier](#1.2.4.)\n",
    "          - [1.2.4.1.  GridSearch Decision Tree Model](#1.2.4.1.)\n",
    "          \n",
    "       - [1.2.5. XGBoost - eXtreme Gradient Boosting Classifier](#1.2.5.)          \n",
    "          - [1.2.5.1.  Improve XGBoost - eXtreme Gradient Boosting Classifier](#1.2.5.1.)\n",
    "    \n",
    "   - [1.3. Summarize the findings](#1.3.)   \n",
    "       - [1.3.1. Classification Final Model](#1.3.1.)\n",
    "\n",
    "\n",
    "### [2. Airbnb](#AIRBNB)\n",
    "   - [2.1. Load and Sample the data](#2.1.)\n",
    "   - [2.2. Build the Regression Model(s)](#2.2.)   \n",
    "       - [2.2.1. Naïve Baseline Model](#2.2.1.) \n",
    "       - [2.2.2. Linear Regression Model](#2.2.2.)        \n",
    "          - [2.2.2.1. Improve Logistic Regression Model](#2.2.2.1.)\n",
    "       - [2.2.3. Decision Tree Regressor](#2.2.3.)       \n",
    "          - [2.2.3.1. Improve Decision Tree Regressor](#2.2.3.1.)\n",
    "\n",
    "       - [2.2.4. AdaBoost Regressor on Decision Tree Regressor](#2.2.4.)  \n",
    "          - [2.2.4.1. Improve AdaBoost Regressor on Decision Tree Regressor](#2.2.4.1.)       \n",
    "\n",
    "   - [2.3. Summarize the findings](#2.3.)   \n",
    "       - [2.3.1. Regression Final Model](#2.3.1.)"
   ]
  },
  {
   "cell_type": "code",
   "execution_count": 1,
   "metadata": {},
   "outputs": [],
   "source": [
    "# import the required packages\n",
    "\n",
    "import pandas as pd\n",
    "import numpy as np\n",
    "%matplotlib inline\n",
    "# for plotting\n",
    "import matplotlib.pyplot as plt\n",
    "import seaborn as sns\n",
    "from matplotlib.gridspec import GridSpec\n",
    "\n",
    "# for Q-Q plots\n",
    "import scipy.stats as stats\n",
    "\n",
    "# Dealing with outliers\n",
    "from feature_engine.outliers import Winsorizer\n",
    "\n",
    "# Transforming numerical variables \n",
    "from feature_engine.transformation import LogTransformer\n",
    "from feature_engine.transformation import PowerTransformer\n",
    "from feature_engine.transformation import ReciprocalTransformer\n",
    "from feature_engine.transformation import BoxCoxTransformer\n",
    "from feature_engine.transformation import YeoJohnsonTransformer\n",
    "\n",
    "# to split the data sets\n",
    "from sklearn.model_selection import train_test_split\n",
    "\n",
    "# to impute missing data with feature-engine\n",
    "from feature_engine.imputation import MeanMedianImputer\n",
    "\n",
    "from sklearn.pipeline import Pipeline\n",
    "import feature_engine.imputation as mdi\n",
    "\n",
    "# for encoding with feature-engine\n",
    "from feature_engine.encoding import OrdinalEncoder\n",
    "from feature_engine.encoding import MeanEncoder\n",
    "from feature_engine.encoding import OneHotEncoder\n",
    "\n",
    "from feature_engine.encoding import CountFrequencyEncoder\n",
    "# for discretization\n",
    "from feature_engine.discretisation import EqualWidthDiscretiser\n",
    "from feature_engine.discretisation import EqualFrequencyDiscretiser\n",
    "\n",
    "# the scaler - for standardization\n",
    "from sklearn.preprocessing import StandardScaler\n",
    "# the scalers - for mean normalisation\n",
    "from sklearn.preprocessing import RobustScaler\n",
    "# the scaler - for min-max scaling\n",
    "from sklearn.preprocessing import MinMaxScaler\n",
    "# the scaler - for MaxAbsScaling, with centering\n",
    "from sklearn.preprocessing import MaxAbsScaler\n",
    "\n",
    "# Machine Modelling\n",
    "from sklearn.linear_model import LogisticRegression\n",
    "from sklearn.linear_model import LinearRegression\n",
    "from sklearn.neural_network import MLPClassifier\n",
    "from sklearn.neural_network import MLPRegressor\n",
    "from scipy import stats\n",
    "\n",
    "# Ensemble Learning Models\n",
    "from sklearn import tree\n",
    "from sklearn.tree import DecisionTreeClassifier\n",
    "from sklearn.ensemble import RandomForestClassifier, RandomForestRegressor #- Ensemble of Descision Trees\n",
    "from sklearn.ensemble import BaggingClassifier, AdaBoostClassifier, VotingClassifier,AdaBoostRegressor\n",
    "from xgboost import XGBClassifier\n",
    "from sklearn import svm\n",
    "from sklearn.svm import SVC\n",
    "\n",
    "\n",
    "\n",
    "# Metrics to Measure performance of model\n",
    "from sklearn import metrics\n",
    "from sklearn.metrics import accuracy_score\n",
    "from sklearn.metrics import mean_absolute_error\n",
    "from sklearn.metrics import mean_squared_error\n",
    "from sklearn.metrics import r2_score\n",
    "from math import sqrt\n",
    "import statsmodels.api as sm\n",
    "\n",
    "\n",
    "# find the best combination of model hyperparameters\n",
    "from sklearn.model_selection import GridSearchCV, RandomizedSearchCV\n",
    "from sklearn.model_selection import cross_val_score, cross_validate"
   ]
  },
  {
   "cell_type": "markdown",
   "metadata": {},
   "source": [
    "## 1. HR Analytics <a id=\"HR_Analytics\"></a>\n",
    "[Back to Top](#top)"
   ]
  },
  {
   "cell_type": "markdown",
   "metadata": {},
   "source": [
    "### 1.1. Load and Sample the data  <a id=\"1.1.\"></a>\n",
    "[Back to Top](#top)"
   ]
  },
  {
   "cell_type": "code",
   "execution_count": 2,
   "metadata": {},
   "outputs": [],
   "source": [
    "data_hr = pd.read_csv(\"./datasets/hr_data_new.csv\")\n",
    "data_hr_backup = data_hr.copy() #keep a copy of df "
   ]
  },
  {
   "cell_type": "code",
   "execution_count": 3,
   "metadata": {},
   "outputs": [
    {
     "data": {
      "text/html": [
       "<div>\n",
       "<style scoped>\n",
       "    .dataframe tbody tr th:only-of-type {\n",
       "        vertical-align: middle;\n",
       "    }\n",
       "\n",
       "    .dataframe tbody tr th {\n",
       "        vertical-align: top;\n",
       "    }\n",
       "\n",
       "    .dataframe thead th {\n",
       "        text-align: right;\n",
       "    }\n",
       "</style>\n",
       "<table border=\"1\" class=\"dataframe\">\n",
       "  <thead>\n",
       "    <tr style=\"text-align: right;\">\n",
       "      <th></th>\n",
       "      <th>employee_id</th>\n",
       "      <th>gender</th>\n",
       "      <th>no_of_trainings</th>\n",
       "      <th>age</th>\n",
       "      <th>previous_year_rating</th>\n",
       "      <th>length_of_service</th>\n",
       "      <th>KPIs_met &gt;80%</th>\n",
       "      <th>awards_won?</th>\n",
       "      <th>avg_training_score</th>\n",
       "      <th>region_region_2</th>\n",
       "      <th>...</th>\n",
       "      <th>department_Procurement</th>\n",
       "      <th>department_R&amp;D</th>\n",
       "      <th>department_HR</th>\n",
       "      <th>recruitment_channel_sourcing</th>\n",
       "      <th>recruitment_channel_other</th>\n",
       "      <th>recruitment_channel_referred</th>\n",
       "      <th>education_Bachelor's</th>\n",
       "      <th>education_Master's &amp; above</th>\n",
       "      <th>education_Below Secondary</th>\n",
       "      <th>is_promoted</th>\n",
       "    </tr>\n",
       "  </thead>\n",
       "  <tbody>\n",
       "    <tr>\n",
       "      <th>0</th>\n",
       "      <td>0.617199</td>\n",
       "      <td>0</td>\n",
       "      <td>-0.406686</td>\n",
       "      <td>0.153499</td>\n",
       "      <td>1.145246</td>\n",
       "      <td>-0.774513</td>\n",
       "      <td>1</td>\n",
       "      <td>0</td>\n",
       "      <td>-1.088511</td>\n",
       "      <td>0</td>\n",
       "      <td>...</td>\n",
       "      <td>0</td>\n",
       "      <td>0</td>\n",
       "      <td>0</td>\n",
       "      <td>1</td>\n",
       "      <td>0</td>\n",
       "      <td>0</td>\n",
       "      <td>1</td>\n",
       "      <td>0</td>\n",
       "      <td>0</td>\n",
       "      <td>1</td>\n",
       "    </tr>\n",
       "    <tr>\n",
       "      <th>1</th>\n",
       "      <td>0.989794</td>\n",
       "      <td>1</td>\n",
       "      <td>-0.406686</td>\n",
       "      <td>-0.321341</td>\n",
       "      <td>1.145246</td>\n",
       "      <td>-0.002563</td>\n",
       "      <td>1</td>\n",
       "      <td>0</td>\n",
       "      <td>-1.088511</td>\n",
       "      <td>0</td>\n",
       "      <td>...</td>\n",
       "      <td>0</td>\n",
       "      <td>0</td>\n",
       "      <td>0</td>\n",
       "      <td>1</td>\n",
       "      <td>0</td>\n",
       "      <td>0</td>\n",
       "      <td>1</td>\n",
       "      <td>0</td>\n",
       "      <td>0</td>\n",
       "      <td>1</td>\n",
       "    </tr>\n",
       "    <tr>\n",
       "      <th>2</th>\n",
       "      <td>-0.873178</td>\n",
       "      <td>1</td>\n",
       "      <td>-0.406686</td>\n",
       "      <td>2.052856</td>\n",
       "      <td>0.289063</td>\n",
       "      <td>2.313285</td>\n",
       "      <td>1</td>\n",
       "      <td>0</td>\n",
       "      <td>-1.504251</td>\n",
       "      <td>0</td>\n",
       "      <td>...</td>\n",
       "      <td>0</td>\n",
       "      <td>0</td>\n",
       "      <td>0</td>\n",
       "      <td>0</td>\n",
       "      <td>1</td>\n",
       "      <td>0</td>\n",
       "      <td>0</td>\n",
       "      <td>1</td>\n",
       "      <td>0</td>\n",
       "      <td>1</td>\n",
       "    </tr>\n",
       "    <tr>\n",
       "      <th>3</th>\n",
       "      <td>1.362388</td>\n",
       "      <td>1</td>\n",
       "      <td>-0.406686</td>\n",
       "      <td>-1.271019</td>\n",
       "      <td>0.289063</td>\n",
       "      <td>-1.160488</td>\n",
       "      <td>1</td>\n",
       "      <td>1</td>\n",
       "      <td>-0.672771</td>\n",
       "      <td>0</td>\n",
       "      <td>...</td>\n",
       "      <td>0</td>\n",
       "      <td>0</td>\n",
       "      <td>0</td>\n",
       "      <td>0</td>\n",
       "      <td>1</td>\n",
       "      <td>0</td>\n",
       "      <td>1</td>\n",
       "      <td>0</td>\n",
       "      <td>0</td>\n",
       "      <td>1</td>\n",
       "    </tr>\n",
       "    <tr>\n",
       "      <th>4</th>\n",
       "      <td>-0.873178</td>\n",
       "      <td>1</td>\n",
       "      <td>-0.406686</td>\n",
       "      <td>-1.271019</td>\n",
       "      <td>0.289063</td>\n",
       "      <td>-1.160488</td>\n",
       "      <td>0</td>\n",
       "      <td>0</td>\n",
       "      <td>-0.257032</td>\n",
       "      <td>0</td>\n",
       "      <td>...</td>\n",
       "      <td>0</td>\n",
       "      <td>0</td>\n",
       "      <td>0</td>\n",
       "      <td>1</td>\n",
       "      <td>0</td>\n",
       "      <td>0</td>\n",
       "      <td>1</td>\n",
       "      <td>0</td>\n",
       "      <td>0</td>\n",
       "      <td>1</td>\n",
       "    </tr>\n",
       "  </tbody>\n",
       "</table>\n",
       "<p>5 rows × 30 columns</p>\n",
       "</div>"
      ],
      "text/plain": [
       "   employee_id  gender  no_of_trainings       age  previous_year_rating  \\\n",
       "0     0.617199       0        -0.406686  0.153499              1.145246   \n",
       "1     0.989794       1        -0.406686 -0.321341              1.145246   \n",
       "2    -0.873178       1        -0.406686  2.052856              0.289063   \n",
       "3     1.362388       1        -0.406686 -1.271019              0.289063   \n",
       "4    -0.873178       1        -0.406686 -1.271019              0.289063   \n",
       "\n",
       "   length_of_service  KPIs_met >80%  awards_won?  avg_training_score  \\\n",
       "0          -0.774513              1            0           -1.088511   \n",
       "1          -0.002563              1            0           -1.088511   \n",
       "2           2.313285              1            0           -1.504251   \n",
       "3          -1.160488              1            1           -0.672771   \n",
       "4          -1.160488              0            0           -0.257032   \n",
       "\n",
       "   region_region_2  ...  department_Procurement  department_R&D  \\\n",
       "0                0  ...                       0               0   \n",
       "1                0  ...                       0               0   \n",
       "2                0  ...                       0               0   \n",
       "3                0  ...                       0               0   \n",
       "4                0  ...                       0               0   \n",
       "\n",
       "   department_HR  recruitment_channel_sourcing  recruitment_channel_other  \\\n",
       "0              0                             1                          0   \n",
       "1              0                             1                          0   \n",
       "2              0                             0                          1   \n",
       "3              0                             0                          1   \n",
       "4              0                             1                          0   \n",
       "\n",
       "   recruitment_channel_referred  education_Bachelor's  \\\n",
       "0                             0                     1   \n",
       "1                             0                     1   \n",
       "2                             0                     0   \n",
       "3                             0                     1   \n",
       "4                             0                     1   \n",
       "\n",
       "   education_Master's & above  education_Below Secondary  is_promoted  \n",
       "0                           0                          0            1  \n",
       "1                           0                          0            1  \n",
       "2                           1                          0            1  \n",
       "3                           0                          0            1  \n",
       "4                           0                          0            1  \n",
       "\n",
       "[5 rows x 30 columns]"
      ]
     },
     "execution_count": 3,
     "metadata": {},
     "output_type": "execute_result"
    }
   ],
   "source": [
    "data_hr.head()"
   ]
  },
  {
   "cell_type": "code",
   "execution_count": 4,
   "metadata": {},
   "outputs": [
    {
     "name": "stdout",
     "output_type": "stream",
     "text": [
      "<class 'pandas.core.frame.DataFrame'>\n",
      "RangeIndex: 9336 entries, 0 to 9335\n",
      "Data columns (total 30 columns):\n",
      " #   Column                        Non-Null Count  Dtype  \n",
      "---  ------                        --------------  -----  \n",
      " 0   employee_id                   9336 non-null   float64\n",
      " 1   gender                        9336 non-null   int64  \n",
      " 2   no_of_trainings               9336 non-null   float64\n",
      " 3   age                           9336 non-null   float64\n",
      " 4   previous_year_rating          9336 non-null   float64\n",
      " 5   length_of_service             9336 non-null   float64\n",
      " 6   KPIs_met >80%                 9336 non-null   int64  \n",
      " 7   awards_won?                   9336 non-null   int64  \n",
      " 8   avg_training_score            9336 non-null   float64\n",
      " 9   region_region_2               9336 non-null   int64  \n",
      " 10  region_region_22              9336 non-null   int64  \n",
      " 11  region_region_7               9336 non-null   int64  \n",
      " 12  region_region_15              9336 non-null   int64  \n",
      " 13  region_region_13              9336 non-null   int64  \n",
      " 14  department_Sales & Marketing  9336 non-null   int64  \n",
      " 15  department_Finance            9336 non-null   int64  \n",
      " 16  department_Analytics          9336 non-null   int64  \n",
      " 17  department_Technology         9336 non-null   int64  \n",
      " 18  department_Legal              9336 non-null   int64  \n",
      " 19  department_Operations         9336 non-null   int64  \n",
      " 20  department_Procurement        9336 non-null   int64  \n",
      " 21  department_R&D                9336 non-null   int64  \n",
      " 22  department_HR                 9336 non-null   int64  \n",
      " 23  recruitment_channel_sourcing  9336 non-null   int64  \n",
      " 24  recruitment_channel_other     9336 non-null   int64  \n",
      " 25  recruitment_channel_referred  9336 non-null   int64  \n",
      " 26  education_Bachelor's          9336 non-null   int64  \n",
      " 27  education_Master's & above    9336 non-null   int64  \n",
      " 28  education_Below Secondary     9336 non-null   int64  \n",
      " 29  is_promoted                   9336 non-null   int64  \n",
      "dtypes: float64(6), int64(24)\n",
      "memory usage: 2.1 MB\n"
     ]
    }
   ],
   "source": [
    "data_hr.info()"
   ]
  },
  {
   "cell_type": "code",
   "execution_count": 5,
   "metadata": {},
   "outputs": [],
   "source": [
    "# Set the \"is_promoted\" as target/model output and the rest features as model inputs\n",
    "y_data_hr = data_hr['is_promoted']\n",
    "x_data_hr = data_hr.drop(['is_promoted'], axis=1)"
   ]
  },
  {
   "cell_type": "markdown",
   "metadata": {},
   "source": [
    "### 1.2 Build the Model(s)  <a id=\"1.2.\"></a>\n",
    "[Back to Top](#top)"
   ]
  },
  {
   "cell_type": "markdown",
   "metadata": {},
   "source": [
    "All model(s) build should follow the following: \n",
    " - spliting X and Y into training dataset and testing datatset in the ratio of 8:2\n",
    " - use the random state of 999 to build these model(s)"
   ]
  },
  {
   "cell_type": "code",
   "execution_count": 6,
   "metadata": {},
   "outputs": [],
   "source": [
    "# Create DataFrame for Model Comparison \n",
    "resultOfModelsDict = {'Model': [], 'Training Accuracy': [], 'Testing Accuracy': [], \n",
    "                  'Cross Val Training Accuracy': [], 'Cross Val Testing Accuracy': []} \n",
    "resultOfModels = pd.DataFrame(resultOfModelsDict)  "
   ]
  },
  {
   "cell_type": "code",
   "execution_count": 7,
   "metadata": {},
   "outputs": [
    {
     "data": {
      "text/html": [
       "<div>\n",
       "<style scoped>\n",
       "    .dataframe tbody tr th:only-of-type {\n",
       "        vertical-align: middle;\n",
       "    }\n",
       "\n",
       "    .dataframe tbody tr th {\n",
       "        vertical-align: top;\n",
       "    }\n",
       "\n",
       "    .dataframe thead th {\n",
       "        text-align: right;\n",
       "    }\n",
       "</style>\n",
       "<table border=\"1\" class=\"dataframe\">\n",
       "  <thead>\n",
       "    <tr style=\"text-align: right;\">\n",
       "      <th></th>\n",
       "      <th>Model</th>\n",
       "      <th>Training Accuracy</th>\n",
       "      <th>Testing Accuracy</th>\n",
       "      <th>Cross Val Training Accuracy</th>\n",
       "      <th>Cross Val Testing Accuracy</th>\n",
       "    </tr>\n",
       "  </thead>\n",
       "  <tbody>\n",
       "  </tbody>\n",
       "</table>\n",
       "</div>"
      ],
      "text/plain": [
       "Empty DataFrame\n",
       "Columns: [Model, Training Accuracy, Testing Accuracy, Cross Val Training Accuracy, Cross Val Testing Accuracy]\n",
       "Index: []"
      ]
     },
     "execution_count": 7,
     "metadata": {},
     "output_type": "execute_result"
    }
   ],
   "source": [
    "resultOfModels"
   ]
  },
  {
   "cell_type": "markdown",
   "metadata": {},
   "source": [
    "### 1.2.1. Naïve Baseline Model  <a id=\"1.2.1.\"></a>\n",
    "[Back to Top](#top)"
   ]
  },
  {
   "cell_type": "code",
   "execution_count": 8,
   "metadata": {},
   "outputs": [],
   "source": [
    "# Split both Inputs (X) and Ouput (y) into training set (80%) and testing set (20%)\n",
    "x_train, x_test, y_train, y_test = train_test_split(x_data_hr, y_data_hr, test_size=0.2, random_state=999)"
   ]
  },
  {
   "cell_type": "code",
   "execution_count": 9,
   "metadata": {},
   "outputs": [
    {
     "data": {
      "text/plain": [
       "((7468, 29), (1868, 29))"
      ]
     },
     "execution_count": 9,
     "metadata": {},
     "output_type": "execute_result"
    }
   ],
   "source": [
    "#Dataset Rows and Columns\n",
    "x_train.shape, x_test.shape"
   ]
  },
  {
   "cell_type": "code",
   "execution_count": 10,
   "metadata": {},
   "outputs": [
    {
     "name": "stdout",
     "output_type": "stream",
     "text": [
      "ModeResult(mode=array([1], dtype=int64), count=array([3745]))\n",
      "The modal class label is 1, and the accompanying string value of this label is [array([1], dtype=int64)].\n"
     ]
    }
   ],
   "source": [
    "# pick the modal class from train data\n",
    "print(stats.mode(y_train,keepdims = True))\n",
    "\n",
    "modal_class_label = stats.mode(y_train,keepdims = True)[0]\n",
    "\n",
    "print(f\"The modal class label is {int(modal_class_label)}, \\\n",
    "and the accompanying string value of this label is {[modal_class_label]}.\")"
   ]
  },
  {
   "cell_type": "code",
   "execution_count": 11,
   "metadata": {},
   "outputs": [
    {
     "data": {
      "text/plain": [
       "[1, 1, 1, 1, 1]"
      ]
     },
     "execution_count": 11,
     "metadata": {},
     "output_type": "execute_result"
    }
   ],
   "source": [
    "y_train_preds_naive = [int(modal_class_label) for row in x_train.iloc[:,0]]\n",
    "y_train_preds_naive[0:5]"
   ]
  },
  {
   "cell_type": "code",
   "execution_count": 12,
   "metadata": {},
   "outputs": [
    {
     "data": {
      "text/plain": [
       "[1, 1, 1, 1, 1]"
      ]
     },
     "execution_count": 12,
     "metadata": {},
     "output_type": "execute_result"
    }
   ],
   "source": [
    "y_test_preds_naive = [int(modal_class_label) for row in x_test.iloc[:,0]]\n",
    "y_test_preds_naive[0:5]"
   ]
  },
  {
   "cell_type": "code",
   "execution_count": 13,
   "metadata": {
    "scrolled": true
   },
   "outputs": [
    {
     "name": "stdout",
     "output_type": "stream",
     "text": [
      "The Naive Baseline Model's accuracy on train data is 50.15%.\n",
      "The Naive Baseline Model's accuracy on test data is 49.41%.\n"
     ]
    }
   ],
   "source": [
    "# train accuracy score\n",
    "y_true = y_train\n",
    "y_pred = y_train_preds_naive\n",
    "\n",
    "train_accuracy_naive = accuracy_score(y_true, y_pred) * 100\n",
    "print(f\"The Naive Baseline Model's accuracy on train data is {train_accuracy_naive:.2f}%.\")\n",
    "\n",
    "# test accuracy score\n",
    "y_true = y_test\n",
    "y_pred = y_test_preds_naive\n",
    "\n",
    "test_accuracy_naive = accuracy_score(y_true, y_pred) * 100\n",
    "print(f\"The Naive Baseline Model's accuracy on test data is {test_accuracy_naive:.2f}%.\")"
   ]
  },
  {
   "cell_type": "code",
   "execution_count": 14,
   "metadata": {},
   "outputs": [],
   "source": [
    "# Add Naive Baseline Model into Model Comparison\n",
    "new_row_Naive = {'Model':'Naive Baseline', 'Training Accuracy':train_accuracy_naive, 'Testing Accuracy':test_accuracy_naive, \n",
    "           'Cross Val Training Accuracy': train_accuracy_naive, 'Cross Val Testing Accuracy': test_accuracy_naive}\n",
    "new_df = pd.DataFrame([new_row_Naive])\n",
    "resultOfModels = pd.concat([resultOfModels, new_df], axis=0, ignore_index=True) "
   ]
  },
  {
   "cell_type": "code",
   "execution_count": 15,
   "metadata": {},
   "outputs": [
    {
     "data": {
      "text/html": [
       "<div>\n",
       "<style scoped>\n",
       "    .dataframe tbody tr th:only-of-type {\n",
       "        vertical-align: middle;\n",
       "    }\n",
       "\n",
       "    .dataframe tbody tr th {\n",
       "        vertical-align: top;\n",
       "    }\n",
       "\n",
       "    .dataframe thead th {\n",
       "        text-align: right;\n",
       "    }\n",
       "</style>\n",
       "<table border=\"1\" class=\"dataframe\">\n",
       "  <thead>\n",
       "    <tr style=\"text-align: right;\">\n",
       "      <th></th>\n",
       "      <th>Model</th>\n",
       "      <th>Training Accuracy</th>\n",
       "      <th>Testing Accuracy</th>\n",
       "      <th>Cross Val Training Accuracy</th>\n",
       "      <th>Cross Val Testing Accuracy</th>\n",
       "    </tr>\n",
       "  </thead>\n",
       "  <tbody>\n",
       "    <tr>\n",
       "      <th>0</th>\n",
       "      <td>Naive Baseline</td>\n",
       "      <td>50.147295</td>\n",
       "      <td>49.411135</td>\n",
       "      <td>50.147295</td>\n",
       "      <td>49.411135</td>\n",
       "    </tr>\n",
       "  </tbody>\n",
       "</table>\n",
       "</div>"
      ],
      "text/plain": [
       "            Model  Training Accuracy  Testing Accuracy  \\\n",
       "0  Naive Baseline          50.147295         49.411135   \n",
       "\n",
       "   Cross Val Training Accuracy  Cross Val Testing Accuracy  \n",
       "0                    50.147295                   49.411135  "
      ]
     },
     "execution_count": 15,
     "metadata": {},
     "output_type": "execute_result"
    }
   ],
   "source": [
    "resultOfModels"
   ]
  },
  {
   "cell_type": "markdown",
   "metadata": {},
   "source": [
    "### 1.2.2. Logistic Regression  <a id=\"1.2.2.\"></a>\n",
    "[Back to Top](#top)"
   ]
  },
  {
   "cell_type": "code",
   "execution_count": 16,
   "metadata": {},
   "outputs": [],
   "source": [
    "# Split both Inputs (X) and Ouput (y) into training set (80%) and testing set (20%)\n",
    "x_train, x_test, y_train, y_test = train_test_split(x_data_hr, y_data_hr, test_size=0.2, random_state=999)"
   ]
  },
  {
   "cell_type": "code",
   "execution_count": 17,
   "metadata": {},
   "outputs": [
    {
     "data": {
      "text/plain": [
       "((7468, 29), (1868, 29))"
      ]
     },
     "execution_count": 17,
     "metadata": {},
     "output_type": "execute_result"
    }
   ],
   "source": [
    "#Dataset Rows and Columns\n",
    "x_train.shape, x_test.shape"
   ]
  },
  {
   "cell_type": "code",
   "execution_count": 18,
   "metadata": {},
   "outputs": [
    {
     "data": {
      "text/plain": [
       "LogisticRegression(max_iter=1000)"
      ]
     },
     "execution_count": 18,
     "metadata": {},
     "output_type": "execute_result"
    }
   ],
   "source": [
    "# Create the model \"lg\"\n",
    "lg = LogisticRegression(solver='lbfgs', max_iter=1000) # optimization solver\n",
    "# max_iter=10000) # maximum iterations: set a big number to make sure the optimization solver\n",
    "# run enough iterations to let the model converge\n",
    "# Fit the model to the training set\n",
    "lg.fit(x_train,y_train)"
   ]
  },
  {
   "cell_type": "code",
   "execution_count": 19,
   "metadata": {},
   "outputs": [
    {
     "name": "stdout",
     "output_type": "stream",
     "text": [
      "[[ 0.02029659 -0.03104133 -0.08632037 -0.2520387   0.31995165  0.17687069\n",
      "   2.36534679  1.92651736  3.1698328   0.11549972  0.24435819  0.33409463\n",
      "  -0.13125537 -0.1875014   3.72284335  1.09599415 -3.497006   -2.1967932\n",
      "   0.96480902  1.27929106 -0.82252929 -3.60343754  3.06255631  0.06500603\n",
      "   0.07318692 -0.13246508  0.03605428  0.27867609 -0.3090025 ]]\n",
      "[-1.99133651]\n"
     ]
    }
   ],
   "source": [
    "# print out the model coefficients and intercept\n",
    "print(lg.coef_)\n",
    "print(lg.intercept_)"
   ]
  },
  {
   "cell_type": "code",
   "execution_count": 20,
   "metadata": {},
   "outputs": [
    {
     "name": "stdout",
     "output_type": "stream",
     "text": [
      "0.7696839850026781 (Train Accuracy)\n"
     ]
    }
   ],
   "source": [
    "# calculated the Training accuracy\n",
    "print(lg.score(x_train, y_train), '(Train Accuracy)')"
   ]
  },
  {
   "cell_type": "code",
   "execution_count": 21,
   "metadata": {},
   "outputs": [
    {
     "name": "stdout",
     "output_type": "stream",
     "text": [
      "[1 1 1 ... 0 0 1]\n",
      "[0.17347043 0.29879507 0.19479707 ... 0.56896365 0.92454989 0.44000496]\n"
     ]
    }
   ],
   "source": [
    "# Calculated the fitted values for training set\n",
    "y_fitted = lg.predict(x_train) # returns 0 or 1\n",
    "y_fitted_prob = lg.predict_proba(x_train)[:,0] # returns probabilities\n",
    "print(y_fitted)\n",
    "print(y_fitted_prob)"
   ]
  },
  {
   "cell_type": "code",
   "execution_count": 22,
   "metadata": {},
   "outputs": [
    {
     "name": "stdout",
     "output_type": "stream",
     "text": [
      "0.7896145610278372 (Test Accuracy)\n"
     ]
    }
   ],
   "source": [
    "print(lg.score(x_test, y_test), '(Test Accuracy)')"
   ]
  },
  {
   "cell_type": "code",
   "execution_count": 23,
   "metadata": {},
   "outputs": [
    {
     "name": "stdout",
     "output_type": "stream",
     "text": [
      "train_score:  [0.78026245 0.7749364  0.77681082 0.77426697 0.77533806]\n",
      "test_score:  [0.76231263 0.77771826 0.76539904 0.78468131 0.77129084]\n"
     ]
    }
   ],
   "source": [
    "# Evaluate the Model using K-folds Cross validation\n",
    "results = cross_validate(lg, x_data_hr, y_data_hr, scoring='accuracy', cv=5, return_train_score = True)\n",
    "print('train_score: ', results['train_score'])\n",
    "print('test_score: ', results['test_score'])"
   ]
  },
  {
   "cell_type": "code",
   "execution_count": 24,
   "metadata": {},
   "outputs": [
    {
     "name": "stdout",
     "output_type": "stream",
     "text": [
      "cross val training accuracy is: 0.77632294182496\n",
      "cross val testing accuracy is: 0.7722804164291556\n"
     ]
    }
   ],
   "source": [
    "print('cross val training accuracy is:', sum(results['train_score'])/len(results['train_score']))\n",
    "print('cross val testing accuracy is:', sum(results['test_score'])/len(results['test_score']))"
   ]
  },
  {
   "cell_type": "code",
   "execution_count": 25,
   "metadata": {},
   "outputs": [],
   "source": [
    "# # Add Logistic Regression into Model Comparison\n",
    "new_row_lg1 = {'Model':'Logistic Regression', 'Training Accuracy':lg.score(x_train, y_train)*100, 'Testing Accuracy':lg.score(x_test, y_test)*100, \n",
    "           'Cross Val Training Accuracy': sum(results['train_score'])/len(results['train_score'])*100, 'Cross Val Testing Accuracy': sum(results['test_score'])/len(results['test_score'])*100}\n",
    "new_df = pd.DataFrame([new_row_lg1])\n",
    "resultOfModels = pd.concat([resultOfModels, new_df], axis=0, ignore_index=True) "
   ]
  },
  {
   "cell_type": "code",
   "execution_count": 26,
   "metadata": {},
   "outputs": [
    {
     "data": {
      "text/html": [
       "<div>\n",
       "<style scoped>\n",
       "    .dataframe tbody tr th:only-of-type {\n",
       "        vertical-align: middle;\n",
       "    }\n",
       "\n",
       "    .dataframe tbody tr th {\n",
       "        vertical-align: top;\n",
       "    }\n",
       "\n",
       "    .dataframe thead th {\n",
       "        text-align: right;\n",
       "    }\n",
       "</style>\n",
       "<table border=\"1\" class=\"dataframe\">\n",
       "  <thead>\n",
       "    <tr style=\"text-align: right;\">\n",
       "      <th></th>\n",
       "      <th>Model</th>\n",
       "      <th>Training Accuracy</th>\n",
       "      <th>Testing Accuracy</th>\n",
       "      <th>Cross Val Training Accuracy</th>\n",
       "      <th>Cross Val Testing Accuracy</th>\n",
       "    </tr>\n",
       "  </thead>\n",
       "  <tbody>\n",
       "    <tr>\n",
       "      <th>0</th>\n",
       "      <td>Naive Baseline</td>\n",
       "      <td>50.147295</td>\n",
       "      <td>49.411135</td>\n",
       "      <td>50.147295</td>\n",
       "      <td>49.411135</td>\n",
       "    </tr>\n",
       "    <tr>\n",
       "      <th>1</th>\n",
       "      <td>Logistic Regression</td>\n",
       "      <td>76.968399</td>\n",
       "      <td>78.961456</td>\n",
       "      <td>77.632294</td>\n",
       "      <td>77.228042</td>\n",
       "    </tr>\n",
       "  </tbody>\n",
       "</table>\n",
       "</div>"
      ],
      "text/plain": [
       "                 Model  Training Accuracy  Testing Accuracy  \\\n",
       "0       Naive Baseline          50.147295         49.411135   \n",
       "1  Logistic Regression          76.968399         78.961456   \n",
       "\n",
       "   Cross Val Training Accuracy  Cross Val Testing Accuracy  \n",
       "0                    50.147295                   49.411135  \n",
       "1                    77.632294                   77.228042  "
      ]
     },
     "execution_count": 26,
     "metadata": {},
     "output_type": "execute_result"
    }
   ],
   "source": [
    "resultOfModels"
   ]
  },
  {
   "cell_type": "code",
   "execution_count": 27,
   "metadata": {},
   "outputs": [
    {
     "name": "stdout",
     "output_type": "stream",
     "text": [
      "Optimization terminated successfully.\n",
      "         Current function value: 0.449516\n",
      "         Iterations 7\n"
     ]
    }
   ],
   "source": [
    "# The lg model refers to sklearn model and lg2 model refers to statsmodel.api model\n",
    "\n",
    "# Create another model lg2 using statsmodel.api: the Logit method and fit function\n",
    "lg2 = sm.Logit(y_train, x_train).fit()"
   ]
  },
  {
   "cell_type": "code",
   "execution_count": 28,
   "metadata": {},
   "outputs": [
    {
     "data": {
      "text/html": [
       "<table class=\"simpletable\">\n",
       "<caption>Logit Regression Results</caption>\n",
       "<tr>\n",
       "  <th>Dep. Variable:</th>      <td>is_promoted</td>   <th>  No. Observations:  </th>  <td>  7468</td> \n",
       "</tr>\n",
       "<tr>\n",
       "  <th>Model:</th>                 <td>Logit</td>      <th>  Df Residuals:      </th>  <td>  7441</td> \n",
       "</tr>\n",
       "<tr>\n",
       "  <th>Method:</th>                 <td>MLE</td>       <th>  Df Model:          </th>  <td>    26</td> \n",
       "</tr>\n",
       "<tr>\n",
       "  <th>Date:</th>            <td>Sat, 11 Feb 2023</td> <th>  Pseudo R-squ.:     </th>  <td>0.3515</td> \n",
       "</tr>\n",
       "<tr>\n",
       "  <th>Time:</th>                <td>21:46:06</td>     <th>  Log-Likelihood:    </th> <td> -3357.0</td>\n",
       "</tr>\n",
       "<tr>\n",
       "  <th>converged:</th>             <td>True</td>       <th>  LL-Null:           </th> <td> -5176.4</td>\n",
       "</tr>\n",
       "<tr>\n",
       "  <th>Covariance Type:</th>     <td>nonrobust</td>    <th>  LLR p-value:       </th>  <td> 0.000</td> \n",
       "</tr>\n",
       "</table>\n",
       "<table class=\"simpletable\">\n",
       "<tr>\n",
       "                <td></td>                  <th>coef</th>     <th>std err</th>      <th>z</th>      <th>P>|z|</th>  <th>[0.025</th>    <th>0.975]</th>  \n",
       "</tr>\n",
       "<tr>\n",
       "  <th>employee_id</th>                  <td>    0.0214</td> <td>    0.030</td> <td>    0.706</td> <td> 0.480</td> <td>   -0.038</td> <td>    0.081</td>\n",
       "</tr>\n",
       "<tr>\n",
       "  <th>gender</th>                       <td>   -0.0294</td> <td>    0.070</td> <td>   -0.423</td> <td> 0.672</td> <td>   -0.166</td> <td>    0.107</td>\n",
       "</tr>\n",
       "<tr>\n",
       "  <th>no_of_trainings</th>              <td>   -0.0833</td> <td>    0.033</td> <td>   -2.547</td> <td> 0.011</td> <td>   -0.147</td> <td>   -0.019</td>\n",
       "</tr>\n",
       "<tr>\n",
       "  <th>age</th>                          <td>   -0.2612</td> <td>    0.044</td> <td>   -5.879</td> <td> 0.000</td> <td>   -0.348</td> <td>   -0.174</td>\n",
       "</tr>\n",
       "<tr>\n",
       "  <th>previous_year_rating</th>         <td>    0.3170</td> <td>    0.033</td> <td>    9.747</td> <td> 0.000</td> <td>    0.253</td> <td>    0.381</td>\n",
       "</tr>\n",
       "<tr>\n",
       "  <th>length_of_service</th>            <td>    0.1815</td> <td>    0.039</td> <td>    4.613</td> <td> 0.000</td> <td>    0.104</td> <td>    0.259</td>\n",
       "</tr>\n",
       "<tr>\n",
       "  <th>KPIs_met >80%</th>                <td>    2.4597</td> <td>    0.073</td> <td>   33.483</td> <td> 0.000</td> <td>    2.316</td> <td>    2.604</td>\n",
       "</tr>\n",
       "<tr>\n",
       "  <th>awards_won?</th>                  <td>    2.0061</td> <td>    0.185</td> <td>   10.839</td> <td> 0.000</td> <td>    1.643</td> <td>    2.369</td>\n",
       "</tr>\n",
       "<tr>\n",
       "  <th>avg_training_score</th>           <td>    3.4113</td> <td>    0.104</td> <td>   32.781</td> <td> 0.000</td> <td>    3.207</td> <td>    3.615</td>\n",
       "</tr>\n",
       "<tr>\n",
       "  <th>region_region_2</th>              <td>    0.1126</td> <td>    0.085</td> <td>    1.325</td> <td> 0.185</td> <td>   -0.054</td> <td>    0.279</td>\n",
       "</tr>\n",
       "<tr>\n",
       "  <th>region_region_22</th>             <td>    0.2477</td> <td>    0.094</td> <td>    2.628</td> <td> 0.009</td> <td>    0.063</td> <td>    0.432</td>\n",
       "</tr>\n",
       "<tr>\n",
       "  <th>region_region_7</th>              <td>    0.3408</td> <td>    0.108</td> <td>    3.147</td> <td> 0.002</td> <td>    0.129</td> <td>    0.553</td>\n",
       "</tr>\n",
       "<tr>\n",
       "  <th>region_region_15</th>             <td>   -0.1379</td> <td>    0.140</td> <td>   -0.983</td> <td> 0.325</td> <td>   -0.413</td> <td>    0.137</td>\n",
       "</tr>\n",
       "<tr>\n",
       "  <th>region_region_13</th>             <td>   -0.2034</td> <td>    0.142</td> <td>   -1.435</td> <td> 0.151</td> <td>   -0.481</td> <td>    0.074</td>\n",
       "</tr>\n",
       "<tr>\n",
       "  <th>department_Sales & Marketing</th> <td>    3.7241</td> <td>      nan</td> <td>      nan</td> <td>   nan</td> <td>      nan</td> <td>      nan</td>\n",
       "</tr>\n",
       "<tr>\n",
       "  <th>department_Finance</th>           <td>    0.9087</td> <td>      nan</td> <td>      nan</td> <td>   nan</td> <td>      nan</td> <td>      nan</td>\n",
       "</tr>\n",
       "<tr>\n",
       "  <th>department_Analytics</th>         <td>   -4.0973</td> <td>      nan</td> <td>      nan</td> <td>   nan</td> <td>      nan</td> <td>      nan</td>\n",
       "</tr>\n",
       "<tr>\n",
       "  <th>department_Technology</th>        <td>   -2.7051</td> <td>      nan</td> <td>      nan</td> <td>   nan</td> <td>      nan</td> <td>      nan</td>\n",
       "</tr>\n",
       "<tr>\n",
       "  <th>department_Legal</th>             <td>    0.8258</td> <td>      nan</td> <td>      nan</td> <td>   nan</td> <td>      nan</td> <td>      nan</td>\n",
       "</tr>\n",
       "<tr>\n",
       "  <th>department_Operations</th>        <td>    1.0865</td> <td>      nan</td> <td>      nan</td> <td>   nan</td> <td>      nan</td> <td>      nan</td>\n",
       "</tr>\n",
       "<tr>\n",
       "  <th>department_Procurement</th>       <td>   -1.1898</td> <td>      nan</td> <td>      nan</td> <td>   nan</td> <td>      nan</td> <td>      nan</td>\n",
       "</tr>\n",
       "<tr>\n",
       "  <th>department_R&D</th>               <td>   -4.3530</td> <td>      nan</td> <td>      nan</td> <td>   nan</td> <td>      nan</td> <td>      nan</td>\n",
       "</tr>\n",
       "<tr>\n",
       "  <th>department_HR</th>                <td>    3.1144</td> <td>      nan</td> <td>      nan</td> <td>   nan</td> <td>      nan</td> <td>      nan</td>\n",
       "</tr>\n",
       "<tr>\n",
       "  <th>recruitment_channel_sourcing</th> <td>   -0.8241</td> <td>      nan</td> <td>      nan</td> <td>   nan</td> <td>      nan</td> <td>      nan</td>\n",
       "</tr>\n",
       "<tr>\n",
       "  <th>recruitment_channel_other</th>    <td>   -0.8159</td> <td>      nan</td> <td>      nan</td> <td>   nan</td> <td>      nan</td> <td>      nan</td>\n",
       "</tr>\n",
       "<tr>\n",
       "  <th>recruitment_channel_referred</th> <td>   -1.0457</td> <td>      nan</td> <td>      nan</td> <td>   nan</td> <td>      nan</td> <td>      nan</td>\n",
       "</tr>\n",
       "<tr>\n",
       "  <th>education_Bachelor's</th>         <td>   -0.8492</td> <td>      nan</td> <td>      nan</td> <td>   nan</td> <td>      nan</td> <td>      nan</td>\n",
       "</tr>\n",
       "<tr>\n",
       "  <th>education_Master's & above</th>   <td>   -0.5957</td> <td>      nan</td> <td>      nan</td> <td>   nan</td> <td>      nan</td> <td>      nan</td>\n",
       "</tr>\n",
       "<tr>\n",
       "  <th>education_Below Secondary</th>    <td>   -1.2407</td> <td>      nan</td> <td>      nan</td> <td>   nan</td> <td>      nan</td> <td>      nan</td>\n",
       "</tr>\n",
       "</table>"
      ],
      "text/plain": [
       "<class 'statsmodels.iolib.summary.Summary'>\n",
       "\"\"\"\n",
       "                           Logit Regression Results                           \n",
       "==============================================================================\n",
       "Dep. Variable:            is_promoted   No. Observations:                 7468\n",
       "Model:                          Logit   Df Residuals:                     7441\n",
       "Method:                           MLE   Df Model:                           26\n",
       "Date:                Sat, 11 Feb 2023   Pseudo R-squ.:                  0.3515\n",
       "Time:                        21:46:06   Log-Likelihood:                -3357.0\n",
       "converged:                       True   LL-Null:                       -5176.4\n",
       "Covariance Type:            nonrobust   LLR p-value:                     0.000\n",
       "================================================================================================\n",
       "                                   coef    std err          z      P>|z|      [0.025      0.975]\n",
       "------------------------------------------------------------------------------------------------\n",
       "employee_id                      0.0214      0.030      0.706      0.480      -0.038       0.081\n",
       "gender                          -0.0294      0.070     -0.423      0.672      -0.166       0.107\n",
       "no_of_trainings                 -0.0833      0.033     -2.547      0.011      -0.147      -0.019\n",
       "age                             -0.2612      0.044     -5.879      0.000      -0.348      -0.174\n",
       "previous_year_rating             0.3170      0.033      9.747      0.000       0.253       0.381\n",
       "length_of_service                0.1815      0.039      4.613      0.000       0.104       0.259\n",
       "KPIs_met >80%                    2.4597      0.073     33.483      0.000       2.316       2.604\n",
       "awards_won?                      2.0061      0.185     10.839      0.000       1.643       2.369\n",
       "avg_training_score               3.4113      0.104     32.781      0.000       3.207       3.615\n",
       "region_region_2                  0.1126      0.085      1.325      0.185      -0.054       0.279\n",
       "region_region_22                 0.2477      0.094      2.628      0.009       0.063       0.432\n",
       "region_region_7                  0.3408      0.108      3.147      0.002       0.129       0.553\n",
       "region_region_15                -0.1379      0.140     -0.983      0.325      -0.413       0.137\n",
       "region_region_13                -0.2034      0.142     -1.435      0.151      -0.481       0.074\n",
       "department_Sales & Marketing     3.7241        nan        nan        nan         nan         nan\n",
       "department_Finance               0.9087        nan        nan        nan         nan         nan\n",
       "department_Analytics            -4.0973        nan        nan        nan         nan         nan\n",
       "department_Technology           -2.7051        nan        nan        nan         nan         nan\n",
       "department_Legal                 0.8258        nan        nan        nan         nan         nan\n",
       "department_Operations            1.0865        nan        nan        nan         nan         nan\n",
       "department_Procurement          -1.1898        nan        nan        nan         nan         nan\n",
       "department_R&D                  -4.3530        nan        nan        nan         nan         nan\n",
       "department_HR                    3.1144        nan        nan        nan         nan         nan\n",
       "recruitment_channel_sourcing    -0.8241        nan        nan        nan         nan         nan\n",
       "recruitment_channel_other       -0.8159        nan        nan        nan         nan         nan\n",
       "recruitment_channel_referred    -1.0457        nan        nan        nan         nan         nan\n",
       "education_Bachelor's            -0.8492        nan        nan        nan         nan         nan\n",
       "education_Master's & above      -0.5957        nan        nan        nan         nan         nan\n",
       "education_Below Secondary       -1.2407        nan        nan        nan         nan         nan\n",
       "================================================================================================\n",
       "\"\"\""
      ]
     },
     "execution_count": 28,
     "metadata": {},
     "output_type": "execute_result"
    }
   ],
   "source": [
    "# Print out the Model Summary\n",
    "lg2.summary()"
   ]
  },
  {
   "cell_type": "markdown",
   "metadata": {},
   "source": [
    "### 1.2.2.2. Improve the model - Logistic Regression  <a id=\"1.2.2.1.\"></a>\n",
    "[Back to Top](#top)"
   ]
  },
  {
   "cell_type": "code",
   "execution_count": 29,
   "metadata": {},
   "outputs": [],
   "source": [
    "#Define Model Inputs (X) and Output (y)\n",
    "\n",
    "# Set the \"is_promoted\" as target/model output and the rest features as model inputs\n",
    "x_data_hr_lg3 = x_data_hr.drop(['gender','employee_id'], axis=1)\n",
    "y_data_hr_lg3 = y_data_hr"
   ]
  },
  {
   "cell_type": "code",
   "execution_count": 30,
   "metadata": {},
   "outputs": [],
   "source": [
    "#Split both Inputs (X) and Ouput (y) into training set (80%) and testing set (20%)\n",
    "# Define another set of training data\n",
    "x_train_2nd, x_test_2nd, y_train_2nd, y_test_2nd = train_test_split(x_data_hr_lg3, y_data_hr_lg3, \n",
    "                                                                    test_size=0.2, random_state=999)"
   ]
  },
  {
   "cell_type": "code",
   "execution_count": 31,
   "metadata": {},
   "outputs": [
    {
     "data": {
      "text/plain": [
       "LogisticRegression(max_iter=1000)"
      ]
     },
     "execution_count": 31,
     "metadata": {},
     "output_type": "execute_result"
    }
   ],
   "source": [
    "lg3 = LogisticRegression(solver='lbfgs',max_iter=1000)\n",
    "lg3.fit(x_train_2nd,y_train_2nd)"
   ]
  },
  {
   "cell_type": "code",
   "execution_count": 32,
   "metadata": {},
   "outputs": [
    {
     "name": "stdout",
     "output_type": "stream",
     "text": [
      "0.7708891269416176 (Train Accuracy)\n",
      "0.7917558886509636 (Test Accuracy)\n"
     ]
    }
   ],
   "source": [
    "# calculated the training and testing accuracy\n",
    "print(lg3.score(x_train_2nd, y_train_2nd), '(Train Accuracy)')\n",
    "print(lg3.score(x_test_2nd, y_test_2nd), '(Test Accuracy)')"
   ]
  },
  {
   "cell_type": "code",
   "execution_count": 33,
   "metadata": {
    "scrolled": true
   },
   "outputs": [
    {
     "name": "stdout",
     "output_type": "stream",
     "text": [
      "train_score:  [0.78053026 0.77466863 0.77681082 0.77520418 0.77480252]\n",
      "test_score:  [0.7633833  0.77771826 0.76593465 0.78628816 0.77236208]\n"
     ]
    }
   ],
   "source": [
    "# Evaluate the Model using K-folds Cross validation\n",
    "results = cross_validate(lg3, x_data_hr_lg3, y_data_hr_lg3, scoring='accuracy', cv=5, return_train_score = True)\n",
    "print('train_score: ', results['train_score'])\n",
    "print('test_score: ', results['test_score'])"
   ]
  },
  {
   "cell_type": "code",
   "execution_count": 34,
   "metadata": {},
   "outputs": [
    {
     "name": "stdout",
     "output_type": "stream",
     "text": [
      "cross val training accuracy is: 0.7764032810352779\n",
      "cross val testing accuracy is: 0.7731372915589025\n"
     ]
    }
   ],
   "source": [
    "print('cross val training accuracy is:', sum(results['train_score'])/len(results['train_score']))\n",
    "print('cross val testing accuracy is:', sum(results['test_score'])/len(results['test_score']))"
   ]
  },
  {
   "cell_type": "code",
   "execution_count": 35,
   "metadata": {},
   "outputs": [],
   "source": [
    "# # Add Logistic Regression into Model Comparison\n",
    "new_row_lg2 = {'Model':'Logistic Regression - Improved', 'Training Accuracy':lg3.score(x_train_2nd, y_train_2nd)*100, 'Testing Accuracy':lg3.score(x_test_2nd, y_test_2nd)*100, \n",
    "           'Cross Val Training Accuracy': sum(results['train_score'])/len(results['train_score'])*100, 'Cross Val Testing Accuracy': sum(results['test_score'])/len(results['test_score'])*100}\n",
    "new_df = pd.DataFrame([new_row_lg2])\n",
    "resultOfModels = pd.concat([resultOfModels, new_df], axis=0, ignore_index=True)"
   ]
  },
  {
   "cell_type": "code",
   "execution_count": 36,
   "metadata": {},
   "outputs": [
    {
     "data": {
      "text/html": [
       "<div>\n",
       "<style scoped>\n",
       "    .dataframe tbody tr th:only-of-type {\n",
       "        vertical-align: middle;\n",
       "    }\n",
       "\n",
       "    .dataframe tbody tr th {\n",
       "        vertical-align: top;\n",
       "    }\n",
       "\n",
       "    .dataframe thead th {\n",
       "        text-align: right;\n",
       "    }\n",
       "</style>\n",
       "<table border=\"1\" class=\"dataframe\">\n",
       "  <thead>\n",
       "    <tr style=\"text-align: right;\">\n",
       "      <th></th>\n",
       "      <th>Model</th>\n",
       "      <th>Training Accuracy</th>\n",
       "      <th>Testing Accuracy</th>\n",
       "      <th>Cross Val Training Accuracy</th>\n",
       "      <th>Cross Val Testing Accuracy</th>\n",
       "    </tr>\n",
       "  </thead>\n",
       "  <tbody>\n",
       "    <tr>\n",
       "      <th>0</th>\n",
       "      <td>Naive Baseline</td>\n",
       "      <td>50.147295</td>\n",
       "      <td>49.411135</td>\n",
       "      <td>50.147295</td>\n",
       "      <td>49.411135</td>\n",
       "    </tr>\n",
       "    <tr>\n",
       "      <th>1</th>\n",
       "      <td>Logistic Regression</td>\n",
       "      <td>76.968399</td>\n",
       "      <td>78.961456</td>\n",
       "      <td>77.632294</td>\n",
       "      <td>77.228042</td>\n",
       "    </tr>\n",
       "    <tr>\n",
       "      <th>2</th>\n",
       "      <td>Logistic Regression - Improved</td>\n",
       "      <td>77.088913</td>\n",
       "      <td>79.175589</td>\n",
       "      <td>77.640328</td>\n",
       "      <td>77.313729</td>\n",
       "    </tr>\n",
       "  </tbody>\n",
       "</table>\n",
       "</div>"
      ],
      "text/plain": [
       "                            Model  Training Accuracy  Testing Accuracy  \\\n",
       "0                  Naive Baseline          50.147295         49.411135   \n",
       "1             Logistic Regression          76.968399         78.961456   \n",
       "2  Logistic Regression - Improved          77.088913         79.175589   \n",
       "\n",
       "   Cross Val Training Accuracy  Cross Val Testing Accuracy  \n",
       "0                    50.147295                   49.411135  \n",
       "1                    77.632294                   77.228042  \n",
       "2                    77.640328                   77.313729  "
      ]
     },
     "execution_count": 36,
     "metadata": {},
     "output_type": "execute_result"
    }
   ],
   "source": [
    "resultOfModels"
   ]
  },
  {
   "cell_type": "markdown",
   "metadata": {},
   "source": [
    "### 1.2.3. Multilayer Perceptron (MLP) <a id=\"1.2.3.\"></a>\n",
    "[Back to Top](#top)"
   ]
  },
  {
   "cell_type": "code",
   "execution_count": 37,
   "metadata": {},
   "outputs": [],
   "source": [
    "# Split both Inputs (X) and Ouput (y) into training set (80%) and testing set (20%)\n",
    "x_train, x_test, y_train, y_test = train_test_split(x_data_hr, y_data_hr, test_size=0.2, random_state=999)"
   ]
  },
  {
   "cell_type": "code",
   "execution_count": 38,
   "metadata": {},
   "outputs": [
    {
     "data": {
      "text/plain": [
       "MLPClassifier(activation='logistic', hidden_layer_sizes=(10,), max_iter=2000,\n",
       "              random_state=999, solver='sgd')"
      ]
     },
     "execution_count": 38,
     "metadata": {},
     "output_type": "execute_result"
    }
   ],
   "source": [
    "# Create the ann model\n",
    "mlp = MLPClassifier(activation ='logistic', hidden_layer_sizes=(10,), max_iter= 2000, solver = 'sgd', random_state=999)\n",
    "# Fit the model to the training set\n",
    "mlp.fit(x_train,y_train)"
   ]
  },
  {
   "cell_type": "code",
   "execution_count": 39,
   "metadata": {
    "scrolled": true
   },
   "outputs": [
    {
     "name": "stdout",
     "output_type": "stream",
     "text": [
      "[array([[-2.79775360e-02,  4.02552920e-02, -1.39853574e-01,\n",
      "         2.22169309e-02, -1.88820325e-01, -8.34344242e-02,\n",
      "        -6.97872174e-03,  9.46125516e-03,  5.67275950e-02,\n",
      "         4.57008997e-02],\n",
      "       [ 1.17922653e-01, -2.15799948e-01, -7.83264298e-02,\n",
      "         4.32962797e-02,  1.65370335e-01, -1.44122504e-01,\n",
      "         1.42123066e-01, -3.00041377e-02,  1.22937899e-01,\n",
      "         4.49222923e-02],\n",
      "       [-7.05172237e-02,  3.76685542e-02, -1.91652034e-01,\n",
      "         2.60241508e-02, -6.02337671e-02,  1.06719726e-02,\n",
      "         8.63329740e-02, -1.45014045e-01,  3.82371148e-02,\n",
      "         7.59363137e-02],\n",
      "       [-1.77726428e-01,  8.04637075e-02, -1.08946879e-01,\n",
      "         9.88907045e-02, -1.40184461e-01, -7.17609771e-02,\n",
      "         8.17531174e-02, -2.23823982e-01,  1.34841936e-01,\n",
      "         1.84024473e-01],\n",
      "       [ 3.13529745e-01,  2.04393608e-01,  8.14033970e-02,\n",
      "        -4.75451140e-02, -3.47825284e-02, -6.54359960e-04,\n",
      "         6.70478840e-02,  2.41791720e-01,  9.67276626e-02,\n",
      "        -1.17811399e-01],\n",
      "       [ 1.09034802e-01,  1.41920634e-01,  2.69204585e-01,\n",
      "        -9.64477090e-02,  9.69173421e-03,  4.82974307e-02,\n",
      "        -5.13051606e-02,  4.98039122e-02,  8.85110880e-02,\n",
      "        -1.72080382e-02],\n",
      "       [ 1.25128814e+00,  5.25851405e-01,  3.02669655e-01,\n",
      "        -7.64462107e-01, -4.27692577e-01, -1.93787500e-01,\n",
      "         4.09331621e-01,  9.55131075e-01,  6.50656126e-02,\n",
      "        -8.90608910e-01],\n",
      "       [ 8.06125323e-01,  6.13427844e-01,  1.47438827e-01,\n",
      "        -6.95424797e-01, -1.09271573e-01, -3.43755120e-01,\n",
      "         3.62994633e-01,  5.27919499e-01,  1.68121604e-01,\n",
      "        -6.90186584e-01],\n",
      "       [ 8.94413387e-01,  5.56594392e-01,  7.54367384e-02,\n",
      "        -8.84362573e-01, -2.55311589e-01, -4.89987366e-01,\n",
      "         3.90387531e-01,  6.84147570e-01,  9.44534540e-02,\n",
      "        -7.48415138e-01],\n",
      "       [ 1.92408612e-01,  6.31779304e-02,  6.02775669e-02,\n",
      "         6.38970582e-03,  9.61570277e-02, -9.94276507e-02,\n",
      "         6.63994954e-02,  7.36991111e-02,  1.55066690e-01,\n",
      "        -6.33402289e-02],\n",
      "       [ 3.88595108e-01, -7.89095979e-02,  1.93274983e-01,\n",
      "        -1.82489558e-01,  1.19850016e-01,  3.59986611e-02,\n",
      "        -6.17303980e-02,  1.54718220e-01,  3.78705894e-02,\n",
      "        -1.23474288e-02],\n",
      "       [ 2.14720193e-01,  2.69600838e-01, -1.31230859e-01,\n",
      "        -2.29121084e-01,  2.92555760e-02, -9.03872385e-02,\n",
      "         1.07560134e-01,  1.38914139e-01, -1.33861426e-02,\n",
      "         6.59148364e-03],\n",
      "       [ 1.33350981e-01, -1.92842395e-01,  7.72562337e-02,\n",
      "         6.65461382e-02,  4.77292180e-02, -1.42679126e-01,\n",
      "         4.58406458e-02,  1.30291782e-01, -7.46482802e-02,\n",
      "         2.79514297e-01],\n",
      "       [-1.08915545e-01, -1.95869200e-01, -1.95935537e-01,\n",
      "         1.14862363e-01,  2.75026951e-02, -1.64320211e-01,\n",
      "        -5.75651285e-03,  9.69111766e-02,  1.96466571e-01,\n",
      "         5.18736407e-03],\n",
      "       [ 7.56312913e-01,  5.12251481e-01,  3.41991874e-01,\n",
      "        -1.12944535e+00, -5.45542456e-01, -2.96152899e-01,\n",
      "         3.34403899e-01,  6.52291124e-01,  8.75337553e-02,\n",
      "        -7.59573691e-01],\n",
      "       [ 6.46355326e-02,  1.33686601e-02, -2.78496574e-02,\n",
      "        -2.96154657e-01, -2.03306675e-01, -1.91771025e-03,\n",
      "         2.65017922e-01, -9.73461533e-02, -1.66142776e-01,\n",
      "         9.94505002e-03],\n",
      "       [-5.03087594e-01, -2.53286135e-01, -3.16682010e-01,\n",
      "         1.18867058e+00,  1.90195456e-01,  5.09556205e-01,\n",
      "        -1.24782772e-01, -5.35636829e-01, -4.60302582e-02,\n",
      "         8.70118150e-01],\n",
      "       [-2.74294378e-01, -5.72115275e-02, -2.87047104e-01,\n",
      "         4.37648565e-01,  3.08224315e-01,  3.00450415e-01,\n",
      "        -2.57155789e-01, -5.17342696e-01,  3.80329442e-02,\n",
      "         5.92704577e-01],\n",
      "       [-2.70447192e-02,  6.96418188e-02,  1.02273872e-02,\n",
      "         1.92305996e-01,  1.40375549e-01, -4.99996449e-02,\n",
      "         1.77382723e-01, -1.07996640e-01,  2.02568829e-02,\n",
      "        -1.12527530e-01],\n",
      "       [ 2.10216766e-01,  9.34542266e-02,  2.63751839e-01,\n",
      "        -2.16048182e-01, -1.66896889e-01, -1.80817785e-01,\n",
      "         8.58973720e-02,  1.23331733e-01,  1.61760533e-01,\n",
      "        -3.56960010e-01],\n",
      "       [-3.04224929e-01, -1.01293750e-01, -8.29493531e-02,\n",
      "         2.95662328e-01, -1.27423410e-01,  2.77367300e-01,\n",
      "         3.50957172e-02, -2.89599977e-01, -1.89178485e-01,\n",
      "         2.14052917e-01],\n",
      "       [-1.46952516e-01, -3.08320703e-01, -1.72617901e-01,\n",
      "         2.77520229e-01,  6.01626995e-02, -3.10742894e-02,\n",
      "        -1.13965767e-01, -4.84373549e-01,  1.09250906e-01,\n",
      "         4.95443946e-01],\n",
      "       [ 1.21302893e-01,  6.78370661e-02, -7.88960805e-02,\n",
      "        -3.91283861e-01,  6.76562082e-02, -3.00607544e-01,\n",
      "         3.04299546e-01,  2.39902418e-01, -1.06155305e-01,\n",
      "        -2.16161922e-01],\n",
      "       [-8.14271685e-02, -7.29693176e-02,  1.49667819e-01,\n",
      "        -1.11319781e-02, -1.28438922e-01, -9.04518592e-02,\n",
      "        -1.40479183e-01, -7.01275317e-02, -6.74896452e-02,\n",
      "         1.13987054e-01],\n",
      "       [-9.30819381e-02,  9.16576645e-02, -2.01348302e-01,\n",
      "         1.40294176e-01,  8.00331945e-02,  9.01587195e-02,\n",
      "         3.48590928e-02,  1.50867872e-01, -1.31170947e-01,\n",
      "        -7.33707207e-02],\n",
      "       [-3.45871043e-02,  2.82198052e-02,  1.02530266e-01,\n",
      "         1.30283173e-01,  1.57964204e-01, -1.69075125e-01,\n",
      "        -5.33922508e-03,  2.34250687e-01, -4.99156649e-02,\n",
      "         1.68475888e-01],\n",
      "       [-2.60905334e-03, -1.26370643e-02, -1.87241665e-01,\n",
      "         1.68463080e-01, -1.42463646e-01, -6.59322455e-03,\n",
      "        -1.92713395e-01,  6.27381190e-02,  1.71320853e-01,\n",
      "         8.52432832e-02],\n",
      "       [-9.39511710e-02,  1.03453038e-01,  1.81584167e-01,\n",
      "         1.95733393e-01,  4.34808340e-02, -1.65307698e-01,\n",
      "         1.91527098e-01,  1.62101582e-01, -6.37417281e-02,\n",
      "        -8.37416875e-02],\n",
      "       [-2.31466611e-02, -1.19300476e-01,  1.80885845e-01,\n",
      "        -8.27851586e-02,  1.48945740e-02,  3.75780145e-02,\n",
      "        -1.78181882e-01,  2.81695209e-02, -2.06210096e-01,\n",
      "         9.21874574e-02]]), array([[ 1.87061181e+00],\n",
      "       [ 1.08134859e+00],\n",
      "       [ 4.74895826e-01],\n",
      "       [-2.60152787e+00],\n",
      "       [-8.61334901e-01],\n",
      "       [-1.07880726e+00],\n",
      "       [ 7.05283775e-01],\n",
      "       [ 1.55765707e+00],\n",
      "       [-1.52807341e-03],\n",
      "       [-2.15239614e+00]])]\n",
      "[array([ 0.13375857,  0.07740818, -0.21049781,  0.03703282,  0.05203252,\n",
      "        0.15396585, -0.09475102, -0.02558041, -0.09376255, -0.07410071]), array([-0.76270669])]\n"
     ]
    }
   ],
   "source": [
    "# print out the model coefficients and intercept\n",
    "print(mlp.coefs_)\n",
    "print(mlp.intercepts_)"
   ]
  },
  {
   "cell_type": "code",
   "execution_count": 40,
   "metadata": {},
   "outputs": [
    {
     "name": "stdout",
     "output_type": "stream",
     "text": [
      "0.7686127477236208 (Train Accuracy)\n",
      "0.7815845824411135 (Test Accuracy)\n"
     ]
    }
   ],
   "source": [
    "# calculated the training & testing accuracy\n",
    "print(mlp.score(x_train, y_train), '(Train Accuracy)')\n",
    "print(mlp.score(x_test, y_test), '(Test Accuracy)')"
   ]
  },
  {
   "cell_type": "code",
   "execution_count": 41,
   "metadata": {},
   "outputs": [],
   "source": [
    "# Calculated the fitted values for training set\n",
    "y_fitted = mlp.predict(x_train) # returns 0 or 1\n",
    "y_fitted_prob = mlp.predict_proba(x_train)[:,0] # returns probabilities"
   ]
  },
  {
   "cell_type": "code",
   "execution_count": 42,
   "metadata": {},
   "outputs": [
    {
     "name": "stdout",
     "output_type": "stream",
     "text": [
      "[1 1 1 ... 0 0 1]\n",
      "[0.08609708 0.3472881  0.22100382 ... 0.6890616  0.85633338 0.38054508]\n"
     ]
    }
   ],
   "source": [
    "print(y_fitted)\n",
    "print(y_fitted_prob)"
   ]
  },
  {
   "cell_type": "code",
   "execution_count": 43,
   "metadata": {},
   "outputs": [
    {
     "name": "stdout",
     "output_type": "stream",
     "text": [
      "train_score:  [0.77196036 0.76917927 0.76958093 0.76636765 0.76864373]\n",
      "test_score:  [0.76284797 0.76379218 0.7702196  0.76754151 0.76968399]\n",
      "cross val training accuracy is: 0.7691463906912364\n",
      "cross val testing accuracy is: 0.7668170489592139\n"
     ]
    }
   ],
   "source": [
    "results = cross_validate(mlp, x_data_hr, y_data_hr, scoring='accuracy', cv=5, return_train_score = True)\n",
    "print('train_score: ', results['train_score'])\n",
    "print('test_score: ', results['test_score'])\n",
    "print('cross val training accuracy is:', sum(results['train_score'])/len(results['train_score']))\n",
    "print('cross val testing accuracy is:', sum(results['test_score'])/len(results['test_score']))"
   ]
  },
  {
   "cell_type": "code",
   "execution_count": 44,
   "metadata": {},
   "outputs": [],
   "source": [
    "# Add MLP Classifer into Model Comparison\n",
    "new_row_mlp = {'Model':'MLPClassifier', 'Training Accuracy':mlp.score(x_train, y_train)*100, 'Testing Accuracy':mlp.score(x_test, y_test)*100, \n",
    "           'Cross Val Training Accuracy': sum(results['train_score'])/len(results['train_score'])*100, 'Cross Val Testing Accuracy': sum(results['test_score'])/len(results['test_score'])*100}\n",
    "new_df = pd.DataFrame([new_row_mlp])\n",
    "resultOfModels = pd.concat([resultOfModels, new_df], axis=0, ignore_index=True) "
   ]
  },
  {
   "cell_type": "code",
   "execution_count": 45,
   "metadata": {},
   "outputs": [
    {
     "data": {
      "text/html": [
       "<div>\n",
       "<style scoped>\n",
       "    .dataframe tbody tr th:only-of-type {\n",
       "        vertical-align: middle;\n",
       "    }\n",
       "\n",
       "    .dataframe tbody tr th {\n",
       "        vertical-align: top;\n",
       "    }\n",
       "\n",
       "    .dataframe thead th {\n",
       "        text-align: right;\n",
       "    }\n",
       "</style>\n",
       "<table border=\"1\" class=\"dataframe\">\n",
       "  <thead>\n",
       "    <tr style=\"text-align: right;\">\n",
       "      <th></th>\n",
       "      <th>Model</th>\n",
       "      <th>Training Accuracy</th>\n",
       "      <th>Testing Accuracy</th>\n",
       "      <th>Cross Val Training Accuracy</th>\n",
       "      <th>Cross Val Testing Accuracy</th>\n",
       "    </tr>\n",
       "  </thead>\n",
       "  <tbody>\n",
       "    <tr>\n",
       "      <th>0</th>\n",
       "      <td>Naive Baseline</td>\n",
       "      <td>50.147295</td>\n",
       "      <td>49.411135</td>\n",
       "      <td>50.147295</td>\n",
       "      <td>49.411135</td>\n",
       "    </tr>\n",
       "    <tr>\n",
       "      <th>1</th>\n",
       "      <td>Logistic Regression</td>\n",
       "      <td>76.968399</td>\n",
       "      <td>78.961456</td>\n",
       "      <td>77.632294</td>\n",
       "      <td>77.228042</td>\n",
       "    </tr>\n",
       "    <tr>\n",
       "      <th>2</th>\n",
       "      <td>Logistic Regression - Improved</td>\n",
       "      <td>77.088913</td>\n",
       "      <td>79.175589</td>\n",
       "      <td>77.640328</td>\n",
       "      <td>77.313729</td>\n",
       "    </tr>\n",
       "    <tr>\n",
       "      <th>3</th>\n",
       "      <td>MLPClassifier</td>\n",
       "      <td>76.861275</td>\n",
       "      <td>78.158458</td>\n",
       "      <td>76.914639</td>\n",
       "      <td>76.681705</td>\n",
       "    </tr>\n",
       "  </tbody>\n",
       "</table>\n",
       "</div>"
      ],
      "text/plain": [
       "                            Model  Training Accuracy  Testing Accuracy  \\\n",
       "0                  Naive Baseline          50.147295         49.411135   \n",
       "1             Logistic Regression          76.968399         78.961456   \n",
       "2  Logistic Regression - Improved          77.088913         79.175589   \n",
       "3                   MLPClassifier          76.861275         78.158458   \n",
       "\n",
       "   Cross Val Training Accuracy  Cross Val Testing Accuracy  \n",
       "0                    50.147295                   49.411135  \n",
       "1                    77.632294                   77.228042  \n",
       "2                    77.640328                   77.313729  \n",
       "3                    76.914639                   76.681705  "
      ]
     },
     "execution_count": 45,
     "metadata": {},
     "output_type": "execute_result"
    }
   ],
   "source": [
    "resultOfModels"
   ]
  },
  {
   "cell_type": "markdown",
   "metadata": {},
   "source": [
    "### 1.2.3.1. GridSearch Artificial Neural Networks <a id=\"1.2.3.1.\"></a>\n",
    "[Back to Top](#top)"
   ]
  },
  {
   "cell_type": "code",
   "execution_count": 46,
   "metadata": {},
   "outputs": [
    {
     "name": "stdout",
     "output_type": "stream",
     "text": [
      "0.8028927147374126\n",
      "{'activation': 'relu', 'hidden_layer_sizes': (5,), 'max_iter': 200, 'solver': 'adam'}\n"
     ]
    },
    {
     "name": "stderr",
     "output_type": "stream",
     "text": [
      "C:\\ProgramData\\Anaconda3\\lib\\site-packages\\sklearn\\neural_network\\_multilayer_perceptron.py:692: ConvergenceWarning: Stochastic Optimizer: Maximum iterations (200) reached and the optimization hasn't converged yet.\n",
      "  warnings.warn(\n"
     ]
    }
   ],
   "source": [
    "# Use GridSearch to find the best combination of model hyperparameters\n",
    "mlp = MLPClassifier(random_state=999)\n",
    "param_grid = { \"activation\" : [\"logistic\", \"relu\"],\n",
    " \"hidden_layer_sizes\" : [(5,), (10,), (20,)],\n",
    " \"max_iter\" : [200, 2000, 4000],\n",
    " \"solver\" : [\"sgd\", \"adam\"]}\n",
    "\n",
    "gs = GridSearchCV(mlp, param_grid=param_grid, scoring='accuracy', cv= 10, n_jobs=-1)\n",
    "# cv: number of partitions for cross validation\n",
    "# n_jobs: number of jobs to run in parallel, -1 means using all processors\n",
    "gs = gs.fit(x_train, y_train)\n",
    "\n",
    "print(gs.best_score_)\n",
    "print(gs.best_params_)"
   ]
  },
  {
   "attachments": {
    "ANN%20GridSearch%20-%20Code.PNG": {
     "image/png": "[encoded data removed]"
    }
   },
   "cell_type": "markdown",
   "metadata": {},
   "source": [
    "![ANN%20GridSearch%20-%20Code.PNG](attachment:ANN%20GridSearch%20-%20Code.PNG)"
   ]
  },
  {
   "cell_type": "code",
   "execution_count": 47,
   "metadata": {},
   "outputs": [
    {
     "data": {
      "text/plain": [
       "MLPClassifier(activation='logistic', hidden_layer_sizes=(5,), max_iter=2000,\n",
       "              random_state=999)"
      ]
     },
     "execution_count": 47,
     "metadata": {},
     "output_type": "execute_result"
    }
   ],
   "source": [
    "# Build the model using the above suggested hyperparameter values\n",
    "mlp2 = MLPClassifier(activation ='logistic', hidden_layer_sizes=(5,), max_iter=2000, solver ='adam', random_state=999)\n",
    "mlp2.fit(x_train,y_train)"
   ]
  },
  {
   "cell_type": "code",
   "execution_count": 48,
   "metadata": {},
   "outputs": [
    {
     "name": "stdout",
     "output_type": "stream",
     "text": [
      "0.811194429566149 (Train Accuracy)\n",
      "0.8046038543897216 (Test Accuracy)\n"
     ]
    }
   ],
   "source": [
    "#Evaluate the model: train acc & test acc\n",
    "print(mlp2.score(x_train, y_train), '(Train Accuracy)')\n",
    "print(mlp2.score(x_test, y_test), '(Test Accuracy)')"
   ]
  },
  {
   "cell_type": "code",
   "execution_count": 49,
   "metadata": {},
   "outputs": [
    {
     "name": "stdout",
     "output_type": "stream",
     "text": [
      "train_score:  [0.81132833 0.80947918 0.81055027 0.80840809 0.80974695]\n",
      "test_score:  [0.79657388 0.80235672 0.80557043 0.80557043 0.80503482]\n",
      "cross val training accuracy is: 0.8099025660284971\n",
      "cross val testing accuracy is: 0.803021256146138\n"
     ]
    }
   ],
   "source": [
    "results = cross_validate(mlp2, x_data_hr, y_data_hr, scoring='accuracy', cv=5, return_train_score = True)\n",
    "print('train_score: ', results['train_score'])\n",
    "print('test_score: ', results['test_score'])\n",
    "print('cross val training accuracy is:', sum(results['train_score'])/len(results['train_score']))\n",
    "print('cross val testing accuracy is:', sum(results['test_score'])/len(results['test_score']))"
   ]
  },
  {
   "cell_type": "code",
   "execution_count": 50,
   "metadata": {},
   "outputs": [],
   "source": [
    "# Add MLP Classifer GSCV into Model Comparison\n",
    "new_row_mlp2 = {'Model':'MLPClassifier - GridSearchCV', 'Training Accuracy':mlp2.score(x_train, y_train)*100, 'Testing Accuracy':mlp2.score(x_test, y_test)*100, \n",
    "           'Cross Val Training Accuracy': sum(results['train_score'])/len(results['train_score'])*100, 'Cross Val Testing Accuracy': sum(results['test_score'])/len(results['test_score'])*100}\n",
    "new_df = pd.DataFrame([new_row_mlp2])\n",
    "resultOfModels = pd.concat([resultOfModels, new_df], axis=0, ignore_index=True) "
   ]
  },
  {
   "cell_type": "code",
   "execution_count": 51,
   "metadata": {},
   "outputs": [
    {
     "data": {
      "text/html": [
       "<div>\n",
       "<style scoped>\n",
       "    .dataframe tbody tr th:only-of-type {\n",
       "        vertical-align: middle;\n",
       "    }\n",
       "\n",
       "    .dataframe tbody tr th {\n",
       "        vertical-align: top;\n",
       "    }\n",
       "\n",
       "    .dataframe thead th {\n",
       "        text-align: right;\n",
       "    }\n",
       "</style>\n",
       "<table border=\"1\" class=\"dataframe\">\n",
       "  <thead>\n",
       "    <tr style=\"text-align: right;\">\n",
       "      <th></th>\n",
       "      <th>Model</th>\n",
       "      <th>Training Accuracy</th>\n",
       "      <th>Testing Accuracy</th>\n",
       "      <th>Cross Val Training Accuracy</th>\n",
       "      <th>Cross Val Testing Accuracy</th>\n",
       "    </tr>\n",
       "  </thead>\n",
       "  <tbody>\n",
       "    <tr>\n",
       "      <th>0</th>\n",
       "      <td>Naive Baseline</td>\n",
       "      <td>50.147295</td>\n",
       "      <td>49.411135</td>\n",
       "      <td>50.147295</td>\n",
       "      <td>49.411135</td>\n",
       "    </tr>\n",
       "    <tr>\n",
       "      <th>1</th>\n",
       "      <td>Logistic Regression</td>\n",
       "      <td>76.968399</td>\n",
       "      <td>78.961456</td>\n",
       "      <td>77.632294</td>\n",
       "      <td>77.228042</td>\n",
       "    </tr>\n",
       "    <tr>\n",
       "      <th>2</th>\n",
       "      <td>Logistic Regression - Improved</td>\n",
       "      <td>77.088913</td>\n",
       "      <td>79.175589</td>\n",
       "      <td>77.640328</td>\n",
       "      <td>77.313729</td>\n",
       "    </tr>\n",
       "    <tr>\n",
       "      <th>3</th>\n",
       "      <td>MLPClassifier</td>\n",
       "      <td>76.861275</td>\n",
       "      <td>78.158458</td>\n",
       "      <td>76.914639</td>\n",
       "      <td>76.681705</td>\n",
       "    </tr>\n",
       "    <tr>\n",
       "      <th>4</th>\n",
       "      <td>MLPClassifier - GridSearchCV</td>\n",
       "      <td>81.119443</td>\n",
       "      <td>80.460385</td>\n",
       "      <td>80.990257</td>\n",
       "      <td>80.302126</td>\n",
       "    </tr>\n",
       "  </tbody>\n",
       "</table>\n",
       "</div>"
      ],
      "text/plain": [
       "                            Model  Training Accuracy  Testing Accuracy  \\\n",
       "0                  Naive Baseline          50.147295         49.411135   \n",
       "1             Logistic Regression          76.968399         78.961456   \n",
       "2  Logistic Regression - Improved          77.088913         79.175589   \n",
       "3                   MLPClassifier          76.861275         78.158458   \n",
       "4    MLPClassifier - GridSearchCV          81.119443         80.460385   \n",
       "\n",
       "   Cross Val Training Accuracy  Cross Val Testing Accuracy  \n",
       "0                    50.147295                   49.411135  \n",
       "1                    77.632294                   77.228042  \n",
       "2                    77.640328                   77.313729  \n",
       "3                    76.914639                   76.681705  \n",
       "4                    80.990257                   80.302126  "
      ]
     },
     "execution_count": 51,
     "metadata": {},
     "output_type": "execute_result"
    }
   ],
   "source": [
    "resultOfModels"
   ]
  },
  {
   "cell_type": "markdown",
   "metadata": {},
   "source": [
    "### 1.2.4. Decision Tree  <a id=\"1.2.4.\"></a>\n",
    "[Back to Top](#top)"
   ]
  },
  {
   "cell_type": "code",
   "execution_count": 52,
   "metadata": {},
   "outputs": [],
   "source": [
    "# Split both Inputs (X) and Ouput (y) into training set (80%) and testing set (20%)\n",
    "x_train, x_test, y_train, y_test = train_test_split(x_data_hr, y_data_hr, test_size=0.2, random_state=9)"
   ]
  },
  {
   "cell_type": "code",
   "execution_count": 53,
   "metadata": {},
   "outputs": [
    {
     "data": {
      "text/plain": [
       "DecisionTreeClassifier(max_depth=2)"
      ]
     },
     "execution_count": 53,
     "metadata": {},
     "output_type": "execute_result"
    }
   ],
   "source": [
    "# Create Decision Tree Model\n",
    "decision_tree = tree.DecisionTreeClassifier(max_depth = 2)\n",
    "decision_tree.fit(x_train, y_train)"
   ]
  },
  {
   "cell_type": "code",
   "execution_count": 54,
   "metadata": {},
   "outputs": [
    {
     "name": "stdout",
     "output_type": "stream",
     "text": [
      "the training accuracy is:  0.68626138189609\n",
      "the testing accuracy is:  0.6895074946466809\n"
     ]
    }
   ],
   "source": [
    "#training acc\n",
    "train_acc = decision_tree.score(x_train, y_train)\n",
    "print('the training accuracy is: ', train_acc)\n",
    "#testing acc\n",
    "test_acc = decision_tree.score(x_test, y_test)\n",
    "print('the testing accuracy is: ', test_acc)"
   ]
  },
  {
   "cell_type": "code",
   "execution_count": 55,
   "metadata": {},
   "outputs": [
    {
     "name": "stdout",
     "output_type": "stream",
     "text": [
      "train_score:  [0.68760043 0.68697282 0.68643727 0.68857946 0.68496452]\n",
      "test_score:  [0.68415418 0.6866631  0.68880557 0.68023567 0.69469738]\n"
     ]
    }
   ],
   "source": [
    "# Evaluate the Model using K-folds Cross validation\n",
    "results = cross_validate(decision_tree, x_data_hr, y_data_hr, scoring='accuracy', cv=5, return_train_score = True)\n",
    "print('train_score: ', results['train_score'])\n",
    "print('test_score: ', results['test_score'])"
   ]
  },
  {
   "cell_type": "code",
   "execution_count": 56,
   "metadata": {},
   "outputs": [
    {
     "name": "stdout",
     "output_type": "stream",
     "text": [
      "cross val training accuracy is: 0.6869109010691792\n",
      "cross val testing accuracy is: 0.6869111779137024\n"
     ]
    }
   ],
   "source": [
    "print('cross val training accuracy is:', sum(results['train_score'])/len(results['train_score']))\n",
    "print('cross val testing accuracy is:', sum(results['test_score'])/len(results['test_score']))"
   ]
  },
  {
   "cell_type": "code",
   "execution_count": 57,
   "metadata": {},
   "outputs": [],
   "source": [
    "# Add decision tree into Model Comparison\n",
    "new_row_dtree1 = {'Model':'DecisionTreeClassifier', 'Training Accuracy':decision_tree.score(x_train, y_train)*100, 'Testing Accuracy':decision_tree.score(x_test, y_test)*100, \n",
    "           'Cross Val Training Accuracy': sum(results['train_score'])/len(results['train_score'])*100, 'Cross Val Testing Accuracy': sum(results['test_score'])/len(results['test_score'])*100}\n",
    "new_df = pd.DataFrame([new_row_dtree1])\n",
    "resultOfModels = pd.concat([resultOfModels, new_df], axis=0, ignore_index=True) "
   ]
  },
  {
   "cell_type": "code",
   "execution_count": 58,
   "metadata": {},
   "outputs": [
    {
     "data": {
      "text/html": [
       "<div>\n",
       "<style scoped>\n",
       "    .dataframe tbody tr th:only-of-type {\n",
       "        vertical-align: middle;\n",
       "    }\n",
       "\n",
       "    .dataframe tbody tr th {\n",
       "        vertical-align: top;\n",
       "    }\n",
       "\n",
       "    .dataframe thead th {\n",
       "        text-align: right;\n",
       "    }\n",
       "</style>\n",
       "<table border=\"1\" class=\"dataframe\">\n",
       "  <thead>\n",
       "    <tr style=\"text-align: right;\">\n",
       "      <th></th>\n",
       "      <th>Model</th>\n",
       "      <th>Training Accuracy</th>\n",
       "      <th>Testing Accuracy</th>\n",
       "      <th>Cross Val Training Accuracy</th>\n",
       "      <th>Cross Val Testing Accuracy</th>\n",
       "    </tr>\n",
       "  </thead>\n",
       "  <tbody>\n",
       "    <tr>\n",
       "      <th>0</th>\n",
       "      <td>Naive Baseline</td>\n",
       "      <td>50.147295</td>\n",
       "      <td>49.411135</td>\n",
       "      <td>50.147295</td>\n",
       "      <td>49.411135</td>\n",
       "    </tr>\n",
       "    <tr>\n",
       "      <th>1</th>\n",
       "      <td>Logistic Regression</td>\n",
       "      <td>76.968399</td>\n",
       "      <td>78.961456</td>\n",
       "      <td>77.632294</td>\n",
       "      <td>77.228042</td>\n",
       "    </tr>\n",
       "    <tr>\n",
       "      <th>2</th>\n",
       "      <td>Logistic Regression - Improved</td>\n",
       "      <td>77.088913</td>\n",
       "      <td>79.175589</td>\n",
       "      <td>77.640328</td>\n",
       "      <td>77.313729</td>\n",
       "    </tr>\n",
       "    <tr>\n",
       "      <th>3</th>\n",
       "      <td>MLPClassifier</td>\n",
       "      <td>76.861275</td>\n",
       "      <td>78.158458</td>\n",
       "      <td>76.914639</td>\n",
       "      <td>76.681705</td>\n",
       "    </tr>\n",
       "    <tr>\n",
       "      <th>4</th>\n",
       "      <td>MLPClassifier - GridSearchCV</td>\n",
       "      <td>81.119443</td>\n",
       "      <td>80.460385</td>\n",
       "      <td>80.990257</td>\n",
       "      <td>80.302126</td>\n",
       "    </tr>\n",
       "    <tr>\n",
       "      <th>5</th>\n",
       "      <td>DecisionTreeClassifier</td>\n",
       "      <td>68.626138</td>\n",
       "      <td>68.950749</td>\n",
       "      <td>68.691090</td>\n",
       "      <td>68.691118</td>\n",
       "    </tr>\n",
       "  </tbody>\n",
       "</table>\n",
       "</div>"
      ],
      "text/plain": [
       "                            Model  Training Accuracy  Testing Accuracy  \\\n",
       "0                  Naive Baseline          50.147295         49.411135   \n",
       "1             Logistic Regression          76.968399         78.961456   \n",
       "2  Logistic Regression - Improved          77.088913         79.175589   \n",
       "3                   MLPClassifier          76.861275         78.158458   \n",
       "4    MLPClassifier - GridSearchCV          81.119443         80.460385   \n",
       "5          DecisionTreeClassifier          68.626138         68.950749   \n",
       "\n",
       "   Cross Val Training Accuracy  Cross Val Testing Accuracy  \n",
       "0                    50.147295                   49.411135  \n",
       "1                    77.632294                   77.228042  \n",
       "2                    77.640328                   77.313729  \n",
       "3                    76.914639                   76.681705  \n",
       "4                    80.990257                   80.302126  \n",
       "5                    68.691090                   68.691118  "
      ]
     },
     "execution_count": 58,
     "metadata": {},
     "output_type": "execute_result"
    }
   ],
   "source": [
    "resultOfModels"
   ]
  },
  {
   "cell_type": "code",
   "execution_count": 59,
   "metadata": {},
   "outputs": [
    {
     "data": {
      "image/png": "[encoded data removed]",
      "text/plain": [
       "<Figure size 2500x1000 with 1 Axes>"
      ]
     },
     "metadata": {},
     "output_type": "display_data"
    }
   ],
   "source": [
    "plt.figure(figsize=(25,10))\n",
    "tree.plot_tree(decision_tree,\n",
    "              feature_names = list(data_hr.drop(['is_promoted'], axis=1)),\n",
    "                class_names = ['promoted', 'not_promoted'],\n",
    "                rounded = True,\n",
    "                filled= True)\n",
    "plt.show() "
   ]
  },
  {
   "cell_type": "markdown",
   "metadata": {},
   "source": [
    "### 1.2.4.1. GridSearch Decision Tree Model <a id=\"1.2.4.1.\"></a>\n",
    "[Back to Top](#top)"
   ]
  },
  {
   "cell_type": "code",
   "execution_count": 60,
   "metadata": {},
   "outputs": [
    {
     "name": "stdout",
     "output_type": "stream",
     "text": [
      "0.7951337073046431\n",
      "{'criterion': 'entropy', 'max_depth': 10, 'min_samples_leaf': 1, 'min_samples_split': 4}\n"
     ]
    }
   ],
   "source": [
    "# Use GridSearch to find the best combination of model hyperparameters\n",
    "dt = tree.DecisionTreeClassifier(random_state=999)\n",
    "param_grid = { \"criterion\" : [\"gini\", \"entropy\"],\n",
    "     \"min_samples_leaf\" : [1, 5, 10],\n",
    "     \"min_samples_split\" : [2, 4, 10, 12, 16],\n",
    "     'max_depth' : [2,3,4,5,6,7,8,9,10,11,12,13,14,15]}\n",
    "gs = GridSearchCV(dt, param_grid=param_grid, scoring='accuracy', cv= 10, n_jobs=-1)\n",
    "# cv: number of partitions for cross validation\n",
    "# n_jobs: number of jobs to run in parallel, -1 means using all processors\n",
    "gs = gs.fit(x_train, y_train) #\n",
    "print(gs.best_score_)\n",
    "print(gs.best_params_)"
   ]
  },
  {
   "cell_type": "code",
   "execution_count": 61,
   "metadata": {},
   "outputs": [
    {
     "data": {
      "text/plain": [
       "DecisionTreeClassifier(criterion='entropy', max_depth=10, min_samples_split=4,\n",
       "                       random_state=999)"
      ]
     },
     "execution_count": 61,
     "metadata": {},
     "output_type": "execute_result"
    }
   ],
   "source": [
    "# Create Decision Tree using the best hyperparameters\n",
    "decision_tree2 = tree.DecisionTreeClassifier(criterion='entropy',max_depth = 10,min_samples_leaf = 1,min_samples_split =4,\n",
    "     random_state=999)\n",
    "decision_tree2.fit(x_train, y_train)"
   ]
  },
  {
   "cell_type": "code",
   "execution_count": 62,
   "metadata": {},
   "outputs": [
    {
     "name": "stdout",
     "output_type": "stream",
     "text": [
      "the training accuracy is:  0.8216389930369576\n",
      "the testing accuracy is:  0.8029978586723768\n"
     ]
    }
   ],
   "source": [
    "#Evaluate the Model\n",
    "train_acc = decision_tree2.score(x_train, y_train)\n",
    "print('the training accuracy is: ', train_acc)\n",
    "test_acc = decision_tree2.score(x_test, y_test)\n",
    "print('the testing accuracy is: ', test_acc)"
   ]
  },
  {
   "cell_type": "code",
   "execution_count": 63,
   "metadata": {},
   "outputs": [
    {
     "name": "stdout",
     "output_type": "stream",
     "text": [
      "train_score:  [0.82953937 0.82675057 0.82661668 0.82982996 0.83170438]\n",
      "test_score:  [0.79068522 0.78521693 0.80824853 0.80664167 0.78414569]\n",
      "cross val training accuracy is: 0.8288881922444228\n",
      "cross val testing accuracy is: 0.7949876073674516\n"
     ]
    }
   ],
   "source": [
    "# Evaluate the Model using K-folds Cross validation\n",
    "results = cross_validate(decision_tree2, x_data_hr, y_data_hr, scoring='accuracy', cv=5, return_train_score = True)\n",
    "print('train_score: ', results['train_score'])\n",
    "print('test_score: ', results['test_score'])\n",
    "print('cross val training accuracy is:', sum(results['train_score'])/len(results['train_score']))\n",
    "print('cross val testing accuracy is:', sum(results['test_score'])/len(results['test_score']))"
   ]
  },
  {
   "cell_type": "code",
   "execution_count": 64,
   "metadata": {},
   "outputs": [],
   "source": [
    "# Add decision tree GridSeachCV into Model Comparison\n",
    "new_row_dtree2 = {'Model':'DecisionTreeClassifier - GridSeachCV', 'Training Accuracy':decision_tree2.score(x_train, y_train)*100, 'Testing Accuracy':decision_tree2.score(x_test, y_test)*100, \n",
    "           'Cross Val Training Accuracy': sum(results['train_score'])/len(results['train_score'])*100, 'Cross Val Testing Accuracy': sum(results['test_score'])/len(results['test_score'])*100}\n",
    "new_df = pd.DataFrame([new_row_dtree2])\n",
    "resultOfModels = pd.concat([resultOfModels, new_df], axis=0, ignore_index=True) "
   ]
  },
  {
   "cell_type": "code",
   "execution_count": 65,
   "metadata": {},
   "outputs": [
    {
     "data": {
      "text/html": [
       "<div>\n",
       "<style scoped>\n",
       "    .dataframe tbody tr th:only-of-type {\n",
       "        vertical-align: middle;\n",
       "    }\n",
       "\n",
       "    .dataframe tbody tr th {\n",
       "        vertical-align: top;\n",
       "    }\n",
       "\n",
       "    .dataframe thead th {\n",
       "        text-align: right;\n",
       "    }\n",
       "</style>\n",
       "<table border=\"1\" class=\"dataframe\">\n",
       "  <thead>\n",
       "    <tr style=\"text-align: right;\">\n",
       "      <th></th>\n",
       "      <th>Model</th>\n",
       "      <th>Training Accuracy</th>\n",
       "      <th>Testing Accuracy</th>\n",
       "      <th>Cross Val Training Accuracy</th>\n",
       "      <th>Cross Val Testing Accuracy</th>\n",
       "    </tr>\n",
       "  </thead>\n",
       "  <tbody>\n",
       "    <tr>\n",
       "      <th>0</th>\n",
       "      <td>Naive Baseline</td>\n",
       "      <td>50.147295</td>\n",
       "      <td>49.411135</td>\n",
       "      <td>50.147295</td>\n",
       "      <td>49.411135</td>\n",
       "    </tr>\n",
       "    <tr>\n",
       "      <th>1</th>\n",
       "      <td>Logistic Regression</td>\n",
       "      <td>76.968399</td>\n",
       "      <td>78.961456</td>\n",
       "      <td>77.632294</td>\n",
       "      <td>77.228042</td>\n",
       "    </tr>\n",
       "    <tr>\n",
       "      <th>2</th>\n",
       "      <td>Logistic Regression - Improved</td>\n",
       "      <td>77.088913</td>\n",
       "      <td>79.175589</td>\n",
       "      <td>77.640328</td>\n",
       "      <td>77.313729</td>\n",
       "    </tr>\n",
       "    <tr>\n",
       "      <th>3</th>\n",
       "      <td>MLPClassifier</td>\n",
       "      <td>76.861275</td>\n",
       "      <td>78.158458</td>\n",
       "      <td>76.914639</td>\n",
       "      <td>76.681705</td>\n",
       "    </tr>\n",
       "    <tr>\n",
       "      <th>4</th>\n",
       "      <td>MLPClassifier - GridSearchCV</td>\n",
       "      <td>81.119443</td>\n",
       "      <td>80.460385</td>\n",
       "      <td>80.990257</td>\n",
       "      <td>80.302126</td>\n",
       "    </tr>\n",
       "    <tr>\n",
       "      <th>5</th>\n",
       "      <td>DecisionTreeClassifier</td>\n",
       "      <td>68.626138</td>\n",
       "      <td>68.950749</td>\n",
       "      <td>68.691090</td>\n",
       "      <td>68.691118</td>\n",
       "    </tr>\n",
       "    <tr>\n",
       "      <th>6</th>\n",
       "      <td>DecisionTreeClassifier - GridSeachCV</td>\n",
       "      <td>82.163899</td>\n",
       "      <td>80.299786</td>\n",
       "      <td>82.888819</td>\n",
       "      <td>79.498761</td>\n",
       "    </tr>\n",
       "  </tbody>\n",
       "</table>\n",
       "</div>"
      ],
      "text/plain": [
       "                                  Model  Training Accuracy  Testing Accuracy  \\\n",
       "0                        Naive Baseline          50.147295         49.411135   \n",
       "1                   Logistic Regression          76.968399         78.961456   \n",
       "2        Logistic Regression - Improved          77.088913         79.175589   \n",
       "3                         MLPClassifier          76.861275         78.158458   \n",
       "4          MLPClassifier - GridSearchCV          81.119443         80.460385   \n",
       "5                DecisionTreeClassifier          68.626138         68.950749   \n",
       "6  DecisionTreeClassifier - GridSeachCV          82.163899         80.299786   \n",
       "\n",
       "   Cross Val Training Accuracy  Cross Val Testing Accuracy  \n",
       "0                    50.147295                   49.411135  \n",
       "1                    77.632294                   77.228042  \n",
       "2                    77.640328                   77.313729  \n",
       "3                    76.914639                   76.681705  \n",
       "4                    80.990257                   80.302126  \n",
       "5                    68.691090                   68.691118  \n",
       "6                    82.888819                   79.498761  "
      ]
     },
     "execution_count": 65,
     "metadata": {},
     "output_type": "execute_result"
    }
   ],
   "source": [
    "resultOfModels"
   ]
  },
  {
   "cell_type": "code",
   "execution_count": 66,
   "metadata": {},
   "outputs": [
    {
     "data": {
      "text/plain": [
       "array([0.01815071, 0.00231222, 0.00372452, 0.01061929, 0.08972893,\n",
       "       0.01491449, 0.19848973, 0.03701016, 0.324947  , 0.00380976,\n",
       "       0.00173974, 0.00530738, 0.0042155 , 0.00050412, 0.11376625,\n",
       "       0.0285334 , 0.01893092, 0.00489488, 0.00823234, 0.0479868 ,\n",
       "       0.02766165, 0.00428984, 0.02029965, 0.00083282, 0.00400267,\n",
       "       0.00069589, 0.00152339, 0.00228076, 0.00059519])"
      ]
     },
     "execution_count": 66,
     "metadata": {},
     "output_type": "execute_result"
    }
   ],
   "source": [
    "# Display feature importance in array \n",
    "decision_tree2.feature_importances_"
   ]
  },
  {
   "cell_type": "code",
   "execution_count": 67,
   "metadata": {},
   "outputs": [
    {
     "data": {
      "text/html": [
       "<div>\n",
       "<style scoped>\n",
       "    .dataframe tbody tr th:only-of-type {\n",
       "        vertical-align: middle;\n",
       "    }\n",
       "\n",
       "    .dataframe tbody tr th {\n",
       "        vertical-align: top;\n",
       "    }\n",
       "\n",
       "    .dataframe thead th {\n",
       "        text-align: right;\n",
       "    }\n",
       "</style>\n",
       "<table border=\"1\" class=\"dataframe\">\n",
       "  <thead>\n",
       "    <tr style=\"text-align: right;\">\n",
       "      <th></th>\n",
       "      <th>feature</th>\n",
       "      <th>importance</th>\n",
       "    </tr>\n",
       "  </thead>\n",
       "  <tbody>\n",
       "    <tr>\n",
       "      <th>8</th>\n",
       "      <td>avg_training_score</td>\n",
       "      <td>0.324947</td>\n",
       "    </tr>\n",
       "    <tr>\n",
       "      <th>6</th>\n",
       "      <td>KPIs_met &gt;80%</td>\n",
       "      <td>0.198490</td>\n",
       "    </tr>\n",
       "    <tr>\n",
       "      <th>14</th>\n",
       "      <td>department_Sales &amp; Marketing</td>\n",
       "      <td>0.113766</td>\n",
       "    </tr>\n",
       "    <tr>\n",
       "      <th>4</th>\n",
       "      <td>previous_year_rating</td>\n",
       "      <td>0.089729</td>\n",
       "    </tr>\n",
       "    <tr>\n",
       "      <th>19</th>\n",
       "      <td>department_Operations</td>\n",
       "      <td>0.047987</td>\n",
       "    </tr>\n",
       "    <tr>\n",
       "      <th>7</th>\n",
       "      <td>awards_won?</td>\n",
       "      <td>0.037010</td>\n",
       "    </tr>\n",
       "    <tr>\n",
       "      <th>15</th>\n",
       "      <td>department_Finance</td>\n",
       "      <td>0.028533</td>\n",
       "    </tr>\n",
       "    <tr>\n",
       "      <th>20</th>\n",
       "      <td>department_Procurement</td>\n",
       "      <td>0.027662</td>\n",
       "    </tr>\n",
       "    <tr>\n",
       "      <th>22</th>\n",
       "      <td>department_HR</td>\n",
       "      <td>0.020300</td>\n",
       "    </tr>\n",
       "    <tr>\n",
       "      <th>16</th>\n",
       "      <td>department_Analytics</td>\n",
       "      <td>0.018931</td>\n",
       "    </tr>\n",
       "    <tr>\n",
       "      <th>0</th>\n",
       "      <td>employee_id</td>\n",
       "      <td>0.018151</td>\n",
       "    </tr>\n",
       "    <tr>\n",
       "      <th>5</th>\n",
       "      <td>length_of_service</td>\n",
       "      <td>0.014914</td>\n",
       "    </tr>\n",
       "    <tr>\n",
       "      <th>3</th>\n",
       "      <td>age</td>\n",
       "      <td>0.010619</td>\n",
       "    </tr>\n",
       "    <tr>\n",
       "      <th>18</th>\n",
       "      <td>department_Legal</td>\n",
       "      <td>0.008232</td>\n",
       "    </tr>\n",
       "    <tr>\n",
       "      <th>11</th>\n",
       "      <td>region_region_7</td>\n",
       "      <td>0.005307</td>\n",
       "    </tr>\n",
       "    <tr>\n",
       "      <th>17</th>\n",
       "      <td>department_Technology</td>\n",
       "      <td>0.004895</td>\n",
       "    </tr>\n",
       "    <tr>\n",
       "      <th>21</th>\n",
       "      <td>department_R&amp;D</td>\n",
       "      <td>0.004290</td>\n",
       "    </tr>\n",
       "    <tr>\n",
       "      <th>12</th>\n",
       "      <td>region_region_15</td>\n",
       "      <td>0.004216</td>\n",
       "    </tr>\n",
       "    <tr>\n",
       "      <th>24</th>\n",
       "      <td>recruitment_channel_other</td>\n",
       "      <td>0.004003</td>\n",
       "    </tr>\n",
       "    <tr>\n",
       "      <th>9</th>\n",
       "      <td>region_region_2</td>\n",
       "      <td>0.003810</td>\n",
       "    </tr>\n",
       "    <tr>\n",
       "      <th>2</th>\n",
       "      <td>no_of_trainings</td>\n",
       "      <td>0.003725</td>\n",
       "    </tr>\n",
       "    <tr>\n",
       "      <th>1</th>\n",
       "      <td>gender</td>\n",
       "      <td>0.002312</td>\n",
       "    </tr>\n",
       "    <tr>\n",
       "      <th>27</th>\n",
       "      <td>education_Master's &amp; above</td>\n",
       "      <td>0.002281</td>\n",
       "    </tr>\n",
       "    <tr>\n",
       "      <th>10</th>\n",
       "      <td>region_region_22</td>\n",
       "      <td>0.001740</td>\n",
       "    </tr>\n",
       "    <tr>\n",
       "      <th>26</th>\n",
       "      <td>education_Bachelor's</td>\n",
       "      <td>0.001523</td>\n",
       "    </tr>\n",
       "    <tr>\n",
       "      <th>23</th>\n",
       "      <td>recruitment_channel_sourcing</td>\n",
       "      <td>0.000833</td>\n",
       "    </tr>\n",
       "    <tr>\n",
       "      <th>25</th>\n",
       "      <td>recruitment_channel_referred</td>\n",
       "      <td>0.000696</td>\n",
       "    </tr>\n",
       "    <tr>\n",
       "      <th>28</th>\n",
       "      <td>education_Below Secondary</td>\n",
       "      <td>0.000595</td>\n",
       "    </tr>\n",
       "    <tr>\n",
       "      <th>13</th>\n",
       "      <td>region_region_13</td>\n",
       "      <td>0.000504</td>\n",
       "    </tr>\n",
       "  </tbody>\n",
       "</table>\n",
       "</div>"
      ],
      "text/plain": [
       "                         feature  importance\n",
       "8             avg_training_score    0.324947\n",
       "6                  KPIs_met >80%    0.198490\n",
       "14  department_Sales & Marketing    0.113766\n",
       "4           previous_year_rating    0.089729\n",
       "19         department_Operations    0.047987\n",
       "7                    awards_won?    0.037010\n",
       "15            department_Finance    0.028533\n",
       "20        department_Procurement    0.027662\n",
       "22                 department_HR    0.020300\n",
       "16          department_Analytics    0.018931\n",
       "0                    employee_id    0.018151\n",
       "5              length_of_service    0.014914\n",
       "3                            age    0.010619\n",
       "18              department_Legal    0.008232\n",
       "11               region_region_7    0.005307\n",
       "17         department_Technology    0.004895\n",
       "21                department_R&D    0.004290\n",
       "12              region_region_15    0.004216\n",
       "24     recruitment_channel_other    0.004003\n",
       "9                region_region_2    0.003810\n",
       "2                no_of_trainings    0.003725\n",
       "1                         gender    0.002312\n",
       "27    education_Master's & above    0.002281\n",
       "10              region_region_22    0.001740\n",
       "26          education_Bachelor's    0.001523\n",
       "23  recruitment_channel_sourcing    0.000833\n",
       "25  recruitment_channel_referred    0.000696\n",
       "28     education_Below Secondary    0.000595\n",
       "13              region_region_13    0.000504"
      ]
     },
     "execution_count": 67,
     "metadata": {},
     "output_type": "execute_result"
    }
   ],
   "source": [
    "# Display feature importance in table (descending order)\n",
    "pd.concat((pd.DataFrame(x_train.columns, columns = ['feature']),\n",
    " pd.DataFrame(decision_tree2.feature_importances_, columns = ['importance'])),\n",
    " axis = 1).sort_values(by='importance', ascending = False)"
   ]
  },
  {
   "cell_type": "code",
   "execution_count": 68,
   "metadata": {},
   "outputs": [],
   "source": [
    "depth_range = range(2,16)\n",
    "\n",
    "train_acc = []\n",
    "test_acc = []\n",
    "cross_val_train_acc =[]\n",
    "cross_val_test_acc =[]\n",
    "\n",
    "for d in depth_range:\n",
    "    # Create Random Forest Model\n",
    "    tree_class = tree.DecisionTreeClassifier(criterion='entropy', max_depth=d, min_samples_leaf = 1,\n",
    "                                         min_samples_split =4, random_state=999)\n",
    "    tree_class.fit(x_train, y_train.ravel()) \n",
    "    train_acc.append(tree_class.score(x_train, y_train))\n",
    "    test_acc.append(tree_class.score(x_test, y_test))\n",
    "    \n",
    "    results  = cross_validate(tree_class, x_data_hr, y_data_hr.ravel(), scoring='accuracy', cv=5, return_train_score = True)\n",
    "    cross_val_train_acc.append(sum(results['train_score'])/len(results['train_score']))\n",
    "    cross_val_test_acc.append(sum(results['test_score'])/len(results['test_score']))"
   ]
  },
  {
   "cell_type": "code",
   "execution_count": 69,
   "metadata": {},
   "outputs": [
    {
     "data": {
      "image/png": "[encoded data removed]",
      "text/plain": [
       "<Figure size 640x480 with 1 Axes>"
      ]
     },
     "metadata": {},
     "output_type": "display_data"
    }
   ],
   "source": [
    "# Plot the simple split measures (train_acc & test_acc) \n",
    "plt.plot(depth_range, train_acc, 'bo-', label ='training accuracy')\n",
    "plt.plot(depth_range, test_acc, 'ro-', label = 'testing accuracy')\n",
    "\n",
    "plt.xlabel('max_depth', fontsize='x-large')\n",
    "plt.ylabel('Accuracy', fontsize='x-large')\n",
    "\n",
    "plt.legend(loc='best', shadow=True, fontsize='x-large')\n",
    "plt.show()"
   ]
  },
  {
   "cell_type": "code",
   "execution_count": 70,
   "metadata": {},
   "outputs": [
    {
     "data": {
      "image/png": "[encoded data removed]",
      "text/plain": [
       "<Figure size 640x480 with 1 Axes>"
      ]
     },
     "metadata": {},
     "output_type": "display_data"
    }
   ],
   "source": [
    "# Plot the cross validation measures (cross_val_train_acc & cross cross_val_test_acc) \n",
    "plt.plot(depth_range, cross_val_train_acc, 'bo-', label ='cross val training accuracy')\n",
    "plt.plot(depth_range, cross_val_test_acc, 'ro-', label = 'cross val testing accuracy')\n",
    "\n",
    "plt.xlabel('max_depth', fontsize='x-large')\n",
    "plt.ylabel('Accuracy', fontsize='x-large')\n",
    "\n",
    "plt.legend(loc='best', shadow=True, fontsize='x-large')\n",
    "plt.show()"
   ]
  },
  {
   "cell_type": "code",
   "execution_count": 71,
   "metadata": {},
   "outputs": [
    {
     "data": {
      "text/plain": [
       "DecisionTreeClassifier(criterion='entropy', max_depth=9, min_samples_split=4,\n",
       "                       random_state=999)"
      ]
     },
     "execution_count": 71,
     "metadata": {},
     "output_type": "execute_result"
    }
   ],
   "source": [
    "# Create Decision Tree using the best hyperparameters\n",
    "decision_tree3 = tree.DecisionTreeClassifier(criterion='entropy',max_depth = 9,min_samples_leaf = 1,min_samples_split =4,\n",
    "     random_state=999)\n",
    "decision_tree3.fit(x_train, y_train)"
   ]
  },
  {
   "cell_type": "code",
   "execution_count": 72,
   "metadata": {},
   "outputs": [
    {
     "name": "stdout",
     "output_type": "stream",
     "text": [
      "***Final Decision Tree Classifier Model***\n",
      "the training accuracy is:  0.812131762185324\n",
      "the testing accuracy is:  0.8072805139186295\n",
      "train_score:  [0.81641671 0.8153702  0.8173785  0.81697684 0.81925291]\n",
      "test_score:  [0.78265525 0.77771826 0.80503482 0.80289234 0.78039636]\n",
      "cross val training accuracy: 0.8170790311075458\n",
      "cross val testing accuracy: 0.789739404901312\n"
     ]
    }
   ],
   "source": [
    "print('***Final Decision Tree Classifier Model***')\n",
    "\n",
    "#Evaluate the Model\n",
    "train_acc = decision_tree3.score(x_train, y_train)\n",
    "print('the training accuracy is: ', train_acc)\n",
    "test_acc = decision_tree3.score(x_test, y_test)\n",
    "print('the testing accuracy is: ', test_acc)\n",
    "\n",
    "results = cross_validate(decision_tree3, x_data_hr, y_data_hr, scoring='accuracy', cv=5, return_train_score = True)\n",
    "print('train_score: ', results['train_score'])\n",
    "print('test_score: ', results['test_score'])\n",
    "    \n",
    "print('cross val training accuracy:', sum(results['train_score'])/len(results['train_score']))\n",
    "print('cross val testing accuracy:', sum(results['test_score'])/len(results['test_score']))"
   ]
  },
  {
   "cell_type": "code",
   "execution_count": 73,
   "metadata": {},
   "outputs": [
    {
     "name": "stdout",
     "output_type": "stream",
     "text": [
      "the training accuracy is:  0.812131762185324\n",
      "the testing accuracy is:  0.8072805139186295\n"
     ]
    }
   ],
   "source": [
    "#Evaluate the Model\n",
    "train_acc = decision_tree3.score(x_train, y_train)\n",
    "print('the training accuracy is: ', train_acc)\n",
    "test_acc = decision_tree3.score(x_test, y_test)\n",
    "print('the testing accuracy is: ', test_acc)"
   ]
  },
  {
   "cell_type": "code",
   "execution_count": 74,
   "metadata": {},
   "outputs": [
    {
     "name": "stdout",
     "output_type": "stream",
     "text": [
      "train_score:  [0.81641671 0.8153702  0.8173785  0.81697684 0.81925291]\n",
      "test_score:  [0.78265525 0.77771826 0.80503482 0.80289234 0.78039636]\n",
      "cross val training accuracy is: 0.8170790311075458\n",
      "cross val testing accuracy is: 0.789739404901312\n"
     ]
    }
   ],
   "source": [
    "# Evaluate the Model using K-folds Cross validation\n",
    "results = cross_validate(decision_tree3, x_data_hr, y_data_hr, scoring='accuracy', cv=5, return_train_score = True)\n",
    "print('train_score: ', results['train_score'])\n",
    "print('test_score: ', results['test_score'])\n",
    "print('cross val training accuracy is:', sum(results['train_score'])/len(results['train_score']))\n",
    "print('cross val testing accuracy is:', sum(results['test_score'])/len(results['test_score']))"
   ]
  },
  {
   "cell_type": "code",
   "execution_count": 75,
   "metadata": {},
   "outputs": [],
   "source": [
    "# Add decision tree GridSeachCV (Visualisations) into Model Comparison\n",
    "new_row_dtree3 = {'Model':'DecisionTreeClassifier - GridSeachCV(Visualisation)', 'Training Accuracy':decision_tree3.score(x_train, y_train)*100, 'Testing Accuracy':decision_tree3.score(x_test, y_test)*100, \n",
    "           'Cross Val Training Accuracy': sum(results['train_score'])/len(results['train_score'])*100, 'Cross Val Testing Accuracy': sum(results['test_score'])/len(results['test_score'])*100}\n",
    "new_df = pd.DataFrame([new_row_dtree3])\n",
    "resultOfModels = pd.concat([resultOfModels, new_df], axis=0, ignore_index=True) "
   ]
  },
  {
   "cell_type": "code",
   "execution_count": 76,
   "metadata": {},
   "outputs": [
    {
     "data": {
      "text/html": [
       "<div>\n",
       "<style scoped>\n",
       "    .dataframe tbody tr th:only-of-type {\n",
       "        vertical-align: middle;\n",
       "    }\n",
       "\n",
       "    .dataframe tbody tr th {\n",
       "        vertical-align: top;\n",
       "    }\n",
       "\n",
       "    .dataframe thead th {\n",
       "        text-align: right;\n",
       "    }\n",
       "</style>\n",
       "<table border=\"1\" class=\"dataframe\">\n",
       "  <thead>\n",
       "    <tr style=\"text-align: right;\">\n",
       "      <th></th>\n",
       "      <th>Model</th>\n",
       "      <th>Training Accuracy</th>\n",
       "      <th>Testing Accuracy</th>\n",
       "      <th>Cross Val Training Accuracy</th>\n",
       "      <th>Cross Val Testing Accuracy</th>\n",
       "    </tr>\n",
       "  </thead>\n",
       "  <tbody>\n",
       "    <tr>\n",
       "      <th>0</th>\n",
       "      <td>Naive Baseline</td>\n",
       "      <td>50.147295</td>\n",
       "      <td>49.411135</td>\n",
       "      <td>50.147295</td>\n",
       "      <td>49.411135</td>\n",
       "    </tr>\n",
       "    <tr>\n",
       "      <th>1</th>\n",
       "      <td>Logistic Regression</td>\n",
       "      <td>76.968399</td>\n",
       "      <td>78.961456</td>\n",
       "      <td>77.632294</td>\n",
       "      <td>77.228042</td>\n",
       "    </tr>\n",
       "    <tr>\n",
       "      <th>2</th>\n",
       "      <td>Logistic Regression - Improved</td>\n",
       "      <td>77.088913</td>\n",
       "      <td>79.175589</td>\n",
       "      <td>77.640328</td>\n",
       "      <td>77.313729</td>\n",
       "    </tr>\n",
       "    <tr>\n",
       "      <th>3</th>\n",
       "      <td>MLPClassifier</td>\n",
       "      <td>76.861275</td>\n",
       "      <td>78.158458</td>\n",
       "      <td>76.914639</td>\n",
       "      <td>76.681705</td>\n",
       "    </tr>\n",
       "    <tr>\n",
       "      <th>4</th>\n",
       "      <td>MLPClassifier - GridSearchCV</td>\n",
       "      <td>81.119443</td>\n",
       "      <td>80.460385</td>\n",
       "      <td>80.990257</td>\n",
       "      <td>80.302126</td>\n",
       "    </tr>\n",
       "    <tr>\n",
       "      <th>5</th>\n",
       "      <td>DecisionTreeClassifier</td>\n",
       "      <td>68.626138</td>\n",
       "      <td>68.950749</td>\n",
       "      <td>68.691090</td>\n",
       "      <td>68.691118</td>\n",
       "    </tr>\n",
       "    <tr>\n",
       "      <th>6</th>\n",
       "      <td>DecisionTreeClassifier - GridSeachCV</td>\n",
       "      <td>82.163899</td>\n",
       "      <td>80.299786</td>\n",
       "      <td>82.888819</td>\n",
       "      <td>79.498761</td>\n",
       "    </tr>\n",
       "    <tr>\n",
       "      <th>7</th>\n",
       "      <td>DecisionTreeClassifier - GridSeachCV(Visualisa...</td>\n",
       "      <td>81.213176</td>\n",
       "      <td>80.728051</td>\n",
       "      <td>81.707903</td>\n",
       "      <td>78.973940</td>\n",
       "    </tr>\n",
       "  </tbody>\n",
       "</table>\n",
       "</div>"
      ],
      "text/plain": [
       "                                               Model  Training Accuracy  \\\n",
       "0                                     Naive Baseline          50.147295   \n",
       "1                                Logistic Regression          76.968399   \n",
       "2                     Logistic Regression - Improved          77.088913   \n",
       "3                                      MLPClassifier          76.861275   \n",
       "4                       MLPClassifier - GridSearchCV          81.119443   \n",
       "5                             DecisionTreeClassifier          68.626138   \n",
       "6               DecisionTreeClassifier - GridSeachCV          82.163899   \n",
       "7  DecisionTreeClassifier - GridSeachCV(Visualisa...          81.213176   \n",
       "\n",
       "   Testing Accuracy  Cross Val Training Accuracy  Cross Val Testing Accuracy  \n",
       "0         49.411135                    50.147295                   49.411135  \n",
       "1         78.961456                    77.632294                   77.228042  \n",
       "2         79.175589                    77.640328                   77.313729  \n",
       "3         78.158458                    76.914639                   76.681705  \n",
       "4         80.460385                    80.990257                   80.302126  \n",
       "5         68.950749                    68.691090                   68.691118  \n",
       "6         80.299786                    82.888819                   79.498761  \n",
       "7         80.728051                    81.707903                   78.973940  "
      ]
     },
     "execution_count": 76,
     "metadata": {},
     "output_type": "execute_result"
    }
   ],
   "source": [
    "resultOfModels"
   ]
  },
  {
   "cell_type": "markdown",
   "metadata": {},
   "source": [
    "<b> Bagging Classifer </b>"
   ]
  },
  {
   "cell_type": "code",
   "execution_count": 77,
   "metadata": {},
   "outputs": [
    {
     "data": {
      "text/plain": [
       "BaggingClassifier(base_estimator=DecisionTreeClassifier(), max_samples=0.5,\n",
       "                  n_estimators=20)"
      ]
     },
     "execution_count": 77,
     "metadata": {},
     "output_type": "execute_result"
    }
   ],
   "source": [
    "bg = BaggingClassifier(DecisionTreeClassifier(), max_samples = 0.5, max_features = 1.0, n_estimators=20 )\n",
    "bg.fit(x_train, y_train)"
   ]
  },
  {
   "cell_type": "code",
   "execution_count": 78,
   "metadata": {
    "scrolled": true
   },
   "outputs": [
    {
     "name": "stdout",
     "output_type": "stream",
     "text": [
      "the training accuracy is:  0.9578200321371184\n",
      "the testing accuracy is:  0.7858672376873662\n"
     ]
    }
   ],
   "source": [
    "train_acc = bg.score(x_train, y_train)\n",
    "print('the training accuracy is: ', train_acc)\n",
    "\n",
    "test_acc = bg.score(x_test, y_test)\n",
    "print('the testing accuracy is: ', test_acc)"
   ]
  },
  {
   "cell_type": "markdown",
   "metadata": {},
   "source": [
    "### 1.2.5. XGBoost - eXtreme Gradient Boosting Classifier <a id=\"1.2.5.\"></a>\n",
    "[Back to Top](#top)"
   ]
  },
  {
   "cell_type": "code",
   "execution_count": 79,
   "metadata": {},
   "outputs": [],
   "source": [
    "# Split both Inputs (X) and Ouput (y) into training set (80%) and testing set (20%)\n",
    "x_train, x_test, y_train, y_test = train_test_split(x_data_hr, y_data_hr, test_size=0.2, random_state=999)"
   ]
  },
  {
   "cell_type": "code",
   "execution_count": 80,
   "metadata": {},
   "outputs": [
    {
     "name": "stdout",
     "output_type": "stream",
     "text": [
      "training accuracy is:  0.7984734868773433\n",
      "testing accuracy is:  0.7965738758029979\n"
     ]
    }
   ],
   "source": [
    "xgb = XGBClassifier(n_estimators = 20, learning_rate = 0.1, gamma=1,random_state=999)\n",
    "xgb.fit(x_train, y_train)\n",
    "print('training accuracy is: ', xgb.score(x_train,y_train))\n",
    "print('testing accuracy is: ', xgb.score(x_test,y_test))"
   ]
  },
  {
   "cell_type": "code",
   "execution_count": 81,
   "metadata": {},
   "outputs": [
    {
     "name": "stdout",
     "output_type": "stream",
     "text": [
      "train_score:  [0.80396358 0.80345428 0.80532869 0.80573035 0.8022493 ]\n",
      "test_score:  [0.79229122 0.78253883 0.80771291 0.80289234 0.79271559]\n",
      "cross val training accuracy is: 0.8041452393513973\n",
      "cross val testing accuracy is: 0.7956301776946377\n"
     ]
    }
   ],
   "source": [
    "# Evaluate the Model using K-folds Cross validation\n",
    "results = cross_validate(xgb, x_data_hr, y_data_hr, scoring='accuracy', cv=5, return_train_score = True)\n",
    "print('train_score: ', results['train_score'])\n",
    "print('test_score: ', results['test_score'])\n",
    "print('cross val training accuracy is:', sum(results['train_score'])/len(results['train_score']))\n",
    "print('cross val testing accuracy is:', sum(results['test_score'])/len(results['test_score']))"
   ]
  },
  {
   "cell_type": "code",
   "execution_count": 82,
   "metadata": {},
   "outputs": [],
   "source": [
    "# Add XGBoost Classifier into Model Comparison\n",
    "new_row_xgb1 = {'Model':'XGBoost Classifier', 'Training Accuracy':xgb.score(x_train,y_train)*100, 'Testing Accuracy':xgb.score(x_test,y_test)*100, \n",
    "           'Cross Val Training Accuracy': sum(results['train_score'])/len(results['train_score'])*100, 'Cross Val Testing Accuracy': sum(results['test_score'])/len(results['test_score'])*100}\n",
    "new_df = pd.DataFrame([new_row_xgb1])\n",
    "resultOfModels = pd.concat([resultOfModels, new_df], axis=0, ignore_index=True)  "
   ]
  },
  {
   "cell_type": "code",
   "execution_count": 83,
   "metadata": {},
   "outputs": [
    {
     "data": {
      "text/html": [
       "<div>\n",
       "<style scoped>\n",
       "    .dataframe tbody tr th:only-of-type {\n",
       "        vertical-align: middle;\n",
       "    }\n",
       "\n",
       "    .dataframe tbody tr th {\n",
       "        vertical-align: top;\n",
       "    }\n",
       "\n",
       "    .dataframe thead th {\n",
       "        text-align: right;\n",
       "    }\n",
       "</style>\n",
       "<table border=\"1\" class=\"dataframe\">\n",
       "  <thead>\n",
       "    <tr style=\"text-align: right;\">\n",
       "      <th></th>\n",
       "      <th>Model</th>\n",
       "      <th>Training Accuracy</th>\n",
       "      <th>Testing Accuracy</th>\n",
       "      <th>Cross Val Training Accuracy</th>\n",
       "      <th>Cross Val Testing Accuracy</th>\n",
       "    </tr>\n",
       "  </thead>\n",
       "  <tbody>\n",
       "    <tr>\n",
       "      <th>0</th>\n",
       "      <td>Naive Baseline</td>\n",
       "      <td>50.147295</td>\n",
       "      <td>49.411135</td>\n",
       "      <td>50.147295</td>\n",
       "      <td>49.411135</td>\n",
       "    </tr>\n",
       "    <tr>\n",
       "      <th>1</th>\n",
       "      <td>Logistic Regression</td>\n",
       "      <td>76.968399</td>\n",
       "      <td>78.961456</td>\n",
       "      <td>77.632294</td>\n",
       "      <td>77.228042</td>\n",
       "    </tr>\n",
       "    <tr>\n",
       "      <th>2</th>\n",
       "      <td>Logistic Regression - Improved</td>\n",
       "      <td>77.088913</td>\n",
       "      <td>79.175589</td>\n",
       "      <td>77.640328</td>\n",
       "      <td>77.313729</td>\n",
       "    </tr>\n",
       "    <tr>\n",
       "      <th>3</th>\n",
       "      <td>MLPClassifier</td>\n",
       "      <td>76.861275</td>\n",
       "      <td>78.158458</td>\n",
       "      <td>76.914639</td>\n",
       "      <td>76.681705</td>\n",
       "    </tr>\n",
       "    <tr>\n",
       "      <th>4</th>\n",
       "      <td>MLPClassifier - GridSearchCV</td>\n",
       "      <td>81.119443</td>\n",
       "      <td>80.460385</td>\n",
       "      <td>80.990257</td>\n",
       "      <td>80.302126</td>\n",
       "    </tr>\n",
       "    <tr>\n",
       "      <th>5</th>\n",
       "      <td>DecisionTreeClassifier</td>\n",
       "      <td>68.626138</td>\n",
       "      <td>68.950749</td>\n",
       "      <td>68.691090</td>\n",
       "      <td>68.691118</td>\n",
       "    </tr>\n",
       "    <tr>\n",
       "      <th>6</th>\n",
       "      <td>DecisionTreeClassifier - GridSeachCV</td>\n",
       "      <td>82.163899</td>\n",
       "      <td>80.299786</td>\n",
       "      <td>82.888819</td>\n",
       "      <td>79.498761</td>\n",
       "    </tr>\n",
       "    <tr>\n",
       "      <th>7</th>\n",
       "      <td>DecisionTreeClassifier - GridSeachCV(Visualisa...</td>\n",
       "      <td>81.213176</td>\n",
       "      <td>80.728051</td>\n",
       "      <td>81.707903</td>\n",
       "      <td>78.973940</td>\n",
       "    </tr>\n",
       "    <tr>\n",
       "      <th>8</th>\n",
       "      <td>XGBoost Classifier</td>\n",
       "      <td>79.847349</td>\n",
       "      <td>79.657388</td>\n",
       "      <td>80.414524</td>\n",
       "      <td>79.563018</td>\n",
       "    </tr>\n",
       "  </tbody>\n",
       "</table>\n",
       "</div>"
      ],
      "text/plain": [
       "                                               Model  Training Accuracy  \\\n",
       "0                                     Naive Baseline          50.147295   \n",
       "1                                Logistic Regression          76.968399   \n",
       "2                     Logistic Regression - Improved          77.088913   \n",
       "3                                      MLPClassifier          76.861275   \n",
       "4                       MLPClassifier - GridSearchCV          81.119443   \n",
       "5                             DecisionTreeClassifier          68.626138   \n",
       "6               DecisionTreeClassifier - GridSeachCV          82.163899   \n",
       "7  DecisionTreeClassifier - GridSeachCV(Visualisa...          81.213176   \n",
       "8                                 XGBoost Classifier          79.847349   \n",
       "\n",
       "   Testing Accuracy  Cross Val Training Accuracy  Cross Val Testing Accuracy  \n",
       "0         49.411135                    50.147295                   49.411135  \n",
       "1         78.961456                    77.632294                   77.228042  \n",
       "2         79.175589                    77.640328                   77.313729  \n",
       "3         78.158458                    76.914639                   76.681705  \n",
       "4         80.460385                    80.990257                   80.302126  \n",
       "5         68.950749                    68.691090                   68.691118  \n",
       "6         80.299786                    82.888819                   79.498761  \n",
       "7         80.728051                    81.707903                   78.973940  \n",
       "8         79.657388                    80.414524                   79.563018  "
      ]
     },
     "execution_count": 83,
     "metadata": {},
     "output_type": "execute_result"
    }
   ],
   "source": [
    "resultOfModels"
   ]
  },
  {
   "cell_type": "markdown",
   "metadata": {},
   "source": [
    "### 1.2.5.1. Improve XGBoost - eXtreme Gradient Boosting Classifier <a id=\"1.2.5.1.\"> </a>\n",
    "[Back to Top](#top)"
   ]
  },
  {
   "cell_type": "code",
   "execution_count": 84,
   "metadata": {},
   "outputs": [
    {
     "name": "stdout",
     "output_type": "stream",
     "text": [
      "0.8087820450703618\n",
      "{'n_estimators': 40, 'learning_rate': 0.4, 'gamma': 5}\n"
     ]
    }
   ],
   "source": [
    "# Use GridSearch to find the best combination of model hyperparameters\n",
    "xgb = XGBClassifier()\n",
    "\n",
    "param_grid = { 'n_estimators': [10, 20, 30, 40, 50],\n",
    "        'learning_rate': [0.1, 0.2, 0.3, 0.4, 0.5, 0.6, 0.7, 0.8, 0.9, 1.0],\n",
    "        'gamma': [0.5, 1, 1.5, 2, 5]}\n",
    "\n",
    "gs = RandomizedSearchCV(xgb,  param_distributions=param_grid, n_iter=5, \n",
    "                        scoring='accuracy', n_jobs=-1,cv=10,random_state=999)\n",
    "# cv: number of partitions for cross validation\n",
    "# n_jobs: number of jobs to run in parallel, -1 means using all processors\n",
    "gs = gs.fit(x_train, y_train)\n",
    "print(gs.best_score_)\n",
    "print(gs.best_params_)"
   ]
  },
  {
   "cell_type": "code",
   "execution_count": 85,
   "metadata": {},
   "outputs": [
    {
     "name": "stdout",
     "output_type": "stream",
     "text": [
      "training accuracy is:  0.8330208891269416\n",
      "testing accuracy is:  0.813169164882227\n"
     ]
    }
   ],
   "source": [
    "xgb2 = XGBClassifier(n_estimators = 40, learning_rate = 0.4, gamma = 5 ,random_state=999)\n",
    "xgb2.fit(x_train, y_train)\n",
    "print('training accuracy is: ', xgb2.score(x_train,y_train))\n",
    "print('testing accuracy is: ', xgb2.score(x_test,y_test))"
   ]
  },
  {
   "cell_type": "code",
   "execution_count": 86,
   "metadata": {},
   "outputs": [
    {
     "name": "stdout",
     "output_type": "stream",
     "text": [
      "train_score:  [0.82886984 0.83237381 0.83572098 0.82795555 0.83304325]\n",
      "test_score:  [0.8003212  0.80342796 0.81842528 0.81253348 0.81146224]\n",
      "cross val training accuracy is: 0.8315926862992281\n",
      "cross val testing accuracy is: 0.8092340309374244\n"
     ]
    }
   ],
   "source": [
    "# Evaluate the Model using K-folds Cross validation\n",
    "results = cross_validate(xgb2, x_data_hr, y_data_hr, scoring='accuracy', cv=5, return_train_score = True)\n",
    "print('train_score: ', results['train_score'])\n",
    "print('test_score: ', results['test_score'])\n",
    "print('cross val training accuracy is:', sum(results['train_score'])/len(results['train_score']))\n",
    "print('cross val testing accuracy is:', sum(results['test_score'])/len(results['test_score']))"
   ]
  },
  {
   "cell_type": "code",
   "execution_count": 87,
   "metadata": {},
   "outputs": [],
   "source": [
    "# Add XGBoost Classifier into Model Comparison\n",
    "new_row_xgb1 = {'Model':'XGBoost Classifier - GridSearch', 'Training Accuracy':xgb2.score(x_train,y_train)*100, 'Testing Accuracy':xgb2.score(x_test,y_test)*100, \n",
    "           'Cross Val Training Accuracy': sum(results['train_score'])/len(results['train_score'])*100, 'Cross Val Testing Accuracy': sum(results['test_score'])/len(results['test_score'])*100}\n",
    "new_df = pd.DataFrame([new_row_xgb1])\n",
    "resultOfModels = pd.concat([resultOfModels, new_df], axis=0, ignore_index=True)  "
   ]
  },
  {
   "cell_type": "code",
   "execution_count": 88,
   "metadata": {},
   "outputs": [
    {
     "data": {
      "text/html": [
       "<div>\n",
       "<style scoped>\n",
       "    .dataframe tbody tr th:only-of-type {\n",
       "        vertical-align: middle;\n",
       "    }\n",
       "\n",
       "    .dataframe tbody tr th {\n",
       "        vertical-align: top;\n",
       "    }\n",
       "\n",
       "    .dataframe thead th {\n",
       "        text-align: right;\n",
       "    }\n",
       "</style>\n",
       "<table border=\"1\" class=\"dataframe\">\n",
       "  <thead>\n",
       "    <tr style=\"text-align: right;\">\n",
       "      <th></th>\n",
       "      <th>Model</th>\n",
       "      <th>Training Accuracy</th>\n",
       "      <th>Testing Accuracy</th>\n",
       "      <th>Cross Val Training Accuracy</th>\n",
       "      <th>Cross Val Testing Accuracy</th>\n",
       "    </tr>\n",
       "  </thead>\n",
       "  <tbody>\n",
       "    <tr>\n",
       "      <th>0</th>\n",
       "      <td>Naive Baseline</td>\n",
       "      <td>50.147295</td>\n",
       "      <td>49.411135</td>\n",
       "      <td>50.147295</td>\n",
       "      <td>49.411135</td>\n",
       "    </tr>\n",
       "    <tr>\n",
       "      <th>1</th>\n",
       "      <td>Logistic Regression</td>\n",
       "      <td>76.968399</td>\n",
       "      <td>78.961456</td>\n",
       "      <td>77.632294</td>\n",
       "      <td>77.228042</td>\n",
       "    </tr>\n",
       "    <tr>\n",
       "      <th>2</th>\n",
       "      <td>Logistic Regression - Improved</td>\n",
       "      <td>77.088913</td>\n",
       "      <td>79.175589</td>\n",
       "      <td>77.640328</td>\n",
       "      <td>77.313729</td>\n",
       "    </tr>\n",
       "    <tr>\n",
       "      <th>3</th>\n",
       "      <td>MLPClassifier</td>\n",
       "      <td>76.861275</td>\n",
       "      <td>78.158458</td>\n",
       "      <td>76.914639</td>\n",
       "      <td>76.681705</td>\n",
       "    </tr>\n",
       "    <tr>\n",
       "      <th>4</th>\n",
       "      <td>MLPClassifier - GridSearchCV</td>\n",
       "      <td>81.119443</td>\n",
       "      <td>80.460385</td>\n",
       "      <td>80.990257</td>\n",
       "      <td>80.302126</td>\n",
       "    </tr>\n",
       "    <tr>\n",
       "      <th>5</th>\n",
       "      <td>DecisionTreeClassifier</td>\n",
       "      <td>68.626138</td>\n",
       "      <td>68.950749</td>\n",
       "      <td>68.691090</td>\n",
       "      <td>68.691118</td>\n",
       "    </tr>\n",
       "    <tr>\n",
       "      <th>6</th>\n",
       "      <td>DecisionTreeClassifier - GridSeachCV</td>\n",
       "      <td>82.163899</td>\n",
       "      <td>80.299786</td>\n",
       "      <td>82.888819</td>\n",
       "      <td>79.498761</td>\n",
       "    </tr>\n",
       "    <tr>\n",
       "      <th>7</th>\n",
       "      <td>DecisionTreeClassifier - GridSeachCV(Visualisa...</td>\n",
       "      <td>81.213176</td>\n",
       "      <td>80.728051</td>\n",
       "      <td>81.707903</td>\n",
       "      <td>78.973940</td>\n",
       "    </tr>\n",
       "    <tr>\n",
       "      <th>8</th>\n",
       "      <td>XGBoost Classifier</td>\n",
       "      <td>79.847349</td>\n",
       "      <td>79.657388</td>\n",
       "      <td>80.414524</td>\n",
       "      <td>79.563018</td>\n",
       "    </tr>\n",
       "    <tr>\n",
       "      <th>9</th>\n",
       "      <td>XGBoost Classifier - GridSearch</td>\n",
       "      <td>83.302089</td>\n",
       "      <td>81.316916</td>\n",
       "      <td>83.159269</td>\n",
       "      <td>80.923403</td>\n",
       "    </tr>\n",
       "  </tbody>\n",
       "</table>\n",
       "</div>"
      ],
      "text/plain": [
       "                                               Model  Training Accuracy  \\\n",
       "0                                     Naive Baseline          50.147295   \n",
       "1                                Logistic Regression          76.968399   \n",
       "2                     Logistic Regression - Improved          77.088913   \n",
       "3                                      MLPClassifier          76.861275   \n",
       "4                       MLPClassifier - GridSearchCV          81.119443   \n",
       "5                             DecisionTreeClassifier          68.626138   \n",
       "6               DecisionTreeClassifier - GridSeachCV          82.163899   \n",
       "7  DecisionTreeClassifier - GridSeachCV(Visualisa...          81.213176   \n",
       "8                                 XGBoost Classifier          79.847349   \n",
       "9                    XGBoost Classifier - GridSearch          83.302089   \n",
       "\n",
       "   Testing Accuracy  Cross Val Training Accuracy  Cross Val Testing Accuracy  \n",
       "0         49.411135                    50.147295                   49.411135  \n",
       "1         78.961456                    77.632294                   77.228042  \n",
       "2         79.175589                    77.640328                   77.313729  \n",
       "3         78.158458                    76.914639                   76.681705  \n",
       "4         80.460385                    80.990257                   80.302126  \n",
       "5         68.950749                    68.691090                   68.691118  \n",
       "6         80.299786                    82.888819                   79.498761  \n",
       "7         80.728051                    81.707903                   78.973940  \n",
       "8         79.657388                    80.414524                   79.563018  \n",
       "9         81.316916                    83.159269                   80.923403  "
      ]
     },
     "execution_count": 88,
     "metadata": {},
     "output_type": "execute_result"
    }
   ],
   "source": [
    "resultOfModels"
   ]
  },
  {
   "cell_type": "markdown",
   "metadata": {},
   "source": [
    "### 1.3. Summarize the findings<a id=\"1.3.\"></a>\n",
    "[Back to Top](#top)"
   ]
  },
  {
   "cell_type": "code",
   "execution_count": 89,
   "metadata": {},
   "outputs": [],
   "source": [
    "modelResult = resultOfModels.groupby('Model')[['Training Accuracy','Testing Accuracy',\n",
    "                                               'Cross Val Training Accuracy','Cross Val Testing Accuracy']].sum()"
   ]
  },
  {
   "cell_type": "code",
   "execution_count": 90,
   "metadata": {},
   "outputs": [],
   "source": [
    "modelResult = modelResult.sort_values(ascending=False,by='Cross Val Testing Accuracy')"
   ]
  },
  {
   "cell_type": "code",
   "execution_count": 91,
   "metadata": {},
   "outputs": [],
   "source": [
    "modelResult = modelResult.round(2)"
   ]
  },
  {
   "cell_type": "code",
   "execution_count": 92,
   "metadata": {},
   "outputs": [
    {
     "data": {
      "text/html": [
       "<div>\n",
       "<style scoped>\n",
       "    .dataframe tbody tr th:only-of-type {\n",
       "        vertical-align: middle;\n",
       "    }\n",
       "\n",
       "    .dataframe tbody tr th {\n",
       "        vertical-align: top;\n",
       "    }\n",
       "\n",
       "    .dataframe thead th {\n",
       "        text-align: right;\n",
       "    }\n",
       "</style>\n",
       "<table border=\"1\" class=\"dataframe\">\n",
       "  <thead>\n",
       "    <tr style=\"text-align: right;\">\n",
       "      <th></th>\n",
       "      <th>Training Accuracy</th>\n",
       "      <th>Testing Accuracy</th>\n",
       "      <th>Cross Val Training Accuracy</th>\n",
       "      <th>Cross Val Testing Accuracy</th>\n",
       "    </tr>\n",
       "    <tr>\n",
       "      <th>Model</th>\n",
       "      <th></th>\n",
       "      <th></th>\n",
       "      <th></th>\n",
       "      <th></th>\n",
       "    </tr>\n",
       "  </thead>\n",
       "  <tbody>\n",
       "    <tr>\n",
       "      <th>XGBoost Classifier - GridSearch</th>\n",
       "      <td>83.30</td>\n",
       "      <td>81.32</td>\n",
       "      <td>83.16</td>\n",
       "      <td>80.92</td>\n",
       "    </tr>\n",
       "    <tr>\n",
       "      <th>MLPClassifier - GridSearchCV</th>\n",
       "      <td>81.12</td>\n",
       "      <td>80.46</td>\n",
       "      <td>80.99</td>\n",
       "      <td>80.30</td>\n",
       "    </tr>\n",
       "    <tr>\n",
       "      <th>XGBoost Classifier</th>\n",
       "      <td>79.85</td>\n",
       "      <td>79.66</td>\n",
       "      <td>80.41</td>\n",
       "      <td>79.56</td>\n",
       "    </tr>\n",
       "    <tr>\n",
       "      <th>DecisionTreeClassifier - GridSeachCV</th>\n",
       "      <td>82.16</td>\n",
       "      <td>80.30</td>\n",
       "      <td>82.89</td>\n",
       "      <td>79.50</td>\n",
       "    </tr>\n",
       "    <tr>\n",
       "      <th>DecisionTreeClassifier - GridSeachCV(Visualisation)</th>\n",
       "      <td>81.21</td>\n",
       "      <td>80.73</td>\n",
       "      <td>81.71</td>\n",
       "      <td>78.97</td>\n",
       "    </tr>\n",
       "    <tr>\n",
       "      <th>Logistic Regression - Improved</th>\n",
       "      <td>77.09</td>\n",
       "      <td>79.18</td>\n",
       "      <td>77.64</td>\n",
       "      <td>77.31</td>\n",
       "    </tr>\n",
       "    <tr>\n",
       "      <th>Logistic Regression</th>\n",
       "      <td>76.97</td>\n",
       "      <td>78.96</td>\n",
       "      <td>77.63</td>\n",
       "      <td>77.23</td>\n",
       "    </tr>\n",
       "    <tr>\n",
       "      <th>MLPClassifier</th>\n",
       "      <td>76.86</td>\n",
       "      <td>78.16</td>\n",
       "      <td>76.91</td>\n",
       "      <td>76.68</td>\n",
       "    </tr>\n",
       "    <tr>\n",
       "      <th>DecisionTreeClassifier</th>\n",
       "      <td>68.63</td>\n",
       "      <td>68.95</td>\n",
       "      <td>68.69</td>\n",
       "      <td>68.69</td>\n",
       "    </tr>\n",
       "    <tr>\n",
       "      <th>Naive Baseline</th>\n",
       "      <td>50.15</td>\n",
       "      <td>49.41</td>\n",
       "      <td>50.15</td>\n",
       "      <td>49.41</td>\n",
       "    </tr>\n",
       "  </tbody>\n",
       "</table>\n",
       "</div>"
      ],
      "text/plain": [
       "                                                    Training Accuracy  \\\n",
       "Model                                                                   \n",
       "XGBoost Classifier - GridSearch                                 83.30   \n",
       "MLPClassifier - GridSearchCV                                    81.12   \n",
       "XGBoost Classifier                                              79.85   \n",
       "DecisionTreeClassifier - GridSeachCV                            82.16   \n",
       "DecisionTreeClassifier - GridSeachCV(Visualisat...              81.21   \n",
       "Logistic Regression - Improved                                  77.09   \n",
       "Logistic Regression                                             76.97   \n",
       "MLPClassifier                                                   76.86   \n",
       "DecisionTreeClassifier                                          68.63   \n",
       "Naive Baseline                                                  50.15   \n",
       "\n",
       "                                                    Testing Accuracy  \\\n",
       "Model                                                                  \n",
       "XGBoost Classifier - GridSearch                                81.32   \n",
       "MLPClassifier - GridSearchCV                                   80.46   \n",
       "XGBoost Classifier                                             79.66   \n",
       "DecisionTreeClassifier - GridSeachCV                           80.30   \n",
       "DecisionTreeClassifier - GridSeachCV(Visualisat...             80.73   \n",
       "Logistic Regression - Improved                                 79.18   \n",
       "Logistic Regression                                            78.96   \n",
       "MLPClassifier                                                  78.16   \n",
       "DecisionTreeClassifier                                         68.95   \n",
       "Naive Baseline                                                 49.41   \n",
       "\n",
       "                                                    Cross Val Training Accuracy  \\\n",
       "Model                                                                             \n",
       "XGBoost Classifier - GridSearch                                           83.16   \n",
       "MLPClassifier - GridSearchCV                                              80.99   \n",
       "XGBoost Classifier                                                        80.41   \n",
       "DecisionTreeClassifier - GridSeachCV                                      82.89   \n",
       "DecisionTreeClassifier - GridSeachCV(Visualisat...                        81.71   \n",
       "Logistic Regression - Improved                                            77.64   \n",
       "Logistic Regression                                                       77.63   \n",
       "MLPClassifier                                                             76.91   \n",
       "DecisionTreeClassifier                                                    68.69   \n",
       "Naive Baseline                                                            50.15   \n",
       "\n",
       "                                                    Cross Val Testing Accuracy  \n",
       "Model                                                                           \n",
       "XGBoost Classifier - GridSearch                                          80.92  \n",
       "MLPClassifier - GridSearchCV                                             80.30  \n",
       "XGBoost Classifier                                                       79.56  \n",
       "DecisionTreeClassifier - GridSeachCV                                     79.50  \n",
       "DecisionTreeClassifier - GridSeachCV(Visualisat...                       78.97  \n",
       "Logistic Regression - Improved                                           77.31  \n",
       "Logistic Regression                                                      77.23  \n",
       "MLPClassifier                                                            76.68  \n",
       "DecisionTreeClassifier                                                   68.69  \n",
       "Naive Baseline                                                           49.41  "
      ]
     },
     "execution_count": 92,
     "metadata": {},
     "output_type": "execute_result"
    }
   ],
   "source": [
    "modelResult"
   ]
  },
  {
   "cell_type": "markdown",
   "metadata": {},
   "source": [
    "### 1.3.1. Classification Final Model <a id=\"1.3.1.\"></a>\n",
    "[Back to Top](#top)"
   ]
  },
  {
   "cell_type": "code",
   "execution_count": 93,
   "metadata": {},
   "outputs": [],
   "source": [
    "# Split both Inputs (X) and Ouput (y) into training set (80%) and testing set (20%)\n",
    "x_train, x_test, y_train, y_test = train_test_split(x_data_hr, y_data_hr, test_size=0.2, random_state=999)"
   ]
  },
  {
   "cell_type": "code",
   "execution_count": 94,
   "metadata": {},
   "outputs": [
    {
     "data": {
      "text/plain": [
       "MLPClassifier(activation='logistic', hidden_layer_sizes=(5,), max_iter=2000,\n",
       "              random_state=999)"
      ]
     },
     "execution_count": 94,
     "metadata": {},
     "output_type": "execute_result"
    }
   ],
   "source": [
    "# Build the model using the above suggested hyperparameter values\n",
    "mlp_final = MLPClassifier(activation ='logistic', hidden_layer_sizes=(5,), max_iter=2000, solver ='adam', random_state=999)\n",
    "mlp_final.fit(x_train,y_train)"
   ]
  },
  {
   "cell_type": "code",
   "execution_count": 95,
   "metadata": {},
   "outputs": [
    {
     "name": "stdout",
     "output_type": "stream",
     "text": [
      "0.811194429566149 (Train Accuracy)\n",
      "0.8046038543897216 (Test Accuracy)\n"
     ]
    }
   ],
   "source": [
    "#Evaluate the model: train acc & test acc\n",
    "print(mlp_final.score(x_train, y_train), '(Train Accuracy)')\n",
    "print(mlp_final.score(x_test, y_test), '(Test Accuracy)')"
   ]
  },
  {
   "cell_type": "code",
   "execution_count": 96,
   "metadata": {},
   "outputs": [
    {
     "name": "stdout",
     "output_type": "stream",
     "text": [
      "***Final Multi-layer Perceptron Classifier Model***\n",
      "train_score:  [0.81132833 0.80947918 0.81055027 0.80840809 0.80974695]\n",
      "test_score:  [0.79657388 0.80235672 0.80557043 0.80557043 0.80503482]\n",
      "cross val training accuracy is: 0.8099025660284971\n",
      "cross val testing accuracy is: 0.803021256146138\n"
     ]
    }
   ],
   "source": [
    "print('***Final Multi-layer Perceptron Classifier Model***')\n",
    "\n",
    "results = cross_validate(mlp_final, x_data_hr, y_data_hr, scoring='accuracy', cv=5, return_train_score = True)\n",
    "print('train_score: ', results['train_score'])\n",
    "print('test_score: ', results['test_score'])\n",
    "print('cross val training accuracy is:', sum(results['train_score'])/len(results['train_score']))\n",
    "print('cross val testing accuracy is:', sum(results['test_score'])/len(results['test_score']))"
   ]
  },
  {
   "cell_type": "markdown",
   "metadata": {},
   "source": [
    "## 2. Airbnb <a id=\"AIRBNB\"></a>\n",
    "[Back to Top](#top)"
   ]
  },
  {
   "cell_type": "markdown",
   "metadata": {},
   "source": [
    "### 2.1 Load and Sample the data <a id=\"2.1.\"></a>\n",
    "[Back to Top](#top)"
   ]
  },
  {
   "cell_type": "code",
   "execution_count": 97,
   "metadata": {},
   "outputs": [],
   "source": [
    "data_listings = pd.read_csv(\"./datasets/listings_new.csv\")\n",
    "data_listings_backup = data_listings.copy() #keep a copy of df "
   ]
  },
  {
   "cell_type": "code",
   "execution_count": 98,
   "metadata": {},
   "outputs": [
    {
     "data": {
      "text/html": [
       "<div>\n",
       "<style scoped>\n",
       "    .dataframe tbody tr th:only-of-type {\n",
       "        vertical-align: middle;\n",
       "    }\n",
       "\n",
       "    .dataframe tbody tr th {\n",
       "        vertical-align: top;\n",
       "    }\n",
       "\n",
       "    .dataframe thead th {\n",
       "        text-align: right;\n",
       "    }\n",
       "</style>\n",
       "<table border=\"1\" class=\"dataframe\">\n",
       "  <thead>\n",
       "    <tr style=\"text-align: right;\">\n",
       "      <th></th>\n",
       "      <th>id</th>\n",
       "      <th>host_id</th>\n",
       "      <th>latitude</th>\n",
       "      <th>longitude</th>\n",
       "      <th>minimum_nights</th>\n",
       "      <th>number_of_reviews</th>\n",
       "      <th>reviews_per_month</th>\n",
       "      <th>calculated_host_listings_count</th>\n",
       "      <th>availability_365</th>\n",
       "      <th>last_review_year</th>\n",
       "      <th>...</th>\n",
       "      <th>neighbourhood_Downtown Core</th>\n",
       "      <th>neighbourhood_Singapore River</th>\n",
       "      <th>neighbourhood_Orchard</th>\n",
       "      <th>neighbourhood_Museum</th>\n",
       "      <th>neighbourhood_Bishan</th>\n",
       "      <th>neighbourhood_Southern Islands</th>\n",
       "      <th>room_type_Private room</th>\n",
       "      <th>room_type_Entire home/apt</th>\n",
       "      <th>room_type_Shared room</th>\n",
       "      <th>price</th>\n",
       "    </tr>\n",
       "  </thead>\n",
       "  <tbody>\n",
       "    <tr>\n",
       "      <th>0</th>\n",
       "      <td>-1.904385</td>\n",
       "      <td>-1.714913</td>\n",
       "      <td>1.742860</td>\n",
       "      <td>-2.607617</td>\n",
       "      <td>2.005860</td>\n",
       "      <td>1.245344</td>\n",
       "      <td>-0.820934</td>\n",
       "      <td>-1.411140</td>\n",
       "      <td>0.988777</td>\n",
       "      <td>-6.262193</td>\n",
       "      <td>...</td>\n",
       "      <td>0</td>\n",
       "      <td>0</td>\n",
       "      <td>0</td>\n",
       "      <td>0</td>\n",
       "      <td>0</td>\n",
       "      <td>0</td>\n",
       "      <td>1</td>\n",
       "      <td>0</td>\n",
       "      <td>0</td>\n",
       "      <td>81</td>\n",
       "    </tr>\n",
       "    <tr>\n",
       "      <th>1</th>\n",
       "      <td>-1.904385</td>\n",
       "      <td>-1.558300</td>\n",
       "      <td>-0.927086</td>\n",
       "      <td>-1.701976</td>\n",
       "      <td>0.529333</td>\n",
       "      <td>1.245344</td>\n",
       "      <td>-0.999405</td>\n",
       "      <td>0.493502</td>\n",
       "      <td>0.988777</td>\n",
       "      <td>0.382382</td>\n",
       "      <td>...</td>\n",
       "      <td>0</td>\n",
       "      <td>0</td>\n",
       "      <td>0</td>\n",
       "      <td>0</td>\n",
       "      <td>0</td>\n",
       "      <td>0</td>\n",
       "      <td>1</td>\n",
       "      <td>0</td>\n",
       "      <td>0</td>\n",
       "      <td>44</td>\n",
       "    </tr>\n",
       "    <tr>\n",
       "      <th>2</th>\n",
       "      <td>-1.904385</td>\n",
       "      <td>-1.558300</td>\n",
       "      <td>-0.950356</td>\n",
       "      <td>-1.589413</td>\n",
       "      <td>2.005860</td>\n",
       "      <td>0.951205</td>\n",
       "      <td>-1.504306</td>\n",
       "      <td>0.493502</td>\n",
       "      <td>0.451140</td>\n",
       "      <td>-0.946533</td>\n",
       "      <td>...</td>\n",
       "      <td>0</td>\n",
       "      <td>0</td>\n",
       "      <td>0</td>\n",
       "      <td>0</td>\n",
       "      <td>0</td>\n",
       "      <td>0</td>\n",
       "      <td>1</td>\n",
       "      <td>0</td>\n",
       "      <td>0</td>\n",
       "      <td>40</td>\n",
       "    </tr>\n",
       "    <tr>\n",
       "      <th>3</th>\n",
       "      <td>-1.904385</td>\n",
       "      <td>-1.550971</td>\n",
       "      <td>0.450753</td>\n",
       "      <td>-0.516309</td>\n",
       "      <td>-0.651888</td>\n",
       "      <td>1.539483</td>\n",
       "      <td>1.009771</td>\n",
       "      <td>-0.458819</td>\n",
       "      <td>0.988777</td>\n",
       "      <td>0.382382</td>\n",
       "      <td>...</td>\n",
       "      <td>0</td>\n",
       "      <td>0</td>\n",
       "      <td>0</td>\n",
       "      <td>0</td>\n",
       "      <td>0</td>\n",
       "      <td>0</td>\n",
       "      <td>1</td>\n",
       "      <td>0</td>\n",
       "      <td>0</td>\n",
       "      <td>65</td>\n",
       "    </tr>\n",
       "    <tr>\n",
       "      <th>4</th>\n",
       "      <td>-1.904385</td>\n",
       "      <td>-1.558300</td>\n",
       "      <td>-0.865236</td>\n",
       "      <td>-1.669589</td>\n",
       "      <td>2.005860</td>\n",
       "      <td>0.951205</td>\n",
       "      <td>-1.322494</td>\n",
       "      <td>0.493502</td>\n",
       "      <td>0.988777</td>\n",
       "      <td>0.382382</td>\n",
       "      <td>...</td>\n",
       "      <td>0</td>\n",
       "      <td>0</td>\n",
       "      <td>0</td>\n",
       "      <td>0</td>\n",
       "      <td>0</td>\n",
       "      <td>0</td>\n",
       "      <td>1</td>\n",
       "      <td>0</td>\n",
       "      <td>0</td>\n",
       "      <td>44</td>\n",
       "    </tr>\n",
       "  </tbody>\n",
       "</table>\n",
       "<p>5 rows × 45 columns</p>\n",
       "</div>"
      ],
      "text/plain": [
       "         id   host_id  latitude  longitude  minimum_nights  number_of_reviews  \\\n",
       "0 -1.904385 -1.714913  1.742860  -2.607617        2.005860           1.245344   \n",
       "1 -1.904385 -1.558300 -0.927086  -1.701976        0.529333           1.245344   \n",
       "2 -1.904385 -1.558300 -0.950356  -1.589413        2.005860           0.951205   \n",
       "3 -1.904385 -1.550971  0.450753  -0.516309       -0.651888           1.539483   \n",
       "4 -1.904385 -1.558300 -0.865236  -1.669589        2.005860           0.951205   \n",
       "\n",
       "   reviews_per_month  calculated_host_listings_count  availability_365  \\\n",
       "0          -0.820934                       -1.411140          0.988777   \n",
       "1          -0.999405                        0.493502          0.988777   \n",
       "2          -1.504306                        0.493502          0.451140   \n",
       "3           1.009771                       -0.458819          0.988777   \n",
       "4          -1.322494                        0.493502          0.988777   \n",
       "\n",
       "   last_review_year  ...  neighbourhood_Downtown Core  \\\n",
       "0         -6.262193  ...                            0   \n",
       "1          0.382382  ...                            0   \n",
       "2         -0.946533  ...                            0   \n",
       "3          0.382382  ...                            0   \n",
       "4          0.382382  ...                            0   \n",
       "\n",
       "   neighbourhood_Singapore River  neighbourhood_Orchard  neighbourhood_Museum  \\\n",
       "0                              0                      0                     0   \n",
       "1                              0                      0                     0   \n",
       "2                              0                      0                     0   \n",
       "3                              0                      0                     0   \n",
       "4                              0                      0                     0   \n",
       "\n",
       "   neighbourhood_Bishan  neighbourhood_Southern Islands  \\\n",
       "0                     0                               0   \n",
       "1                     0                               0   \n",
       "2                     0                               0   \n",
       "3                     0                               0   \n",
       "4                     0                               0   \n",
       "\n",
       "   room_type_Private room  room_type_Entire home/apt  room_type_Shared room  \\\n",
       "0                       1                          0                      0   \n",
       "1                       1                          0                      0   \n",
       "2                       1                          0                      0   \n",
       "3                       1                          0                      0   \n",
       "4                       1                          0                      0   \n",
       "\n",
       "   price  \n",
       "0     81  \n",
       "1     44  \n",
       "2     40  \n",
       "3     65  \n",
       "4     44  \n",
       "\n",
       "[5 rows x 45 columns]"
      ]
     },
     "execution_count": 98,
     "metadata": {},
     "output_type": "execute_result"
    }
   ],
   "source": [
    "data_listings.head()"
   ]
  },
  {
   "cell_type": "code",
   "execution_count": 99,
   "metadata": {},
   "outputs": [
    {
     "name": "stdout",
     "output_type": "stream",
     "text": [
      "<class 'pandas.core.frame.DataFrame'>\n",
      "RangeIndex: 5995 entries, 0 to 5994\n",
      "Data columns (total 45 columns):\n",
      " #   Column                                                  Non-Null Count  Dtype  \n",
      "---  ------                                                  --------------  -----  \n",
      " 0   id                                                      5995 non-null   float64\n",
      " 1   host_id                                                 5995 non-null   float64\n",
      " 2   latitude                                                5995 non-null   float64\n",
      " 3   longitude                                               5995 non-null   float64\n",
      " 4   minimum_nights                                          5995 non-null   float64\n",
      " 5   number_of_reviews                                       5995 non-null   float64\n",
      " 6   reviews_per_month                                       5995 non-null   float64\n",
      " 7   calculated_host_listings_count                          5995 non-null   float64\n",
      " 8   availability_365                                        5995 non-null   float64\n",
      " 9   last_review_year                                        5995 non-null   float64\n",
      " 10  last_review_month                                       5995 non-null   float64\n",
      " 11  last_review_day                                         5995 non-null   float64\n",
      " 12  name_Luxury hostel with in-cabin locker - Single mixed  5995 non-null   int64  \n",
      " 13  name_Inviting & Cozy 1BR APT 3 mins from Tg Pagar MRT   5995 non-null   int64  \n",
      " 14  name_Studio Apartment - Oakwood Premier                 5995 non-null   int64  \n",
      " 15  name_Superhost 1BR APT in the heart of Tg Pagar         5995 non-null   int64  \n",
      " 16  name_City-located 1BR loft apartment *BRAND NEW*        5995 non-null   int64  \n",
      " 17  host_name_Jay                                           5995 non-null   int64  \n",
      " 18  host_name_Alvin                                         5995 non-null   int64  \n",
      " 19  host_name_Richards                                      5995 non-null   int64  \n",
      " 20  host_name_Aaron                                         5995 non-null   int64  \n",
      " 21  host_name_Kaurus                                        5995 non-null   int64  \n",
      " 22  neighbourhood_Bukit Timah                               5995 non-null   int64  \n",
      " 23  neighbourhood_Bukit Merah                               5995 non-null   int64  \n",
      " 24  neighbourhood_Newton                                    5995 non-null   int64  \n",
      " 25  neighbourhood_Geylang                                   5995 non-null   int64  \n",
      " 26  neighbourhood_River Valley                              5995 non-null   int64  \n",
      " 27  neighbourhood_Rochor                                    5995 non-null   int64  \n",
      " 28  neighbourhood_Queenstown                                5995 non-null   int64  \n",
      " 29  neighbourhood_Marine Parade                             5995 non-null   int64  \n",
      " 30  neighbourhood_Toa Payoh                                 5995 non-null   int64  \n",
      " 31  neighbourhood_Outram                                    5995 non-null   int64  \n",
      " 32  neighbourhood_Tanglin                                   5995 non-null   int64  \n",
      " 33  neighbourhood_Kallang                                   5995 non-null   int64  \n",
      " 34  neighbourhood_Novena                                    5995 non-null   int64  \n",
      " 35  neighbourhood_Downtown Core                             5995 non-null   int64  \n",
      " 36  neighbourhood_Singapore River                           5995 non-null   int64  \n",
      " 37  neighbourhood_Orchard                                   5995 non-null   int64  \n",
      " 38  neighbourhood_Museum                                    5995 non-null   int64  \n",
      " 39  neighbourhood_Bishan                                    5995 non-null   int64  \n",
      " 40  neighbourhood_Southern Islands                          5995 non-null   int64  \n",
      " 41  room_type_Private room                                  5995 non-null   int64  \n",
      " 42  room_type_Entire home/apt                               5995 non-null   int64  \n",
      " 43  room_type_Shared room                                   5995 non-null   int64  \n",
      " 44  price                                                   5995 non-null   int64  \n",
      "dtypes: float64(12), int64(33)\n",
      "memory usage: 2.1 MB\n"
     ]
    }
   ],
   "source": [
    "data_listings.info()"
   ]
  },
  {
   "cell_type": "code",
   "execution_count": 100,
   "metadata": {},
   "outputs": [],
   "source": [
    "# Set the \"price\" as target/model output and the rest features as model inputs\n",
    "y_data_listings = data_listings['price']\n",
    "x_data_listings = data_listings.drop(['price'], axis=1)"
   ]
  },
  {
   "cell_type": "code",
   "execution_count": 101,
   "metadata": {},
   "outputs": [
    {
     "data": {
      "text/plain": [
       "0    81\n",
       "1    44\n",
       "2    40\n",
       "3    65\n",
       "4    44\n",
       "Name: price, dtype: int64"
      ]
     },
     "execution_count": 101,
     "metadata": {},
     "output_type": "execute_result"
    }
   ],
   "source": [
    "y_data_listings.head()"
   ]
  },
  {
   "cell_type": "code",
   "execution_count": 102,
   "metadata": {},
   "outputs": [
    {
     "data": {
      "text/html": [
       "<div>\n",
       "<style scoped>\n",
       "    .dataframe tbody tr th:only-of-type {\n",
       "        vertical-align: middle;\n",
       "    }\n",
       "\n",
       "    .dataframe tbody tr th {\n",
       "        vertical-align: top;\n",
       "    }\n",
       "\n",
       "    .dataframe thead th {\n",
       "        text-align: right;\n",
       "    }\n",
       "</style>\n",
       "<table border=\"1\" class=\"dataframe\">\n",
       "  <thead>\n",
       "    <tr style=\"text-align: right;\">\n",
       "      <th></th>\n",
       "      <th>id</th>\n",
       "      <th>host_id</th>\n",
       "      <th>latitude</th>\n",
       "      <th>longitude</th>\n",
       "      <th>minimum_nights</th>\n",
       "      <th>number_of_reviews</th>\n",
       "      <th>reviews_per_month</th>\n",
       "      <th>calculated_host_listings_count</th>\n",
       "      <th>availability_365</th>\n",
       "      <th>last_review_year</th>\n",
       "      <th>...</th>\n",
       "      <th>neighbourhood_Novena</th>\n",
       "      <th>neighbourhood_Downtown Core</th>\n",
       "      <th>neighbourhood_Singapore River</th>\n",
       "      <th>neighbourhood_Orchard</th>\n",
       "      <th>neighbourhood_Museum</th>\n",
       "      <th>neighbourhood_Bishan</th>\n",
       "      <th>neighbourhood_Southern Islands</th>\n",
       "      <th>room_type_Private room</th>\n",
       "      <th>room_type_Entire home/apt</th>\n",
       "      <th>room_type_Shared room</th>\n",
       "    </tr>\n",
       "  </thead>\n",
       "  <tbody>\n",
       "    <tr>\n",
       "      <th>0</th>\n",
       "      <td>-1.904385</td>\n",
       "      <td>-1.714913</td>\n",
       "      <td>1.742860</td>\n",
       "      <td>-2.607617</td>\n",
       "      <td>2.005860</td>\n",
       "      <td>1.245344</td>\n",
       "      <td>-0.820934</td>\n",
       "      <td>-1.411140</td>\n",
       "      <td>0.988777</td>\n",
       "      <td>-6.262193</td>\n",
       "      <td>...</td>\n",
       "      <td>0</td>\n",
       "      <td>0</td>\n",
       "      <td>0</td>\n",
       "      <td>0</td>\n",
       "      <td>0</td>\n",
       "      <td>0</td>\n",
       "      <td>0</td>\n",
       "      <td>1</td>\n",
       "      <td>0</td>\n",
       "      <td>0</td>\n",
       "    </tr>\n",
       "    <tr>\n",
       "      <th>1</th>\n",
       "      <td>-1.904385</td>\n",
       "      <td>-1.558300</td>\n",
       "      <td>-0.927086</td>\n",
       "      <td>-1.701976</td>\n",
       "      <td>0.529333</td>\n",
       "      <td>1.245344</td>\n",
       "      <td>-0.999405</td>\n",
       "      <td>0.493502</td>\n",
       "      <td>0.988777</td>\n",
       "      <td>0.382382</td>\n",
       "      <td>...</td>\n",
       "      <td>0</td>\n",
       "      <td>0</td>\n",
       "      <td>0</td>\n",
       "      <td>0</td>\n",
       "      <td>0</td>\n",
       "      <td>0</td>\n",
       "      <td>0</td>\n",
       "      <td>1</td>\n",
       "      <td>0</td>\n",
       "      <td>0</td>\n",
       "    </tr>\n",
       "    <tr>\n",
       "      <th>2</th>\n",
       "      <td>-1.904385</td>\n",
       "      <td>-1.558300</td>\n",
       "      <td>-0.950356</td>\n",
       "      <td>-1.589413</td>\n",
       "      <td>2.005860</td>\n",
       "      <td>0.951205</td>\n",
       "      <td>-1.504306</td>\n",
       "      <td>0.493502</td>\n",
       "      <td>0.451140</td>\n",
       "      <td>-0.946533</td>\n",
       "      <td>...</td>\n",
       "      <td>0</td>\n",
       "      <td>0</td>\n",
       "      <td>0</td>\n",
       "      <td>0</td>\n",
       "      <td>0</td>\n",
       "      <td>0</td>\n",
       "      <td>0</td>\n",
       "      <td>1</td>\n",
       "      <td>0</td>\n",
       "      <td>0</td>\n",
       "    </tr>\n",
       "    <tr>\n",
       "      <th>3</th>\n",
       "      <td>-1.904385</td>\n",
       "      <td>-1.550971</td>\n",
       "      <td>0.450753</td>\n",
       "      <td>-0.516309</td>\n",
       "      <td>-0.651888</td>\n",
       "      <td>1.539483</td>\n",
       "      <td>1.009771</td>\n",
       "      <td>-0.458819</td>\n",
       "      <td>0.988777</td>\n",
       "      <td>0.382382</td>\n",
       "      <td>...</td>\n",
       "      <td>0</td>\n",
       "      <td>0</td>\n",
       "      <td>0</td>\n",
       "      <td>0</td>\n",
       "      <td>0</td>\n",
       "      <td>0</td>\n",
       "      <td>0</td>\n",
       "      <td>1</td>\n",
       "      <td>0</td>\n",
       "      <td>0</td>\n",
       "    </tr>\n",
       "    <tr>\n",
       "      <th>4</th>\n",
       "      <td>-1.904385</td>\n",
       "      <td>-1.558300</td>\n",
       "      <td>-0.865236</td>\n",
       "      <td>-1.669589</td>\n",
       "      <td>2.005860</td>\n",
       "      <td>0.951205</td>\n",
       "      <td>-1.322494</td>\n",
       "      <td>0.493502</td>\n",
       "      <td>0.988777</td>\n",
       "      <td>0.382382</td>\n",
       "      <td>...</td>\n",
       "      <td>0</td>\n",
       "      <td>0</td>\n",
       "      <td>0</td>\n",
       "      <td>0</td>\n",
       "      <td>0</td>\n",
       "      <td>0</td>\n",
       "      <td>0</td>\n",
       "      <td>1</td>\n",
       "      <td>0</td>\n",
       "      <td>0</td>\n",
       "    </tr>\n",
       "  </tbody>\n",
       "</table>\n",
       "<p>5 rows × 44 columns</p>\n",
       "</div>"
      ],
      "text/plain": [
       "         id   host_id  latitude  longitude  minimum_nights  number_of_reviews  \\\n",
       "0 -1.904385 -1.714913  1.742860  -2.607617        2.005860           1.245344   \n",
       "1 -1.904385 -1.558300 -0.927086  -1.701976        0.529333           1.245344   \n",
       "2 -1.904385 -1.558300 -0.950356  -1.589413        2.005860           0.951205   \n",
       "3 -1.904385 -1.550971  0.450753  -0.516309       -0.651888           1.539483   \n",
       "4 -1.904385 -1.558300 -0.865236  -1.669589        2.005860           0.951205   \n",
       "\n",
       "   reviews_per_month  calculated_host_listings_count  availability_365  \\\n",
       "0          -0.820934                       -1.411140          0.988777   \n",
       "1          -0.999405                        0.493502          0.988777   \n",
       "2          -1.504306                        0.493502          0.451140   \n",
       "3           1.009771                       -0.458819          0.988777   \n",
       "4          -1.322494                        0.493502          0.988777   \n",
       "\n",
       "   last_review_year  ...  neighbourhood_Novena  neighbourhood_Downtown Core  \\\n",
       "0         -6.262193  ...                     0                            0   \n",
       "1          0.382382  ...                     0                            0   \n",
       "2         -0.946533  ...                     0                            0   \n",
       "3          0.382382  ...                     0                            0   \n",
       "4          0.382382  ...                     0                            0   \n",
       "\n",
       "   neighbourhood_Singapore River  neighbourhood_Orchard  neighbourhood_Museum  \\\n",
       "0                              0                      0                     0   \n",
       "1                              0                      0                     0   \n",
       "2                              0                      0                     0   \n",
       "3                              0                      0                     0   \n",
       "4                              0                      0                     0   \n",
       "\n",
       "   neighbourhood_Bishan  neighbourhood_Southern Islands  \\\n",
       "0                     0                               0   \n",
       "1                     0                               0   \n",
       "2                     0                               0   \n",
       "3                     0                               0   \n",
       "4                     0                               0   \n",
       "\n",
       "   room_type_Private room  room_type_Entire home/apt  room_type_Shared room  \n",
       "0                       1                          0                      0  \n",
       "1                       1                          0                      0  \n",
       "2                       1                          0                      0  \n",
       "3                       1                          0                      0  \n",
       "4                       1                          0                      0  \n",
       "\n",
       "[5 rows x 44 columns]"
      ]
     },
     "execution_count": 102,
     "metadata": {},
     "output_type": "execute_result"
    }
   ],
   "source": [
    "x_data_listings.head()"
   ]
  },
  {
   "cell_type": "markdown",
   "metadata": {},
   "source": [
    "### 2.2 Build the Model(s)  <a id=\"2.2.\"></a>\n",
    "[Back to Top](#top)"
   ]
  },
  {
   "cell_type": "code",
   "execution_count": 103,
   "metadata": {},
   "outputs": [],
   "source": [
    "# Create DataFrame for Model Comparison \n",
    "resultOfRegModelsDict = {'Model': [], 'Training MAE': [], 'Testing MAE': [], \n",
    "                         'Training RMSE': [], 'Testing RMSE': [], \n",
    "                         'Training R2': [], 'Testing R2': [], \n",
    "                        'Cross Val Training MAE': [], 'Cross Val Testing MAE': [],\n",
    "                        'Cross Val Training RMSE': [], 'Cross Val Testing RMSE': [],\n",
    "                        'Cross Val Training R2': [], 'Cross Val Testing R2': []} \n",
    "resultOfRegModels = pd.DataFrame(resultOfRegModelsDict)  "
   ]
  },
  {
   "cell_type": "code",
   "execution_count": 104,
   "metadata": {},
   "outputs": [
    {
     "data": {
      "text/html": [
       "<div>\n",
       "<style scoped>\n",
       "    .dataframe tbody tr th:only-of-type {\n",
       "        vertical-align: middle;\n",
       "    }\n",
       "\n",
       "    .dataframe tbody tr th {\n",
       "        vertical-align: top;\n",
       "    }\n",
       "\n",
       "    .dataframe thead th {\n",
       "        text-align: right;\n",
       "    }\n",
       "</style>\n",
       "<table border=\"1\" class=\"dataframe\">\n",
       "  <thead>\n",
       "    <tr style=\"text-align: right;\">\n",
       "      <th></th>\n",
       "      <th>Model</th>\n",
       "      <th>Training MAE</th>\n",
       "      <th>Testing MAE</th>\n",
       "      <th>Training RMSE</th>\n",
       "      <th>Testing RMSE</th>\n",
       "      <th>Training R2</th>\n",
       "      <th>Testing R2</th>\n",
       "      <th>Cross Val Training MAE</th>\n",
       "      <th>Cross Val Testing MAE</th>\n",
       "      <th>Cross Val Training RMSE</th>\n",
       "      <th>Cross Val Testing RMSE</th>\n",
       "      <th>Cross Val Training R2</th>\n",
       "      <th>Cross Val Testing R2</th>\n",
       "    </tr>\n",
       "  </thead>\n",
       "  <tbody>\n",
       "  </tbody>\n",
       "</table>\n",
       "</div>"
      ],
      "text/plain": [
       "Empty DataFrame\n",
       "Columns: [Model, Training MAE, Testing MAE, Training RMSE, Testing RMSE, Training R2, Testing R2, Cross Val Training MAE, Cross Val Testing MAE, Cross Val Training RMSE, Cross Val Testing RMSE, Cross Val Training R2, Cross Val Testing R2]\n",
       "Index: []"
      ]
     },
     "execution_count": 104,
     "metadata": {},
     "output_type": "execute_result"
    }
   ],
   "source": [
    "resultOfRegModels"
   ]
  },
  {
   "cell_type": "markdown",
   "metadata": {},
   "source": [
    "### 2.2.1. Naïve Baseline Model  <a id=\"2.2.1.\"></a>\n",
    "[Back to Top](#top)"
   ]
  },
  {
   "cell_type": "code",
   "execution_count": 105,
   "metadata": {},
   "outputs": [],
   "source": [
    "# Split both Inputs (X) and Ouput (y) into training set (80%) and testing set (20%)\n",
    "x_train, x_test, y_train, y_test = train_test_split(x_data_listings, y_data_listings, test_size=0.2, random_state=999)"
   ]
  },
  {
   "cell_type": "code",
   "execution_count": 106,
   "metadata": {},
   "outputs": [
    {
     "data": {
      "text/plain": [
       "((4796, 44), (1199, 44))"
      ]
     },
     "execution_count": 106,
     "metadata": {},
     "output_type": "execute_result"
    }
   ],
   "source": [
    "x_train.shape, x_test.shape"
   ]
  },
  {
   "cell_type": "code",
   "execution_count": 107,
   "metadata": {},
   "outputs": [
    {
     "name": "stdout",
     "output_type": "stream",
     "text": [
      "142.9699749791493\n",
      "The train mean target value is 142.97.\n"
     ]
    }
   ],
   "source": [
    "print(y_train.mean())\n",
    "\n",
    "mean_target_value = y_train.mean()\n",
    "\n",
    "print(f\"The train mean target value is {mean_target_value:.2f}.\")"
   ]
  },
  {
   "cell_type": "code",
   "execution_count": 108,
   "metadata": {},
   "outputs": [
    {
     "data": {
      "text/plain": [
       "[142.97, 142.97, 142.97, 142.97, 142.97]"
      ]
     },
     "execution_count": 108,
     "metadata": {},
     "output_type": "execute_result"
    }
   ],
   "source": [
    "y_train_preds_naive = [round(mean_target_value,2) for row in x_train.iloc[:,0]]\n",
    "y_train_preds_naive[0:5]"
   ]
  },
  {
   "cell_type": "code",
   "execution_count": 109,
   "metadata": {},
   "outputs": [
    {
     "data": {
      "text/plain": [
       "[142.97, 142.97, 142.97, 142.97, 142.97]"
      ]
     },
     "execution_count": 109,
     "metadata": {},
     "output_type": "execute_result"
    }
   ],
   "source": [
    "y_test_preds_naive = [round(mean_target_value,2) for row in x_test.iloc[:,0]]\n",
    "y_test_preds_naive[0:5]"
   ]
  },
  {
   "cell_type": "code",
   "execution_count": 110,
   "metadata": {},
   "outputs": [
    {
     "name": "stdout",
     "output_type": "stream",
     "text": [
      "The Naive Baseline Model's MAE on train data is 68.63.\n",
      "The Naive Baseline Model's MAE on test data is 68.52.\n",
      "\n",
      "The Naive Baseline Model's RMSE on train data is 84.92.\n",
      "The Naive Baseline Model's RMSE on test data is 85.43.\n",
      "\n",
      "The Naive Baseline Model's R2 on train data is -0.00.\n",
      "The Naive Baseline Model's R2 on test data is -0.00.\n"
     ]
    }
   ],
   "source": [
    "# Mean Absolute Error (the lower the better, 0 is best possible score)\n",
    "\n",
    "# train MAE score\n",
    "y_true = y_train\n",
    "y_pred = y_train_preds_naive\n",
    "\n",
    "train_mae_naive = mean_absolute_error(y_true, y_pred)\n",
    "print(f\"The Naive Baseline Model's MAE on train data is {train_mae_naive:.2f}.\")\n",
    "\n",
    "# test MAE score\n",
    "y_true = y_test\n",
    "y_pred = y_test_preds_naive\n",
    "\n",
    "test_mae_naive = mean_absolute_error(y_true, y_pred)\n",
    "print(f\"The Naive Baseline Model's MAE on test data is {test_mae_naive:.2f}.\")\n",
    "\n",
    "print()\n",
    "\n",
    "# Root Mean Squared Error (if MSE < 1, rooting it makes it numerically larger, vice-versa if MSE > 1)\n",
    "\n",
    "# train RMSE score\n",
    "y_true = y_train\n",
    "y_pred = y_train_preds_naive\n",
    "\n",
    "train_rmse_naive = mean_squared_error(y_true, y_pred, squared=False)\n",
    "print(f\"The Naive Baseline Model's RMSE on train data is {train_rmse_naive:.2f}.\")\n",
    "\n",
    "# test RMSE score\n",
    "y_true = y_test\n",
    "y_pred = y_test_preds_naive\n",
    "\n",
    "test_rmse_naive = mean_squared_error(y_true, y_pred, squared=False)\n",
    "print(f\"The Naive Baseline Model's RMSE on test data is {test_rmse_naive:.2f}.\")\n",
    "\n",
    "print()\n",
    "\n",
    "# R2 Value (Coefficient of Determination, which measures how well the X cols account for y's variance, 1.0 is best score)\n",
    "\n",
    "# train R2 score\n",
    "y_true = y_train\n",
    "y_pred = y_train_preds_naive\n",
    "\n",
    "train_r2_naive = r2_score(y_true, y_pred)\n",
    "print(f\"The Naive Baseline Model's R2 on train data is {train_r2_naive:.2f}.\")\n",
    "\n",
    "# test R2 score\n",
    "y_true = y_test\n",
    "y_pred = y_test_preds_naive\n",
    "\n",
    "test_r2_naive = r2_score(y_true, y_pred)\n",
    "print(f\"The Naive Baseline Model's R2 on test data is {test_r2_naive:.2f}.\")"
   ]
  },
  {
   "cell_type": "code",
   "execution_count": 111,
   "metadata": {},
   "outputs": [],
   "source": [
    "# Add Naive Baseline model to resultOfRegModelsDict\n",
    "new_row = {'Model': 'Naive Baseline Model', 'Training MAE': train_mae_naive, 'Testing MAE': test_mae_naive, \n",
    "                         'Training RMSE': train_rmse_naive, 'Testing RMSE': test_rmse_naive, \n",
    "                         'Training R2': 0, 'Testing R2': 0, \n",
    "                        'Cross Val Training MAE': train_mae_naive, 'Cross Val Testing MAE': test_mae_naive,\n",
    "                        'Cross Val Training RMSE': train_rmse_naive, 'Cross Val Testing RMSE': test_rmse_naive,\n",
    "                        'Cross Val Training R2': 0, 'Cross Val Testing R2': 0}\n",
    "new_df = pd.DataFrame([new_row])\n",
    "resultOfRegModels = pd.concat([resultOfRegModels, new_df], axis=0, ignore_index=True) "
   ]
  },
  {
   "cell_type": "code",
   "execution_count": 112,
   "metadata": {},
   "outputs": [
    {
     "data": {
      "text/html": [
       "<div>\n",
       "<style scoped>\n",
       "    .dataframe tbody tr th:only-of-type {\n",
       "        vertical-align: middle;\n",
       "    }\n",
       "\n",
       "    .dataframe tbody tr th {\n",
       "        vertical-align: top;\n",
       "    }\n",
       "\n",
       "    .dataframe thead th {\n",
       "        text-align: right;\n",
       "    }\n",
       "</style>\n",
       "<table border=\"1\" class=\"dataframe\">\n",
       "  <thead>\n",
       "    <tr style=\"text-align: right;\">\n",
       "      <th></th>\n",
       "      <th>Model</th>\n",
       "      <th>Training MAE</th>\n",
       "      <th>Testing MAE</th>\n",
       "      <th>Training RMSE</th>\n",
       "      <th>Testing RMSE</th>\n",
       "      <th>Training R2</th>\n",
       "      <th>Testing R2</th>\n",
       "      <th>Cross Val Training MAE</th>\n",
       "      <th>Cross Val Testing MAE</th>\n",
       "      <th>Cross Val Training RMSE</th>\n",
       "      <th>Cross Val Testing RMSE</th>\n",
       "      <th>Cross Val Training R2</th>\n",
       "      <th>Cross Val Testing R2</th>\n",
       "    </tr>\n",
       "  </thead>\n",
       "  <tbody>\n",
       "    <tr>\n",
       "      <th>0</th>\n",
       "      <td>Naive Baseline Model</td>\n",
       "      <td>68.634679</td>\n",
       "      <td>68.519158</td>\n",
       "      <td>84.923269</td>\n",
       "      <td>85.430959</td>\n",
       "      <td>0.0</td>\n",
       "      <td>0.0</td>\n",
       "      <td>68.634679</td>\n",
       "      <td>68.519158</td>\n",
       "      <td>84.923269</td>\n",
       "      <td>85.430959</td>\n",
       "      <td>0.0</td>\n",
       "      <td>0.0</td>\n",
       "    </tr>\n",
       "  </tbody>\n",
       "</table>\n",
       "</div>"
      ],
      "text/plain": [
       "                  Model  Training MAE  Testing MAE  Training RMSE  \\\n",
       "0  Naive Baseline Model     68.634679    68.519158      84.923269   \n",
       "\n",
       "   Testing RMSE  Training R2  Testing R2  Cross Val Training MAE  \\\n",
       "0     85.430959          0.0         0.0               68.634679   \n",
       "\n",
       "   Cross Val Testing MAE  Cross Val Training RMSE  Cross Val Testing RMSE  \\\n",
       "0              68.519158                84.923269               85.430959   \n",
       "\n",
       "   Cross Val Training R2  Cross Val Testing R2  \n",
       "0                    0.0                   0.0  "
      ]
     },
     "execution_count": 112,
     "metadata": {},
     "output_type": "execute_result"
    }
   ],
   "source": [
    "resultOfRegModels"
   ]
  },
  {
   "cell_type": "markdown",
   "metadata": {},
   "source": [
    "### 2.2.2. Linear Regression Model <a id=\"2.2.2.\"></a>\n",
    "[Back to Top](#top)"
   ]
  },
  {
   "cell_type": "code",
   "execution_count": 113,
   "metadata": {},
   "outputs": [],
   "source": [
    "# Split both Inputs (X) and Ouput (y) into training set (80%) and testing set (20%)\n",
    "x_train, x_test, y_train, y_test = train_test_split(x_data_listings, y_data_listings, test_size=0.2, random_state=999)"
   ]
  },
  {
   "cell_type": "code",
   "execution_count": 114,
   "metadata": {},
   "outputs": [
    {
     "data": {
      "text/plain": [
       "LinearRegression()"
      ]
     },
     "execution_count": 114,
     "metadata": {},
     "output_type": "execute_result"
    }
   ],
   "source": [
    "lm1 = LinearRegression()\n",
    "lm1.fit(x_train, y_train)"
   ]
  },
  {
   "cell_type": "code",
   "execution_count": 115,
   "metadata": {},
   "outputs": [
    {
     "name": "stdout",
     "output_type": "stream",
     "text": [
      "61.675579752847895 (Train RMSE)\n",
      "46.72608028996053 (Train MAE)\n",
      "0.47255998213602535 (Train R^2 Value)\n"
     ]
    }
   ],
   "source": [
    "# Calculated the fitted values for training set\n",
    "y_fitted = lm1.predict(x_train)\n",
    "# Calculated the RMSE and R^2 for training set\n",
    "print(sqrt(mean_squared_error(y_fitted, y_train)), '(Train RMSE)') # RMSE: the lower the better\n",
    "print(mean_absolute_error(y_fitted, y_train), '(Train MAE)') # MAE: the lower the better\n",
    "print(lm1.score(x_train, y_train), '(Train R^2 Value)') # R squared value (ranges from 0 to 1): the higher the better"
   ]
  },
  {
   "cell_type": "code",
   "execution_count": 116,
   "metadata": {},
   "outputs": [
    {
     "name": "stdout",
     "output_type": "stream",
     "text": [
      "63.8043584663856 (Test RMSE)\n",
      "47.698981436943626 (Test MAE)\n",
      "0.44176300784878786 (Test R^2 Value)\n"
     ]
    }
   ],
   "source": [
    "# calculated the predicated value for testing data\n",
    "y_pred = lm1.predict(x_test)\n",
    "# Calculated the RMSE and R^2 for testing set\n",
    "print(sqrt(mean_squared_error(y_pred, y_test)), '(Test RMSE)') # RMSE: the lower the better\n",
    "print(mean_absolute_error(y_pred, y_test), '(Test MAE)') # MAE: the lower the better\n",
    "print(lm1.score(x_test, y_test), '(Test R^2 Value)') # R squared value (ranges from 0 to 1): the higher the better"
   ]
  },
  {
   "cell_type": "code",
   "execution_count": 117,
   "metadata": {},
   "outputs": [
    {
     "name": "stdout",
     "output_type": "stream",
     "text": [
      "[-4.11772813e+00  8.32150873e+00  2.68895521e-02 -1.82493714e+01\n",
      " -1.30909576e+01 -1.12386719e+01  4.74082964e+00 -4.72967087e+00\n",
      "  1.30497733e+01 -3.72778742e+00 -9.40542897e-01  2.95446135e-01\n",
      " -1.50832027e+01 -3.01684998e+01  6.30192954e+01  1.99033819e+01\n",
      " -1.44055816e+01 -5.79910357e+00  3.09163038e+01 -1.09919888e+01\n",
      "  1.63878553e+01 -1.93708141e+01 -4.45388309e+01 -4.48972916e+01\n",
      " -5.95754763e+00  4.69014210e+00 -2.49552270e+01 -2.57653665e+00\n",
      " -4.55714199e+01  3.50279535e+01 -1.31606586e+01  1.07893360e-01\n",
      " -1.45277073e+01 -5.76109038e+00 -1.13890687e+01  2.29190663e+01\n",
      " -3.44501907e+00  4.45212087e+01  1.73950546e+01 -2.12073530e+01\n",
      "  1.13326432e+02 -1.46904314e+01  8.61801426e+01 -7.14897113e+01]\n",
      "108.82764991885989\n"
     ]
    }
   ],
   "source": [
    "# print out the model coefficients and intercept\n",
    "print(lm1.coef_)\n",
    "print(lm1.intercept_)"
   ]
  },
  {
   "cell_type": "code",
   "execution_count": 118,
   "metadata": {},
   "outputs": [
    {
     "name": "stdout",
     "output_type": "stream",
     "text": [
      "train_score:  [-63.09527382 -62.10814496 -61.89924328 -60.86763115 -61.26197365]\n",
      "test_score:  [-59.17689811 -62.42697058 -62.99899842 -67.93348561 -66.20016654]\n",
      "cross val training root_mean_squared_error is: 61.846453370372714\n",
      "cross val testing root_mean_squared_error is: 63.7473038526384\n",
      "\n",
      "train_score:  [-47.91790071 -47.45082812 -46.66658277 -45.9418314  -45.80256474]\n",
      "test_score:  [-43.93433456 -45.72146073 -47.35519178 -52.33489461 -53.21307119]\n",
      "cross val training mean_absolute_error is: 46.75594154756596\n",
      "cross val testing mean_absolute_error is: 48.511790573951664\n",
      "\n",
      "train_score:  [0.46535403 0.46372092 0.46450462 0.48813977 0.46688548]\n",
      "test_score:  [0.39689904 0.44823639 0.46677387 0.336527   0.43130237]\n",
      "cross val training r2 is: 0.46972096360494975\n",
      "cross val testing r2 is: 0.4159477343879554\n"
     ]
    }
   ],
   "source": [
    "# Evaluate the Model using K-folds Cross validation  RMSE\n",
    "rmse_results = cross_validate(lm1, x_data_listings, y_data_listings, scoring='neg_root_mean_squared_error', cv=5, return_train_score = True)\n",
    "print('train_score: ', rmse_results['train_score'])\n",
    "print('test_score: ', rmse_results['test_score'])\n",
    "print('cross val training root_mean_squared_error is:', sum(-rmse_results['train_score'])/len(rmse_results['train_score']))\n",
    "print('cross val testing root_mean_squared_error is:', sum(-rmse_results['test_score'])/len(rmse_results['test_score']))\n",
    "print()\n",
    "# Evaluate the Model using K-folds Cross validation  MAE\n",
    "mae_results = cross_validate(lm1, x_data_listings, y_data_listings, scoring='neg_mean_absolute_error', cv=5, return_train_score = True)\n",
    "print('train_score: ', mae_results['train_score'])\n",
    "print('test_score: ', mae_results['test_score'])\n",
    "print('cross val training mean_absolute_error is:', sum(-mae_results['train_score'])/len(mae_results['train_score']))\n",
    "print('cross val testing mean_absolute_error is:', sum(-mae_results['test_score'])/len(mae_results['test_score']))\n",
    "print()\n",
    "# Evaluate the Model using K-folds Cross validation  R2\n",
    "r2_results = cross_validate(lm1, x_data_listings, y_data_listings, scoring='r2', cv=5, return_train_score = True)\n",
    "print('train_score: ', r2_results['train_score'])\n",
    "print('test_score: ', r2_results['test_score'])\n",
    "print('cross val training r2 is:', sum(r2_results['train_score'])/len(r2_results['train_score']))\n",
    "print('cross val testing r2 is:', sum(r2_results['test_score'])/len(r2_results['test_score']))"
   ]
  },
  {
   "cell_type": "code",
   "execution_count": 119,
   "metadata": {},
   "outputs": [],
   "source": [
    "# Add Linear Regression model to resultOfRegModelsDict\n",
    "new_row = {'Model': 'Linear Regression Model', 'Training MAE': mean_absolute_error(y_fitted, y_train), 'Testing MAE': mean_absolute_error(y_pred, y_test), \n",
    "                         'Training RMSE': sqrt(mean_squared_error(y_fitted, y_train)), 'Testing RMSE': sqrt(mean_squared_error(y_pred, y_test)), \n",
    "                         'Training R2': lm1.score(x_train, y_train), 'Testing R2': lm1.score(x_test, y_test), \n",
    "                        'Cross Val Training MAE':  sum(-mae_results['train_score'])/len(mae_results['train_score']), 'Cross Val Testing MAE': sum(-mae_results['test_score'])/len(mae_results['test_score']),\n",
    "                        'Cross Val Training RMSE': sum(-rmse_results['train_score'])/len(rmse_results['train_score']), 'Cross Val Testing RMSE': sum(-rmse_results['test_score'])/len(rmse_results['test_score']),\n",
    "                        'Cross Val Training R2': (sum(r2_results['train_score'])/len(r2_results['train_score'])), 'Cross Val Testing R2': (sum(r2_results['test_score'])/len(r2_results['test_score']))}\n",
    "new_df = pd.DataFrame([new_row])\n",
    "resultOfRegModels = pd.concat([resultOfRegModels, new_df], axis=0, ignore_index=True) "
   ]
  },
  {
   "cell_type": "code",
   "execution_count": 120,
   "metadata": {},
   "outputs": [
    {
     "data": {
      "text/html": [
       "<div>\n",
       "<style scoped>\n",
       "    .dataframe tbody tr th:only-of-type {\n",
       "        vertical-align: middle;\n",
       "    }\n",
       "\n",
       "    .dataframe tbody tr th {\n",
       "        vertical-align: top;\n",
       "    }\n",
       "\n",
       "    .dataframe thead th {\n",
       "        text-align: right;\n",
       "    }\n",
       "</style>\n",
       "<table border=\"1\" class=\"dataframe\">\n",
       "  <thead>\n",
       "    <tr style=\"text-align: right;\">\n",
       "      <th></th>\n",
       "      <th>Model</th>\n",
       "      <th>Training MAE</th>\n",
       "      <th>Testing MAE</th>\n",
       "      <th>Training RMSE</th>\n",
       "      <th>Testing RMSE</th>\n",
       "      <th>Training R2</th>\n",
       "      <th>Testing R2</th>\n",
       "      <th>Cross Val Training MAE</th>\n",
       "      <th>Cross Val Testing MAE</th>\n",
       "      <th>Cross Val Training RMSE</th>\n",
       "      <th>Cross Val Testing RMSE</th>\n",
       "      <th>Cross Val Training R2</th>\n",
       "      <th>Cross Val Testing R2</th>\n",
       "    </tr>\n",
       "  </thead>\n",
       "  <tbody>\n",
       "    <tr>\n",
       "      <th>0</th>\n",
       "      <td>Naive Baseline Model</td>\n",
       "      <td>68.634679</td>\n",
       "      <td>68.519158</td>\n",
       "      <td>84.923269</td>\n",
       "      <td>85.430959</td>\n",
       "      <td>0.00000</td>\n",
       "      <td>0.000000</td>\n",
       "      <td>68.634679</td>\n",
       "      <td>68.519158</td>\n",
       "      <td>84.923269</td>\n",
       "      <td>85.430959</td>\n",
       "      <td>0.000000</td>\n",
       "      <td>0.000000</td>\n",
       "    </tr>\n",
       "    <tr>\n",
       "      <th>1</th>\n",
       "      <td>Linear Regression Model</td>\n",
       "      <td>46.726080</td>\n",
       "      <td>47.698981</td>\n",
       "      <td>61.675580</td>\n",
       "      <td>63.804358</td>\n",
       "      <td>0.47256</td>\n",
       "      <td>0.441763</td>\n",
       "      <td>46.755942</td>\n",
       "      <td>48.511791</td>\n",
       "      <td>61.846453</td>\n",
       "      <td>63.747304</td>\n",
       "      <td>0.469721</td>\n",
       "      <td>0.415948</td>\n",
       "    </tr>\n",
       "  </tbody>\n",
       "</table>\n",
       "</div>"
      ],
      "text/plain": [
       "                     Model  Training MAE  Testing MAE  Training RMSE  \\\n",
       "0     Naive Baseline Model     68.634679    68.519158      84.923269   \n",
       "1  Linear Regression Model     46.726080    47.698981      61.675580   \n",
       "\n",
       "   Testing RMSE  Training R2  Testing R2  Cross Val Training MAE  \\\n",
       "0     85.430959      0.00000    0.000000               68.634679   \n",
       "1     63.804358      0.47256    0.441763               46.755942   \n",
       "\n",
       "   Cross Val Testing MAE  Cross Val Training RMSE  Cross Val Testing RMSE  \\\n",
       "0              68.519158                84.923269               85.430959   \n",
       "1              48.511791                61.846453               63.747304   \n",
       "\n",
       "   Cross Val Training R2  Cross Val Testing R2  \n",
       "0               0.000000              0.000000  \n",
       "1               0.469721              0.415948  "
      ]
     },
     "execution_count": 120,
     "metadata": {},
     "output_type": "execute_result"
    }
   ],
   "source": [
    "resultOfRegModels"
   ]
  },
  {
   "cell_type": "markdown",
   "metadata": {},
   "source": [
    "### 2.2.2.1. Improve Linear Regression Model  <a id=\"2.2.2.1.\"></a>\n",
    "[Back to Top](#top)"
   ]
  },
  {
   "cell_type": "code",
   "execution_count": 121,
   "metadata": {},
   "outputs": [
    {
     "data": {
      "text/html": [
       "<table class=\"simpletable\">\n",
       "<caption>OLS Regression Results</caption>\n",
       "<tr>\n",
       "  <th>Dep. Variable:</th>          <td>price</td>      <th>  R-squared:         </th> <td>   0.473</td> \n",
       "</tr>\n",
       "<tr>\n",
       "  <th>Model:</th>                   <td>OLS</td>       <th>  Adj. R-squared:    </th> <td>   0.468</td> \n",
       "</tr>\n",
       "<tr>\n",
       "  <th>Method:</th>             <td>Least Squares</td>  <th>  F-statistic:       </th> <td>   101.4</td> \n",
       "</tr>\n",
       "<tr>\n",
       "  <th>Date:</th>             <td>Sat, 11 Feb 2023</td> <th>  Prob (F-statistic):</th>  <td>  0.00</td>  \n",
       "</tr>\n",
       "<tr>\n",
       "  <th>Time:</th>                 <td>21:53:21</td>     <th>  Log-Likelihood:    </th> <td> -26574.</td> \n",
       "</tr>\n",
       "<tr>\n",
       "  <th>No. Observations:</th>      <td>  4796</td>      <th>  AIC:               </th> <td>5.323e+04</td>\n",
       "</tr>\n",
       "<tr>\n",
       "  <th>Df Residuals:</th>          <td>  4753</td>      <th>  BIC:               </th> <td>5.351e+04</td>\n",
       "</tr>\n",
       "<tr>\n",
       "  <th>Df Model:</th>              <td>    42</td>      <th>                     </th>     <td> </td>    \n",
       "</tr>\n",
       "<tr>\n",
       "  <th>Covariance Type:</th>      <td>nonrobust</td>    <th>                     </th>     <td> </td>    \n",
       "</tr>\n",
       "</table>\n",
       "<table class=\"simpletable\">\n",
       "<tr>\n",
       "                             <td></td>                               <th>coef</th>     <th>std err</th>      <th>t</th>      <th>P>|t|</th>  <th>[0.025</th>    <th>0.975]</th>  \n",
       "</tr>\n",
       "<tr>\n",
       "  <th>id</th>                                                     <td>   -4.1177</td> <td>    1.336</td> <td>   -3.081</td> <td> 0.002</td> <td>   -6.738</td> <td>   -1.498</td>\n",
       "</tr>\n",
       "<tr>\n",
       "  <th>host_id</th>                                                <td>    8.3215</td> <td>    1.183</td> <td>    7.035</td> <td> 0.000</td> <td>    6.003</td> <td>   10.640</td>\n",
       "</tr>\n",
       "<tr>\n",
       "  <th>latitude</th>                                               <td>    0.0269</td> <td>    2.729</td> <td>    0.010</td> <td> 0.992</td> <td>   -5.323</td> <td>    5.377</td>\n",
       "</tr>\n",
       "<tr>\n",
       "  <th>longitude</th>                                              <td>  -18.2494</td> <td>    3.656</td> <td>   -4.992</td> <td> 0.000</td> <td>  -25.417</td> <td>  -11.082</td>\n",
       "</tr>\n",
       "<tr>\n",
       "  <th>minimum_nights</th>                                         <td>  -13.0910</td> <td>    1.078</td> <td>  -12.140</td> <td> 0.000</td> <td>  -15.205</td> <td>  -10.977</td>\n",
       "</tr>\n",
       "<tr>\n",
       "  <th>number_of_reviews</th>                                      <td>  -11.2387</td> <td>    1.321</td> <td>   -8.509</td> <td> 0.000</td> <td>  -13.828</td> <td>   -8.649</td>\n",
       "</tr>\n",
       "<tr>\n",
       "  <th>reviews_per_month</th>                                      <td>    4.7408</td> <td>    1.485</td> <td>    3.192</td> <td> 0.001</td> <td>    1.829</td> <td>    7.653</td>\n",
       "</tr>\n",
       "<tr>\n",
       "  <th>calculated_host_listings_count</th>                         <td>   -4.7297</td> <td>    1.328</td> <td>   -3.561</td> <td> 0.000</td> <td>   -7.334</td> <td>   -2.126</td>\n",
       "</tr>\n",
       "<tr>\n",
       "  <th>availability_365</th>                                       <td>   13.0498</td> <td>    1.092</td> <td>   11.946</td> <td> 0.000</td> <td>   10.908</td> <td>   15.191</td>\n",
       "</tr>\n",
       "<tr>\n",
       "  <th>last_review_year</th>                                       <td>   -3.7278</td> <td>    1.295</td> <td>   -2.878</td> <td> 0.004</td> <td>   -6.267</td> <td>   -1.189</td>\n",
       "</tr>\n",
       "<tr>\n",
       "  <th>last_review_month</th>                                      <td>   -0.9405</td> <td>    0.987</td> <td>   -0.953</td> <td> 0.341</td> <td>   -2.876</td> <td>    0.995</td>\n",
       "</tr>\n",
       "<tr>\n",
       "  <th>last_review_day</th>                                        <td>    0.2954</td> <td>    0.897</td> <td>    0.329</td> <td> 0.742</td> <td>   -1.464</td> <td>    2.055</td>\n",
       "</tr>\n",
       "<tr>\n",
       "  <th>name_Luxury hostel with in-cabin locker - Single mixed</th> <td>  -15.0832</td> <td>   22.518</td> <td>   -0.670</td> <td> 0.503</td> <td>  -59.229</td> <td>   29.063</td>\n",
       "</tr>\n",
       "<tr>\n",
       "  <th>name_Inviting & Cozy 1BR APT 3 mins from Tg Pagar MRT</th>  <td>  -30.1685</td> <td>   23.915</td> <td>   -1.261</td> <td> 0.207</td> <td>  -77.053</td> <td>   16.716</td>\n",
       "</tr>\n",
       "<tr>\n",
       "  <th>name_Studio Apartment - Oakwood Premier</th>                <td>   63.0193</td> <td>   21.150</td> <td>    2.980</td> <td> 0.003</td> <td>   21.555</td> <td>  104.483</td>\n",
       "</tr>\n",
       "<tr>\n",
       "  <th>name_Superhost 1BR APT in the heart of Tg Pagar</th>        <td>   19.9034</td> <td>   25.855</td> <td>    0.770</td> <td> 0.441</td> <td>  -30.785</td> <td>   70.592</td>\n",
       "</tr>\n",
       "<tr>\n",
       "  <th>name_City-located 1BR loft apartment *BRAND NEW*</th>       <td>  -14.4056</td> <td>   25.869</td> <td>   -0.557</td> <td> 0.578</td> <td>  -65.121</td> <td>   36.310</td>\n",
       "</tr>\n",
       "<tr>\n",
       "  <th>host_name_Jay</th>                                          <td>   -5.7991</td> <td>    5.669</td> <td>   -1.023</td> <td> 0.306</td> <td>  -16.913</td> <td>    5.315</td>\n",
       "</tr>\n",
       "<tr>\n",
       "  <th>host_name_Alvin</th>                                        <td>   30.9163</td> <td>    5.069</td> <td>    6.099</td> <td> 0.000</td> <td>   20.978</td> <td>   40.855</td>\n",
       "</tr>\n",
       "<tr>\n",
       "  <th>host_name_Richards</th>                                     <td>  -10.9920</td> <td>    6.158</td> <td>   -1.785</td> <td> 0.074</td> <td>  -23.065</td> <td>    1.081</td>\n",
       "</tr>\n",
       "<tr>\n",
       "  <th>host_name_Aaron</th>                                        <td>   16.3879</td> <td>    6.165</td> <td>    2.658</td> <td> 0.008</td> <td>    4.301</td> <td>   28.474</td>\n",
       "</tr>\n",
       "<tr>\n",
       "  <th>host_name_Kaurus</th>                                       <td>  -19.3708</td> <td>    7.413</td> <td>   -2.613</td> <td> 0.009</td> <td>  -33.904</td> <td>   -4.837</td>\n",
       "</tr>\n",
       "<tr>\n",
       "  <th>neighbourhood_Bukit Timah</th>                              <td>  -29.6987</td> <td>   11.005</td> <td>   -2.699</td> <td> 0.007</td> <td>  -51.274</td> <td>   -8.124</td>\n",
       "</tr>\n",
       "<tr>\n",
       "  <th>neighbourhood_Bukit Merah</th>                              <td>  -30.0572</td> <td>    5.999</td> <td>   -5.010</td> <td> 0.000</td> <td>  -41.818</td> <td>  -18.296</td>\n",
       "</tr>\n",
       "<tr>\n",
       "  <th>neighbourhood_Newton</th>                                   <td>    8.8826</td> <td>    6.671</td> <td>    1.332</td> <td> 0.183</td> <td>   -4.196</td> <td>   21.961</td>\n",
       "</tr>\n",
       "<tr>\n",
       "  <th>neighbourhood_Geylang</th>                                  <td>   19.5303</td> <td>    7.445</td> <td>    2.623</td> <td> 0.009</td> <td>    4.934</td> <td>   34.126</td>\n",
       "</tr>\n",
       "<tr>\n",
       "  <th>neighbourhood_River Valley</th>                             <td>  -10.1151</td> <td>    4.856</td> <td>   -2.083</td> <td> 0.037</td> <td>  -19.636</td> <td>   -0.594</td>\n",
       "</tr>\n",
       "<tr>\n",
       "  <th>neighbourhood_Rochor</th>                                   <td>   12.2636</td> <td>    4.456</td> <td>    2.752</td> <td> 0.006</td> <td>    3.527</td> <td>   21.000</td>\n",
       "</tr>\n",
       "<tr>\n",
       "  <th>neighbourhood_Queenstown</th>                               <td>  -30.7313</td> <td>    9.458</td> <td>   -3.249</td> <td> 0.001</td> <td>  -49.273</td> <td>  -12.190</td>\n",
       "</tr>\n",
       "<tr>\n",
       "  <th>neighbourhood_Marine Parade</th>                            <td>   49.8681</td> <td>   10.009</td> <td>    4.982</td> <td> 0.000</td> <td>   30.245</td> <td>   69.491</td>\n",
       "</tr>\n",
       "<tr>\n",
       "  <th>neighbourhood_Toa Payoh</th>                                <td>    1.6795</td> <td>    9.405</td> <td>    0.179</td> <td> 0.858</td> <td>  -16.758</td> <td>   20.117</td>\n",
       "</tr>\n",
       "<tr>\n",
       "  <th>neighbourhood_Outram</th>                                   <td>   14.9480</td> <td>    5.513</td> <td>    2.711</td> <td> 0.007</td> <td>    4.140</td> <td>   25.756</td>\n",
       "</tr>\n",
       "<tr>\n",
       "  <th>neighbourhood_Tanglin</th>                                  <td>    0.3124</td> <td>    6.151</td> <td>    0.051</td> <td> 0.959</td> <td>  -11.746</td> <td>   12.371</td>\n",
       "</tr>\n",
       "<tr>\n",
       "  <th>neighbourhood_Kallang</th>                                  <td>    9.0790</td> <td>    4.815</td> <td>    1.885</td> <td> 0.059</td> <td>   -0.361</td> <td>   18.520</td>\n",
       "</tr>\n",
       "<tr>\n",
       "  <th>neighbourhood_Novena</th>                                   <td>    3.4511</td> <td>    5.473</td> <td>    0.631</td> <td> 0.528</td> <td>   -7.279</td> <td>   14.181</td>\n",
       "</tr>\n",
       "<tr>\n",
       "  <th>neighbourhood_Downtown Core</th>                            <td>   37.7592</td> <td>    5.973</td> <td>    6.322</td> <td> 0.000</td> <td>   26.050</td> <td>   49.468</td>\n",
       "</tr>\n",
       "<tr>\n",
       "  <th>neighbourhood_Singapore River</th>                          <td>   11.3951</td> <td>    6.922</td> <td>    1.646</td> <td> 0.100</td> <td>   -2.174</td> <td>   24.965</td>\n",
       "</tr>\n",
       "<tr>\n",
       "  <th>neighbourhood_Orchard</th>                                  <td>   59.3613</td> <td>    7.246</td> <td>    8.192</td> <td> 0.000</td> <td>   45.155</td> <td>   73.568</td>\n",
       "</tr>\n",
       "<tr>\n",
       "  <th>neighbourhood_Museum</th>                                   <td>   32.2352</td> <td>    9.815</td> <td>    3.284</td> <td> 0.001</td> <td>   12.994</td> <td>   51.477</td>\n",
       "</tr>\n",
       "<tr>\n",
       "  <th>neighbourhood_Bishan</th>                                   <td>   -6.3672</td> <td>   12.903</td> <td>   -0.493</td> <td> 0.622</td> <td>  -31.662</td> <td>   18.928</td>\n",
       "</tr>\n",
       "<tr>\n",
       "  <th>neighbourhood_Southern Islands</th>                         <td>  128.1666</td> <td>   59.948</td> <td>    2.138</td> <td> 0.033</td> <td>   10.640</td> <td>  245.693</td>\n",
       "</tr>\n",
       "<tr>\n",
       "  <th>room_type_Private room</th>                                 <td>   79.2971</td> <td>    3.529</td> <td>   22.472</td> <td> 0.000</td> <td>   72.379</td> <td>   86.215</td>\n",
       "</tr>\n",
       "<tr>\n",
       "  <th>room_type_Entire home/apt</th>                              <td>  180.1677</td> <td>    3.353</td> <td>   53.736</td> <td> 0.000</td> <td>  173.595</td> <td>  186.741</td>\n",
       "</tr>\n",
       "<tr>\n",
       "  <th>room_type_Shared room</th>                                  <td>   22.4978</td> <td>    5.066</td> <td>    4.441</td> <td> 0.000</td> <td>   12.565</td> <td>   32.430</td>\n",
       "</tr>\n",
       "</table>\n",
       "<table class=\"simpletable\">\n",
       "<tr>\n",
       "  <th>Omnibus:</th>       <td>707.659</td> <th>  Durbin-Watson:     </th> <td>   1.995</td> \n",
       "</tr>\n",
       "<tr>\n",
       "  <th>Prob(Omnibus):</th> <td> 0.000</td>  <th>  Jarque-Bera (JB):  </th> <td>1179.633</td> \n",
       "</tr>\n",
       "<tr>\n",
       "  <th>Skew:</th>          <td> 0.986</td>  <th>  Prob(JB):          </th> <td>7.01e-257</td>\n",
       "</tr>\n",
       "<tr>\n",
       "  <th>Kurtosis:</th>      <td> 4.418</td>  <th>  Cond. No.          </th> <td>1.49e+16</td> \n",
       "</tr>\n",
       "</table><br/><br/>Notes:<br/>[1] Standard Errors assume that the covariance matrix of the errors is correctly specified.<br/>[2] The smallest eigenvalue is 4.92e-29. This might indicate that there are<br/>strong multicollinearity problems or that the design matrix is singular."
      ],
      "text/plain": [
       "<class 'statsmodels.iolib.summary.Summary'>\n",
       "\"\"\"\n",
       "                            OLS Regression Results                            \n",
       "==============================================================================\n",
       "Dep. Variable:                  price   R-squared:                       0.473\n",
       "Model:                            OLS   Adj. R-squared:                  0.468\n",
       "Method:                 Least Squares   F-statistic:                     101.4\n",
       "Date:                Sat, 11 Feb 2023   Prob (F-statistic):               0.00\n",
       "Time:                        21:53:21   Log-Likelihood:                -26574.\n",
       "No. Observations:                4796   AIC:                         5.323e+04\n",
       "Df Residuals:                    4753   BIC:                         5.351e+04\n",
       "Df Model:                          42                                         \n",
       "Covariance Type:            nonrobust                                         \n",
       "==========================================================================================================================\n",
       "                                                             coef    std err          t      P>|t|      [0.025      0.975]\n",
       "--------------------------------------------------------------------------------------------------------------------------\n",
       "id                                                        -4.1177      1.336     -3.081      0.002      -6.738      -1.498\n",
       "host_id                                                    8.3215      1.183      7.035      0.000       6.003      10.640\n",
       "latitude                                                   0.0269      2.729      0.010      0.992      -5.323       5.377\n",
       "longitude                                                -18.2494      3.656     -4.992      0.000     -25.417     -11.082\n",
       "minimum_nights                                           -13.0910      1.078    -12.140      0.000     -15.205     -10.977\n",
       "number_of_reviews                                        -11.2387      1.321     -8.509      0.000     -13.828      -8.649\n",
       "reviews_per_month                                          4.7408      1.485      3.192      0.001       1.829       7.653\n",
       "calculated_host_listings_count                            -4.7297      1.328     -3.561      0.000      -7.334      -2.126\n",
       "availability_365                                          13.0498      1.092     11.946      0.000      10.908      15.191\n",
       "last_review_year                                          -3.7278      1.295     -2.878      0.004      -6.267      -1.189\n",
       "last_review_month                                         -0.9405      0.987     -0.953      0.341      -2.876       0.995\n",
       "last_review_day                                            0.2954      0.897      0.329      0.742      -1.464       2.055\n",
       "name_Luxury hostel with in-cabin locker - Single mixed   -15.0832     22.518     -0.670      0.503     -59.229      29.063\n",
       "name_Inviting & Cozy 1BR APT 3 mins from Tg Pagar MRT    -30.1685     23.915     -1.261      0.207     -77.053      16.716\n",
       "name_Studio Apartment - Oakwood Premier                   63.0193     21.150      2.980      0.003      21.555     104.483\n",
       "name_Superhost 1BR APT in the heart of Tg Pagar           19.9034     25.855      0.770      0.441     -30.785      70.592\n",
       "name_City-located 1BR loft apartment *BRAND NEW*         -14.4056     25.869     -0.557      0.578     -65.121      36.310\n",
       "host_name_Jay                                             -5.7991      5.669     -1.023      0.306     -16.913       5.315\n",
       "host_name_Alvin                                           30.9163      5.069      6.099      0.000      20.978      40.855\n",
       "host_name_Richards                                       -10.9920      6.158     -1.785      0.074     -23.065       1.081\n",
       "host_name_Aaron                                           16.3879      6.165      2.658      0.008       4.301      28.474\n",
       "host_name_Kaurus                                         -19.3708      7.413     -2.613      0.009     -33.904      -4.837\n",
       "neighbourhood_Bukit Timah                                -29.6987     11.005     -2.699      0.007     -51.274      -8.124\n",
       "neighbourhood_Bukit Merah                                -30.0572      5.999     -5.010      0.000     -41.818     -18.296\n",
       "neighbourhood_Newton                                       8.8826      6.671      1.332      0.183      -4.196      21.961\n",
       "neighbourhood_Geylang                                     19.5303      7.445      2.623      0.009       4.934      34.126\n",
       "neighbourhood_River Valley                               -10.1151      4.856     -2.083      0.037     -19.636      -0.594\n",
       "neighbourhood_Rochor                                      12.2636      4.456      2.752      0.006       3.527      21.000\n",
       "neighbourhood_Queenstown                                 -30.7313      9.458     -3.249      0.001     -49.273     -12.190\n",
       "neighbourhood_Marine Parade                               49.8681     10.009      4.982      0.000      30.245      69.491\n",
       "neighbourhood_Toa Payoh                                    1.6795      9.405      0.179      0.858     -16.758      20.117\n",
       "neighbourhood_Outram                                      14.9480      5.513      2.711      0.007       4.140      25.756\n",
       "neighbourhood_Tanglin                                      0.3124      6.151      0.051      0.959     -11.746      12.371\n",
       "neighbourhood_Kallang                                      9.0790      4.815      1.885      0.059      -0.361      18.520\n",
       "neighbourhood_Novena                                       3.4511      5.473      0.631      0.528      -7.279      14.181\n",
       "neighbourhood_Downtown Core                               37.7592      5.973      6.322      0.000      26.050      49.468\n",
       "neighbourhood_Singapore River                             11.3951      6.922      1.646      0.100      -2.174      24.965\n",
       "neighbourhood_Orchard                                     59.3613      7.246      8.192      0.000      45.155      73.568\n",
       "neighbourhood_Museum                                      32.2352      9.815      3.284      0.001      12.994      51.477\n",
       "neighbourhood_Bishan                                      -6.3672     12.903     -0.493      0.622     -31.662      18.928\n",
       "neighbourhood_Southern Islands                           128.1666     59.948      2.138      0.033      10.640     245.693\n",
       "room_type_Private room                                    79.2971      3.529     22.472      0.000      72.379      86.215\n",
       "room_type_Entire home/apt                                180.1677      3.353     53.736      0.000     173.595     186.741\n",
       "room_type_Shared room                                     22.4978      5.066      4.441      0.000      12.565      32.430\n",
       "==============================================================================\n",
       "Omnibus:                      707.659   Durbin-Watson:                   1.995\n",
       "Prob(Omnibus):                  0.000   Jarque-Bera (JB):             1179.633\n",
       "Skew:                           0.986   Prob(JB):                    7.01e-257\n",
       "Kurtosis:                       4.418   Cond. No.                     1.49e+16\n",
       "==============================================================================\n",
       "\n",
       "Notes:\n",
       "[1] Standard Errors assume that the covariance matrix of the errors is correctly specified.\n",
       "[2] The smallest eigenvalue is 4.92e-29. This might indicate that there are\n",
       "strong multicollinearity problems or that the design matrix is singular.\n",
       "\"\"\""
      ]
     },
     "execution_count": 121,
     "metadata": {},
     "output_type": "execute_result"
    }
   ],
   "source": [
    "# The lm model refers to sklearn model and lm2 model refers to statsmodel.api model\n",
    "# Create another model lm2 using statsmodel.api: the Ordinary Least Squares (OLS) method and fit function\n",
    "lm2 = sm.OLS(y_train, x_train).fit()\n",
    "# Summary statistics from the model\n",
    "lm2.summary()"
   ]
  },
  {
   "cell_type": "code",
   "execution_count": 122,
   "metadata": {},
   "outputs": [],
   "source": [
    "#Define Model Inputs (X) and Output (y)\n",
    "\n",
    "# Set the \"is_promoted\" as target/model output and the rest features as model inputs\n",
    "x_data_listings_lm3 = x_data_listings.drop(['latitude','last_review_day','neighbourhood_Toa Payoh',\n",
    "                                           'name_Luxury hostel with in-cabin locker - Single mixed','neighbourhood_Tanglin',\n",
    "                                           'name_City-located 1BR loft apartment *BRAND NEW*',\n",
    "                                           'neighbourhood_Novena','neighbourhood_Bishan'], axis=1)\n",
    "y_data_listings_lm3 = y_data_listings"
   ]
  },
  {
   "cell_type": "code",
   "execution_count": 123,
   "metadata": {},
   "outputs": [],
   "source": [
    "# Split both Inputs (X) and Ouput (y) into training set (80%) and testing set (20%)\n",
    "x_train, x_test, y_train, y_test = train_test_split(x_data_listings_lm3, y_data_listings_lm3, test_size=0.2, random_state=999)"
   ]
  },
  {
   "cell_type": "code",
   "execution_count": 124,
   "metadata": {},
   "outputs": [
    {
     "data": {
      "text/plain": [
       "LinearRegression()"
      ]
     },
     "execution_count": 124,
     "metadata": {},
     "output_type": "execute_result"
    }
   ],
   "source": [
    "lm3 = LinearRegression()\n",
    "lm3.fit(x_train, y_train)"
   ]
  },
  {
   "cell_type": "code",
   "execution_count": 125,
   "metadata": {},
   "outputs": [
    {
     "name": "stdout",
     "output_type": "stream",
     "text": [
      "61.68787694843428 (Train RMSE)\n",
      "46.72663210509768 (Train MAE)\n",
      "0.4723496337389731 (Train R^2 Value)\n"
     ]
    }
   ],
   "source": [
    "# Calculated the fitted values for training set\n",
    "y_fitted = lm3.predict(x_train)\n",
    "# Calculated the RMSE and R^2 for training set\n",
    "print(sqrt(mean_squared_error(y_fitted, y_train)), '(Train RMSE)') # RMSE: the lower the better\n",
    "print(mean_absolute_error(y_fitted, y_train), '(Train MAE)') # MAE: the lower the better\n",
    "print(lm3.score(x_train, y_train), '(Train R^2 Value)') # R squared value (ranges from 0 to 1): the higher the better"
   ]
  },
  {
   "cell_type": "code",
   "execution_count": 126,
   "metadata": {},
   "outputs": [
    {
     "name": "stdout",
     "output_type": "stream",
     "text": [
      "63.82933542029962 (Test RMSE)\n",
      "47.70484068265605 (Test MAE)\n",
      "0.44132586565200926 (Test R^2 Value)\n"
     ]
    }
   ],
   "source": [
    "# calculated the predicated value for testing data\n",
    "y_pred = lm3.predict(x_test)\n",
    "# Calculated the RMSE and R^2 for testing set\n",
    "print(sqrt(mean_squared_error(y_pred, y_test)), '(Test RMSE)') # RMSE: the lower the better\n",
    "print(mean_absolute_error(y_pred, y_test), '(Test MAE)') # MAE: the lower the better\n",
    "print(lm3.score(x_test, y_test), '(Test R^2 Value)') # R squared value (ranges from 0 to 1): the higher the better"
   ]
  },
  {
   "cell_type": "code",
   "execution_count": 127,
   "metadata": {},
   "outputs": [
    {
     "name": "stdout",
     "output_type": "stream",
     "text": [
      "train_score:  [-63.13961386 -62.13660192 -61.91928727 -60.96996725 -61.35039477]\n",
      "test_score:  [-58.97908918 -62.3892185  -63.007746   -67.05768778 -65.71346291]\n",
      "cross val training root_mean_squared_error is: 61.90317301580611\n",
      "cross val testing root_mean_squared_error is: 63.42944087348566\n",
      "\n",
      "train_score:  [-47.92233779 -47.46396788 -46.66844483 -46.05473984 -45.89490451]\n",
      "test_score:  [-43.76551209 -45.69512917 -47.31284237 -51.43110166 -52.68356395]\n",
      "cross val training mean_absolute_error is: 46.80087897033328\n",
      "cross val testing mean_absolute_error is: 48.17762984847803\n",
      "\n",
      "train_score:  [0.46460232 0.46322938 0.46415776 0.48641715 0.46534545]\n",
      "test_score:  [0.40092424 0.44890354 0.46662578 0.35352371 0.43963376]\n",
      "cross val training r2 is: 0.46875041269124945\n",
      "cross val testing r2 is: 0.4219222038764249\n"
     ]
    }
   ],
   "source": [
    "# Evaluate the Model using K-folds Cross validation  RMSE\n",
    "rmse_results = cross_validate(lm1, x_data_listings_lm3, y_data_listings_lm3, scoring='neg_root_mean_squared_error', cv=5, return_train_score = True)\n",
    "print('train_score: ', rmse_results['train_score'])\n",
    "print('test_score: ', rmse_results['test_score'])\n",
    "print('cross val training root_mean_squared_error is:', sum(-rmse_results['train_score'])/len(rmse_results['train_score']))\n",
    "print('cross val testing root_mean_squared_error is:', sum(-rmse_results['test_score'])/len(rmse_results['test_score']))\n",
    "print()\n",
    "# Evaluate the Model using K-folds Cross validation  MAE\n",
    "mae_results = cross_validate(lm3, x_data_listings_lm3, y_data_listings_lm3, scoring='neg_mean_absolute_error', cv=5, return_train_score = True)\n",
    "print('train_score: ', mae_results['train_score'])\n",
    "print('test_score: ', mae_results['test_score'])\n",
    "print('cross val training mean_absolute_error is:', sum(-mae_results['train_score'])/len(mae_results['train_score']))\n",
    "print('cross val testing mean_absolute_error is:', sum(-mae_results['test_score'])/len(mae_results['test_score']))\n",
    "print()\n",
    "# Evaluate the Model using K-folds Cross validation  R2\n",
    "r2_results = cross_validate(lm3, x_data_listings_lm3, y_data_listings_lm3, scoring='r2', cv=5, return_train_score = True)\n",
    "print('train_score: ', r2_results['train_score'])\n",
    "print('test_score: ', r2_results['test_score'])\n",
    "print('cross val training r2 is:', sum(r2_results['train_score'])/len(r2_results['train_score']))\n",
    "print('cross val testing r2 is:', sum(r2_results['test_score'])/len(r2_results['test_score']))"
   ]
  },
  {
   "cell_type": "code",
   "execution_count": 128,
   "metadata": {},
   "outputs": [],
   "source": [
    "# Add Linear Regression model to resultOfRegModelsDict\n",
    "new_row = {'Model': 'Linear Regression Model - Improved', 'Training MAE': mean_absolute_error(y_fitted, y_train), 'Testing MAE': mean_absolute_error(y_pred, y_test), \n",
    "                         'Training RMSE': sqrt(mean_squared_error(y_fitted, y_train)), 'Testing RMSE': sqrt(mean_squared_error(y_pred, y_test)), \n",
    "                         'Training R2': lm3.score(x_train, y_train), 'Testing R2': lm3.score(x_test, y_test), \n",
    "                        'Cross Val Training MAE':  sum(-mae_results['train_score'])/len(mae_results['train_score']), 'Cross Val Testing MAE': sum(-mae_results['test_score'])/len(mae_results['test_score']),\n",
    "                        'Cross Val Training RMSE': sum(-rmse_results['train_score'])/len(rmse_results['train_score']), 'Cross Val Testing RMSE': sum(-rmse_results['test_score'])/len(rmse_results['test_score']),\n",
    "                        'Cross Val Training R2': (sum(r2_results['train_score'])/len(r2_results['train_score'])), 'Cross Val Testing R2': (sum(r2_results['test_score'])/len(r2_results['test_score']))}\n",
    "new_df = pd.DataFrame([new_row])\n",
    "resultOfRegModels = pd.concat([resultOfRegModels, new_df], axis=0, ignore_index=True) "
   ]
  },
  {
   "cell_type": "code",
   "execution_count": 129,
   "metadata": {},
   "outputs": [
    {
     "data": {
      "text/html": [
       "<div>\n",
       "<style scoped>\n",
       "    .dataframe tbody tr th:only-of-type {\n",
       "        vertical-align: middle;\n",
       "    }\n",
       "\n",
       "    .dataframe tbody tr th {\n",
       "        vertical-align: top;\n",
       "    }\n",
       "\n",
       "    .dataframe thead th {\n",
       "        text-align: right;\n",
       "    }\n",
       "</style>\n",
       "<table border=\"1\" class=\"dataframe\">\n",
       "  <thead>\n",
       "    <tr style=\"text-align: right;\">\n",
       "      <th></th>\n",
       "      <th>Model</th>\n",
       "      <th>Training MAE</th>\n",
       "      <th>Testing MAE</th>\n",
       "      <th>Training RMSE</th>\n",
       "      <th>Testing RMSE</th>\n",
       "      <th>Training R2</th>\n",
       "      <th>Testing R2</th>\n",
       "      <th>Cross Val Training MAE</th>\n",
       "      <th>Cross Val Testing MAE</th>\n",
       "      <th>Cross Val Training RMSE</th>\n",
       "      <th>Cross Val Testing RMSE</th>\n",
       "      <th>Cross Val Training R2</th>\n",
       "      <th>Cross Val Testing R2</th>\n",
       "    </tr>\n",
       "  </thead>\n",
       "  <tbody>\n",
       "    <tr>\n",
       "      <th>0</th>\n",
       "      <td>Naive Baseline Model</td>\n",
       "      <td>68.634679</td>\n",
       "      <td>68.519158</td>\n",
       "      <td>84.923269</td>\n",
       "      <td>85.430959</td>\n",
       "      <td>0.00000</td>\n",
       "      <td>0.000000</td>\n",
       "      <td>68.634679</td>\n",
       "      <td>68.519158</td>\n",
       "      <td>84.923269</td>\n",
       "      <td>85.430959</td>\n",
       "      <td>0.000000</td>\n",
       "      <td>0.000000</td>\n",
       "    </tr>\n",
       "    <tr>\n",
       "      <th>1</th>\n",
       "      <td>Linear Regression Model</td>\n",
       "      <td>46.726080</td>\n",
       "      <td>47.698981</td>\n",
       "      <td>61.675580</td>\n",
       "      <td>63.804358</td>\n",
       "      <td>0.47256</td>\n",
       "      <td>0.441763</td>\n",
       "      <td>46.755942</td>\n",
       "      <td>48.511791</td>\n",
       "      <td>61.846453</td>\n",
       "      <td>63.747304</td>\n",
       "      <td>0.469721</td>\n",
       "      <td>0.415948</td>\n",
       "    </tr>\n",
       "    <tr>\n",
       "      <th>2</th>\n",
       "      <td>Linear Regression Model - Improved</td>\n",
       "      <td>46.726632</td>\n",
       "      <td>47.704841</td>\n",
       "      <td>61.687877</td>\n",
       "      <td>63.829335</td>\n",
       "      <td>0.47235</td>\n",
       "      <td>0.441326</td>\n",
       "      <td>46.800879</td>\n",
       "      <td>48.177630</td>\n",
       "      <td>61.903173</td>\n",
       "      <td>63.429441</td>\n",
       "      <td>0.468750</td>\n",
       "      <td>0.421922</td>\n",
       "    </tr>\n",
       "  </tbody>\n",
       "</table>\n",
       "</div>"
      ],
      "text/plain": [
       "                                Model  Training MAE  Testing MAE  \\\n",
       "0                Naive Baseline Model     68.634679    68.519158   \n",
       "1             Linear Regression Model     46.726080    47.698981   \n",
       "2  Linear Regression Model - Improved     46.726632    47.704841   \n",
       "\n",
       "   Training RMSE  Testing RMSE  Training R2  Testing R2  \\\n",
       "0      84.923269     85.430959      0.00000    0.000000   \n",
       "1      61.675580     63.804358      0.47256    0.441763   \n",
       "2      61.687877     63.829335      0.47235    0.441326   \n",
       "\n",
       "   Cross Val Training MAE  Cross Val Testing MAE  Cross Val Training RMSE  \\\n",
       "0               68.634679              68.519158                84.923269   \n",
       "1               46.755942              48.511791                61.846453   \n",
       "2               46.800879              48.177630                61.903173   \n",
       "\n",
       "   Cross Val Testing RMSE  Cross Val Training R2  Cross Val Testing R2  \n",
       "0               85.430959               0.000000              0.000000  \n",
       "1               63.747304               0.469721              0.415948  \n",
       "2               63.429441               0.468750              0.421922  "
      ]
     },
     "execution_count": 129,
     "metadata": {},
     "output_type": "execute_result"
    }
   ],
   "source": [
    "resultOfRegModels"
   ]
  },
  {
   "cell_type": "markdown",
   "metadata": {},
   "source": [
    "### 2.2.3. Decision Tree Regressor <a id=\"2.2.3.\"></a>\n",
    "[Back to Top](#top)"
   ]
  },
  {
   "cell_type": "code",
   "execution_count": 130,
   "metadata": {},
   "outputs": [],
   "source": [
    "# Split both Inputs (X) and Ouput (y) into training set (80%) and testing set (20%)\n",
    "x_train, x_test, y_train, y_test = train_test_split(x_data_listings, y_data_listings, test_size=0.2, random_state=999)"
   ]
  },
  {
   "cell_type": "code",
   "execution_count": 131,
   "metadata": {},
   "outputs": [
    {
     "data": {
      "text/plain": [
       "DecisionTreeRegressor(max_depth=2, random_state=999)"
      ]
     },
     "execution_count": 131,
     "metadata": {},
     "output_type": "execute_result"
    }
   ],
   "source": [
    "# Create Decision Tree Model\n",
    "tree_reg = tree.DecisionTreeRegressor(max_depth = 2, random_state=999)\n",
    "tree_reg.fit(x_train, y_train)"
   ]
  },
  {
   "cell_type": "code",
   "execution_count": 132,
   "metadata": {
    "scrolled": false
   },
   "outputs": [
    {
     "name": "stdout",
     "output_type": "stream",
     "text": [
      "the training mean absolute error is:  50.609924143148874\n",
      "the testing mean absolute error is:  50.81460837041658\n",
      "\n",
      "the training root mean squared error is:  65.84649913581522\n",
      "the testing root mean squared error is:  67.04410224216855\n",
      "\n",
      "training R^2 value is:  0.39880968471203515\n",
      "testing R^2 value is:  0.3836334256396726\n"
     ]
    }
   ],
   "source": [
    "#training mae\n",
    "train_mae = mean_absolute_error(tree_reg.predict(x_train), y_train)\n",
    "print('the training mean absolute error is: ', train_mae)\n",
    "#testing mae\n",
    "test_mae = mean_absolute_error(tree_reg.predict(x_test), y_test)\n",
    "print('the testing mean absolute error is: ',test_mae)\n",
    "print()\n",
    "#training rmse\n",
    "train_rmse = sqrt(mean_squared_error(tree_reg.predict(x_train), y_train))\n",
    "print('the training root mean squared error is: ', train_rmse)\n",
    "#testing rmse\n",
    "test_rmse = sqrt(mean_squared_error(tree_reg.predict(x_test), y_test))\n",
    "print('the testing root mean squared error is: ',test_rmse)\n",
    "print()\n",
    "# training r2\n",
    "train_R2 = tree_reg.score(x_train, y_train)\n",
    "print('training R^2 value is: ', train_R2)\n",
    "# testing r2\n",
    "test_R2 = tree_reg.score(x_test, y_test)\n",
    "print('testing R^2 value is: ', test_R2)"
   ]
  },
  {
   "cell_type": "code",
   "execution_count": 133,
   "metadata": {},
   "outputs": [
    {
     "name": "stdout",
     "output_type": "stream",
     "text": [
      "train_score:  [-67.35186758 -66.38960461 -65.95382613 -64.8592152  -65.43803568]\n",
      "test_score:  [-61.50551805 -65.10103438 -67.22504973 -71.10429854 -70.08649795]\n",
      "cross val training root_mean_squared_error is: 65.99850984026911\n",
      "cross val testing root_mean_squared_error is: 67.0044797305369\n",
      "\n",
      "train_score:  [-51.96860428 -51.6562832  -50.31359741 -49.58103749 -49.86803511]\n",
      "test_score:  [-47.02545437 -48.01787337 -50.66705101 -55.75803747 -56.10672153]\n",
      "cross val training mean_absolute_error is: 50.67751149813298\n",
      "cross val testing mean_absolute_error is: 51.51502755092673\n",
      "\n",
      "train_score:  [0.39078313 0.38723507 0.39205395 0.41880487 0.39172628]\n",
      "test_score:  [0.34850095 0.39995432 0.39283546 0.27314603 0.36257077]\n",
      "cross val training r2 is: 0.39612065944425057\n",
      "cross val testing r2 is: 0.35540150621486466\n"
     ]
    }
   ],
   "source": [
    "# Evaluate the Model using K-folds Cross validation  RMSE\n",
    "rmse_results = cross_validate(tree_reg, x_data_listings, y_data_listings, scoring='neg_root_mean_squared_error', cv=5, return_train_score = True)\n",
    "print('train_score: ', rmse_results['train_score'])\n",
    "print('test_score: ', rmse_results['test_score'])\n",
    "print('cross val training root_mean_squared_error is:', sum(-rmse_results['train_score'])/len(rmse_results['train_score']))\n",
    "print('cross val testing root_mean_squared_error is:', sum(-rmse_results['test_score'])/len(rmse_results['test_score']))\n",
    "print()\n",
    "# Evaluate the Model using K-folds Cross validation  MAE\n",
    "mae_results = cross_validate(tree_reg, x_data_listings, y_data_listings, scoring='neg_mean_absolute_error', cv=5, return_train_score = True)\n",
    "print('train_score: ', mae_results['train_score'])\n",
    "print('test_score: ', mae_results['test_score'])\n",
    "print('cross val training mean_absolute_error is:', sum(-mae_results['train_score'])/len(mae_results['train_score']))\n",
    "print('cross val testing mean_absolute_error is:', sum(-mae_results['test_score'])/len(mae_results['test_score']))\n",
    "print()\n",
    "# Evaluate the Model using K-folds Cross validation  R2\n",
    "r2_results = cross_validate(tree_reg, x_data_listings, y_data_listings, scoring='r2', cv=5, return_train_score = True)\n",
    "print('train_score: ', r2_results['train_score'])\n",
    "print('test_score: ', r2_results['test_score'])\n",
    "print('cross val training r2 is:', sum(r2_results['train_score'])/len(r2_results['train_score']))\n",
    "print('cross val testing r2 is:', sum(r2_results['test_score'])/len(r2_results['test_score']))"
   ]
  },
  {
   "cell_type": "code",
   "execution_count": 134,
   "metadata": {},
   "outputs": [],
   "source": [
    "# Add Decision Tree Regressor to resultOfRegModelsDict\n",
    "new_row = {'Model': 'Decision Tree Regressor', 'Training MAE': train_mae, 'Testing MAE': test_mae,\n",
    "                         'Training RMSE': train_rmse, 'Testing RMSE': test_rmse, \n",
    "                         'Training R2': train_R2, 'Testing R2': test_R2, \n",
    "                        'Cross Val Training MAE':  sum(-mae_results['train_score'])/len(mae_results['train_score']), 'Cross Val Testing MAE': sum(-mae_results['test_score'])/len(mae_results['test_score']),\n",
    "                        'Cross Val Training RMSE': sum(-rmse_results['train_score'])/len(rmse_results['train_score']), 'Cross Val Testing RMSE': sum(-rmse_results['test_score'])/len(rmse_results['test_score']),\n",
    "                        'Cross Val Training R2': (sum(r2_results['train_score'])/len(r2_results['train_score'])), 'Cross Val Testing R2': (sum(r2_results['test_score'])/len(r2_results['test_score']))}\n",
    "new_df = pd.DataFrame([new_row])\n",
    "resultOfRegModels = pd.concat([resultOfRegModels, new_df], axis=0, ignore_index=True) "
   ]
  },
  {
   "cell_type": "code",
   "execution_count": 135,
   "metadata": {},
   "outputs": [
    {
     "data": {
      "text/html": [
       "<div>\n",
       "<style scoped>\n",
       "    .dataframe tbody tr th:only-of-type {\n",
       "        vertical-align: middle;\n",
       "    }\n",
       "\n",
       "    .dataframe tbody tr th {\n",
       "        vertical-align: top;\n",
       "    }\n",
       "\n",
       "    .dataframe thead th {\n",
       "        text-align: right;\n",
       "    }\n",
       "</style>\n",
       "<table border=\"1\" class=\"dataframe\">\n",
       "  <thead>\n",
       "    <tr style=\"text-align: right;\">\n",
       "      <th></th>\n",
       "      <th>Model</th>\n",
       "      <th>Training MAE</th>\n",
       "      <th>Testing MAE</th>\n",
       "      <th>Training RMSE</th>\n",
       "      <th>Testing RMSE</th>\n",
       "      <th>Training R2</th>\n",
       "      <th>Testing R2</th>\n",
       "      <th>Cross Val Training MAE</th>\n",
       "      <th>Cross Val Testing MAE</th>\n",
       "      <th>Cross Val Training RMSE</th>\n",
       "      <th>Cross Val Testing RMSE</th>\n",
       "      <th>Cross Val Training R2</th>\n",
       "      <th>Cross Val Testing R2</th>\n",
       "    </tr>\n",
       "  </thead>\n",
       "  <tbody>\n",
       "    <tr>\n",
       "      <th>0</th>\n",
       "      <td>Naive Baseline Model</td>\n",
       "      <td>68.634679</td>\n",
       "      <td>68.519158</td>\n",
       "      <td>84.923269</td>\n",
       "      <td>85.430959</td>\n",
       "      <td>0.00000</td>\n",
       "      <td>0.000000</td>\n",
       "      <td>68.634679</td>\n",
       "      <td>68.519158</td>\n",
       "      <td>84.923269</td>\n",
       "      <td>85.430959</td>\n",
       "      <td>0.000000</td>\n",
       "      <td>0.000000</td>\n",
       "    </tr>\n",
       "    <tr>\n",
       "      <th>1</th>\n",
       "      <td>Linear Regression Model</td>\n",
       "      <td>46.726080</td>\n",
       "      <td>47.698981</td>\n",
       "      <td>61.675580</td>\n",
       "      <td>63.804358</td>\n",
       "      <td>0.47256</td>\n",
       "      <td>0.441763</td>\n",
       "      <td>46.755942</td>\n",
       "      <td>48.511791</td>\n",
       "      <td>61.846453</td>\n",
       "      <td>63.747304</td>\n",
       "      <td>0.469721</td>\n",
       "      <td>0.415948</td>\n",
       "    </tr>\n",
       "    <tr>\n",
       "      <th>2</th>\n",
       "      <td>Linear Regression Model - Improved</td>\n",
       "      <td>46.726632</td>\n",
       "      <td>47.704841</td>\n",
       "      <td>61.687877</td>\n",
       "      <td>63.829335</td>\n",
       "      <td>0.47235</td>\n",
       "      <td>0.441326</td>\n",
       "      <td>46.800879</td>\n",
       "      <td>48.177630</td>\n",
       "      <td>61.903173</td>\n",
       "      <td>63.429441</td>\n",
       "      <td>0.468750</td>\n",
       "      <td>0.421922</td>\n",
       "    </tr>\n",
       "    <tr>\n",
       "      <th>3</th>\n",
       "      <td>Decision Tree Regressor</td>\n",
       "      <td>50.609924</td>\n",
       "      <td>50.814608</td>\n",
       "      <td>65.846499</td>\n",
       "      <td>67.044102</td>\n",
       "      <td>0.39881</td>\n",
       "      <td>0.383633</td>\n",
       "      <td>50.677511</td>\n",
       "      <td>51.515028</td>\n",
       "      <td>65.998510</td>\n",
       "      <td>67.004480</td>\n",
       "      <td>0.396121</td>\n",
       "      <td>0.355402</td>\n",
       "    </tr>\n",
       "  </tbody>\n",
       "</table>\n",
       "</div>"
      ],
      "text/plain": [
       "                                Model  Training MAE  Testing MAE  \\\n",
       "0                Naive Baseline Model     68.634679    68.519158   \n",
       "1             Linear Regression Model     46.726080    47.698981   \n",
       "2  Linear Regression Model - Improved     46.726632    47.704841   \n",
       "3             Decision Tree Regressor     50.609924    50.814608   \n",
       "\n",
       "   Training RMSE  Testing RMSE  Training R2  Testing R2  \\\n",
       "0      84.923269     85.430959      0.00000    0.000000   \n",
       "1      61.675580     63.804358      0.47256    0.441763   \n",
       "2      61.687877     63.829335      0.47235    0.441326   \n",
       "3      65.846499     67.044102      0.39881    0.383633   \n",
       "\n",
       "   Cross Val Training MAE  Cross Val Testing MAE  Cross Val Training RMSE  \\\n",
       "0               68.634679              68.519158                84.923269   \n",
       "1               46.755942              48.511791                61.846453   \n",
       "2               46.800879              48.177630                61.903173   \n",
       "3               50.677511              51.515028                65.998510   \n",
       "\n",
       "   Cross Val Testing RMSE  Cross Val Training R2  Cross Val Testing R2  \n",
       "0               85.430959               0.000000              0.000000  \n",
       "1               63.747304               0.469721              0.415948  \n",
       "2               63.429441               0.468750              0.421922  \n",
       "3               67.004480               0.396121              0.355402  "
      ]
     },
     "execution_count": 135,
     "metadata": {},
     "output_type": "execute_result"
    }
   ],
   "source": [
    "resultOfRegModels"
   ]
  },
  {
   "cell_type": "markdown",
   "metadata": {},
   "source": [
    "### 2.2.3.1. Improve Decision Tree Regressor <a id=\"2.2.3.1.\"></a>\n",
    "[Back to Top](#top)"
   ]
  },
  {
   "cell_type": "code",
   "execution_count": 136,
   "metadata": {},
   "outputs": [
    {
     "name": "stdout",
     "output_type": "stream",
     "text": [
      "0.5218413337368478\n",
      "{'criterion': 'squared_error', 'max_depth': 10, 'min_samples_leaf': 10, 'min_samples_split': 2}\n"
     ]
    }
   ],
   "source": [
    "# Finding best param for tree\n",
    "tree_reg = tree.DecisionTreeRegressor(random_state=999)\n",
    "param_grid = { \"criterion\" : [\"squared_error\", \"absolute_error\"],\n",
    " \"min_samples_leaf\" : [1, 5, 10],\n",
    " \"min_samples_split\" : [2, 4, 10, 12, 16],\n",
    " 'max_depth' : [2,3,4,5,6,7,8,9,10,11,12,13,14,15]}\n",
    "\n",
    "gs = GridSearchCV(tree_reg, param_grid=param_grid, scoring='explained_variance', cv= 10, n_jobs=-1)\n",
    "gs = gs.fit(x_train, y_train)\n",
    "print(gs.best_score_)\n",
    "print(gs.best_params_)"
   ]
  },
  {
   "cell_type": "code",
   "execution_count": 137,
   "metadata": {
    "scrolled": false
   },
   "outputs": [
    {
     "data": {
      "text/plain": [
       "DecisionTreeRegressor(max_depth=10, min_samples_leaf=10, random_state=999)"
      ]
     },
     "execution_count": 137,
     "metadata": {},
     "output_type": "execute_result"
    }
   ],
   "source": [
    "# Use suggest params for DTRegresssor\n",
    "tree_reg2 = tree.DecisionTreeRegressor(criterion = 'squared_error', max_depth= 10, \n",
    "                                      min_samples_leaf= 10, min_samples_split= 2, random_state= 999)\n",
    "tree_reg2.fit(x_train, y_train)"
   ]
  },
  {
   "cell_type": "code",
   "execution_count": 138,
   "metadata": {},
   "outputs": [
    {
     "name": "stdout",
     "output_type": "stream",
     "text": [
      "the training mean absolute error is:  33.81877126739842\n",
      "the testing mean absolute error is:  40.57273919273136\n",
      "\n",
      "the training root mean squared error is:  47.559536271911476\n",
      "the testing root mean squared error is:  58.15736363368027\n",
      "\n",
      "training R^2 value is:  0.6863669517209425\n",
      "testing R^2 value is:  0.5362036339788261\n"
     ]
    }
   ],
   "source": [
    "#training mae\n",
    "train_mae = mean_absolute_error(tree_reg2.predict(x_train), y_train)\n",
    "print('the training mean absolute error is: ', train_mae)\n",
    "#testing mae\n",
    "test_mae = mean_absolute_error(tree_reg2.predict(x_test), y_test)\n",
    "print('the testing mean absolute error is: ',test_mae)\n",
    "print()\n",
    "#training rmse\n",
    "train_rmse = sqrt(mean_squared_error(tree_reg2.predict(x_train), y_train))\n",
    "print('the training root mean squared error is: ', train_rmse)\n",
    "#testing rmse\n",
    "test_rmse = sqrt(mean_squared_error(tree_reg2.predict(x_test), y_test))\n",
    "print('the testing root mean squared error is: ',test_rmse)\n",
    "print()\n",
    "# training r2\n",
    "train_R2 = tree_reg2.score(x_train, y_train)\n",
    "print('training R^2 value is: ', train_R2)\n",
    "# testing r2\n",
    "test_R2 = tree_reg2.score(x_test, y_test)\n",
    "print('testing R^2 value is: ', test_R2)"
   ]
  },
  {
   "cell_type": "code",
   "execution_count": 139,
   "metadata": {},
   "outputs": [
    {
     "name": "stdout",
     "output_type": "stream",
     "text": [
      "train_score:  [-47.64306189 -46.66075297 -49.31333168 -46.82709837 -49.4158369 ]\n",
      "test_score:  [-58.44666262 -60.38576965 -67.1513464  -68.32006969 -69.37238214]\n",
      "cross val training root_mean_squared_error is: 47.97201636025326\n",
      "cross val testing root_mean_squared_error is: 64.73524610079339\n",
      "\n",
      "train_score:  [-33.56438288 -33.22534671 -34.74014616 -32.82322757 -34.42779956]\n",
      "test_score:  [-40.15593952 -41.9410136  -48.42917542 -50.34817458 -52.77897102]\n",
      "cross val training mean_absolute_error is: 33.75618057696228\n",
      "cross val testing mean_absolute_error is: 46.73065482753205\n",
      "\n",
      "train_score:  [0.69515999 0.69731059 0.66012929 0.69704852 0.65312672]\n",
      "test_score:  [0.41169159 0.48372898 0.39416608 0.32895436 0.37549421]\n",
      "cross val training r2 is: 0.6805550203903502\n",
      "cross val testing r2 is: 0.398807044152328\n"
     ]
    }
   ],
   "source": [
    "# Evaluate the Model using K-folds Cross validation  RMSE\n",
    "rmse_results = cross_validate(tree_reg2, x_data_listings, y_data_listings, scoring='neg_root_mean_squared_error', cv=5, return_train_score = True)\n",
    "print('train_score: ', rmse_results['train_score'])\n",
    "print('test_score: ', rmse_results['test_score'])\n",
    "print('cross val training root_mean_squared_error is:', sum(-rmse_results['train_score'])/len(rmse_results['train_score']))\n",
    "print('cross val testing root_mean_squared_error is:', sum(-rmse_results['test_score'])/len(rmse_results['test_score']))\n",
    "print()\n",
    "# Evaluate the Model using K-folds Cross validation  MAE\n",
    "mae_results = cross_validate(tree_reg2, x_data_listings, y_data_listings, scoring='neg_mean_absolute_error', cv=5, return_train_score = True)\n",
    "print('train_score: ', mae_results['train_score'])\n",
    "print('test_score: ', mae_results['test_score'])\n",
    "print('cross val training mean_absolute_error is:', sum(-mae_results['train_score'])/len(mae_results['train_score']))\n",
    "print('cross val testing mean_absolute_error is:', sum(-mae_results['test_score'])/len(mae_results['test_score']))\n",
    "print()\n",
    "# Evaluate the Model using K-folds Cross validation  R2\n",
    "r2_results = cross_validate(tree_reg2, x_data_listings, y_data_listings, scoring='r2', cv=5, return_train_score = True)\n",
    "print('train_score: ', r2_results['train_score'])\n",
    "print('test_score: ', r2_results['test_score'])\n",
    "print('cross val training r2 is:', sum(r2_results['train_score'])/len(r2_results['train_score']))\n",
    "print('cross val testing r2 is:', sum(r2_results['test_score'])/len(r2_results['test_score']))"
   ]
  },
  {
   "cell_type": "code",
   "execution_count": 140,
   "metadata": {},
   "outputs": [],
   "source": [
    "# Add Decision Tree Regressor to resultOfRegModelsDict\n",
    "new_row = {'Model': 'Decision Tree Regressor - GridSearchCV', 'Training MAE': train_mae, 'Testing MAE': test_mae,\n",
    "                         'Training RMSE': train_rmse, 'Testing RMSE': test_rmse, \n",
    "                         'Training R2': train_R2, 'Testing R2': test_R2, \n",
    "                        'Cross Val Training MAE':  sum(-mae_results['train_score'])/len(mae_results['train_score']), 'Cross Val Testing MAE': sum(-mae_results['test_score'])/len(mae_results['test_score']),\n",
    "                        'Cross Val Training RMSE': sum(-rmse_results['train_score'])/len(rmse_results['train_score']), 'Cross Val Testing RMSE': sum(-rmse_results['test_score'])/len(rmse_results['test_score']),\n",
    "                        'Cross Val Training R2': (sum(r2_results['train_score'])/len(r2_results['train_score'])), 'Cross Val Testing R2': (sum(r2_results['test_score'])/len(r2_results['test_score']))}\n",
    "new_df = pd.DataFrame([new_row])\n",
    "resultOfRegModels = pd.concat([resultOfRegModels, new_df], axis=0, ignore_index=True) "
   ]
  },
  {
   "cell_type": "code",
   "execution_count": 141,
   "metadata": {},
   "outputs": [
    {
     "data": {
      "text/html": [
       "<div>\n",
       "<style scoped>\n",
       "    .dataframe tbody tr th:only-of-type {\n",
       "        vertical-align: middle;\n",
       "    }\n",
       "\n",
       "    .dataframe tbody tr th {\n",
       "        vertical-align: top;\n",
       "    }\n",
       "\n",
       "    .dataframe thead th {\n",
       "        text-align: right;\n",
       "    }\n",
       "</style>\n",
       "<table border=\"1\" class=\"dataframe\">\n",
       "  <thead>\n",
       "    <tr style=\"text-align: right;\">\n",
       "      <th></th>\n",
       "      <th>Model</th>\n",
       "      <th>Training MAE</th>\n",
       "      <th>Testing MAE</th>\n",
       "      <th>Training RMSE</th>\n",
       "      <th>Testing RMSE</th>\n",
       "      <th>Training R2</th>\n",
       "      <th>Testing R2</th>\n",
       "      <th>Cross Val Training MAE</th>\n",
       "      <th>Cross Val Testing MAE</th>\n",
       "      <th>Cross Val Training RMSE</th>\n",
       "      <th>Cross Val Testing RMSE</th>\n",
       "      <th>Cross Val Training R2</th>\n",
       "      <th>Cross Val Testing R2</th>\n",
       "    </tr>\n",
       "  </thead>\n",
       "  <tbody>\n",
       "    <tr>\n",
       "      <th>0</th>\n",
       "      <td>Naive Baseline Model</td>\n",
       "      <td>68.634679</td>\n",
       "      <td>68.519158</td>\n",
       "      <td>84.923269</td>\n",
       "      <td>85.430959</td>\n",
       "      <td>0.000000</td>\n",
       "      <td>0.000000</td>\n",
       "      <td>68.634679</td>\n",
       "      <td>68.519158</td>\n",
       "      <td>84.923269</td>\n",
       "      <td>85.430959</td>\n",
       "      <td>0.000000</td>\n",
       "      <td>0.000000</td>\n",
       "    </tr>\n",
       "    <tr>\n",
       "      <th>1</th>\n",
       "      <td>Linear Regression Model</td>\n",
       "      <td>46.726080</td>\n",
       "      <td>47.698981</td>\n",
       "      <td>61.675580</td>\n",
       "      <td>63.804358</td>\n",
       "      <td>0.472560</td>\n",
       "      <td>0.441763</td>\n",
       "      <td>46.755942</td>\n",
       "      <td>48.511791</td>\n",
       "      <td>61.846453</td>\n",
       "      <td>63.747304</td>\n",
       "      <td>0.469721</td>\n",
       "      <td>0.415948</td>\n",
       "    </tr>\n",
       "    <tr>\n",
       "      <th>2</th>\n",
       "      <td>Linear Regression Model - Improved</td>\n",
       "      <td>46.726632</td>\n",
       "      <td>47.704841</td>\n",
       "      <td>61.687877</td>\n",
       "      <td>63.829335</td>\n",
       "      <td>0.472350</td>\n",
       "      <td>0.441326</td>\n",
       "      <td>46.800879</td>\n",
       "      <td>48.177630</td>\n",
       "      <td>61.903173</td>\n",
       "      <td>63.429441</td>\n",
       "      <td>0.468750</td>\n",
       "      <td>0.421922</td>\n",
       "    </tr>\n",
       "    <tr>\n",
       "      <th>3</th>\n",
       "      <td>Decision Tree Regressor</td>\n",
       "      <td>50.609924</td>\n",
       "      <td>50.814608</td>\n",
       "      <td>65.846499</td>\n",
       "      <td>67.044102</td>\n",
       "      <td>0.398810</td>\n",
       "      <td>0.383633</td>\n",
       "      <td>50.677511</td>\n",
       "      <td>51.515028</td>\n",
       "      <td>65.998510</td>\n",
       "      <td>67.004480</td>\n",
       "      <td>0.396121</td>\n",
       "      <td>0.355402</td>\n",
       "    </tr>\n",
       "    <tr>\n",
       "      <th>4</th>\n",
       "      <td>Decision Tree Regressor - GridSearchCV</td>\n",
       "      <td>33.818771</td>\n",
       "      <td>40.572739</td>\n",
       "      <td>47.559536</td>\n",
       "      <td>58.157364</td>\n",
       "      <td>0.686367</td>\n",
       "      <td>0.536204</td>\n",
       "      <td>33.756181</td>\n",
       "      <td>46.730655</td>\n",
       "      <td>47.972016</td>\n",
       "      <td>64.735246</td>\n",
       "      <td>0.680555</td>\n",
       "      <td>0.398807</td>\n",
       "    </tr>\n",
       "  </tbody>\n",
       "</table>\n",
       "</div>"
      ],
      "text/plain": [
       "                                    Model  Training MAE  Testing MAE  \\\n",
       "0                    Naive Baseline Model     68.634679    68.519158   \n",
       "1                 Linear Regression Model     46.726080    47.698981   \n",
       "2      Linear Regression Model - Improved     46.726632    47.704841   \n",
       "3                 Decision Tree Regressor     50.609924    50.814608   \n",
       "4  Decision Tree Regressor - GridSearchCV     33.818771    40.572739   \n",
       "\n",
       "   Training RMSE  Testing RMSE  Training R2  Testing R2  \\\n",
       "0      84.923269     85.430959     0.000000    0.000000   \n",
       "1      61.675580     63.804358     0.472560    0.441763   \n",
       "2      61.687877     63.829335     0.472350    0.441326   \n",
       "3      65.846499     67.044102     0.398810    0.383633   \n",
       "4      47.559536     58.157364     0.686367    0.536204   \n",
       "\n",
       "   Cross Val Training MAE  Cross Val Testing MAE  Cross Val Training RMSE  \\\n",
       "0               68.634679              68.519158                84.923269   \n",
       "1               46.755942              48.511791                61.846453   \n",
       "2               46.800879              48.177630                61.903173   \n",
       "3               50.677511              51.515028                65.998510   \n",
       "4               33.756181              46.730655                47.972016   \n",
       "\n",
       "   Cross Val Testing RMSE  Cross Val Training R2  Cross Val Testing R2  \n",
       "0               85.430959               0.000000              0.000000  \n",
       "1               63.747304               0.469721              0.415948  \n",
       "2               63.429441               0.468750              0.421922  \n",
       "3               67.004480               0.396121              0.355402  \n",
       "4               64.735246               0.680555              0.398807  "
      ]
     },
     "execution_count": 141,
     "metadata": {},
     "output_type": "execute_result"
    }
   ],
   "source": [
    "resultOfRegModels"
   ]
  },
  {
   "cell_type": "markdown",
   "metadata": {},
   "source": [
    "<b> Evaluate using Graph</b>"
   ]
  },
  {
   "cell_type": "markdown",
   "metadata": {},
   "source": [
    "<b> R²</b>"
   ]
  },
  {
   "cell_type": "code",
   "execution_count": 142,
   "metadata": {},
   "outputs": [],
   "source": [
    "depth_range = range(2,16)\n",
    "\n",
    "train_r2 = []\n",
    "test_r2 = []\n",
    "cross_val_train_r2 =[]\n",
    "cross_val_test_r2 =[]\n",
    "\n",
    "for d in depth_range:\n",
    "    # Create Random Forest Model\n",
    "    tree_regVis = tree.DecisionTreeRegressor(criterion='squared_error', max_depth=d, min_samples_leaf = 10,\n",
    "                                         min_samples_split =2, random_state=999)\n",
    "    tree_regVis.fit(x_train, y_train.ravel()) \n",
    "    train_r2.append(tree_regVis.score(x_train, y_train))\n",
    "    test_r2.append(tree_regVis.score(x_test, y_test))\n",
    "    \n",
    "    results  = cross_validate(tree_regVis, x_data_listings, y_data_listings.ravel(), scoring='r2', cv=5, return_train_score = True)\n",
    "    cross_val_train_r2.append(sum(results['train_score'])/len(results['train_score']))\n",
    "    cross_val_test_r2.append(sum(results['test_score'])/len(results['test_score']))"
   ]
  },
  {
   "cell_type": "code",
   "execution_count": 143,
   "metadata": {},
   "outputs": [
    {
     "data": {
      "image/png": "[encoded data removed]",
      "text/plain": [
       "<Figure size 640x480 with 1 Axes>"
      ]
     },
     "metadata": {},
     "output_type": "display_data"
    }
   ],
   "source": [
    "# Plot the simple split measures (train_acc & test_acc) \n",
    "plt.plot(depth_range, train_r2, 'bo-', label ='training r2')\n",
    "plt.plot(depth_range, test_r2, 'ro-', label = 'testing r2')\n",
    "\n",
    "plt.xlabel('max_depth', fontsize='x-large')\n",
    "plt.ylabel('R^2', fontsize='x-large')\n",
    "\n",
    "plt.legend(loc='best', shadow=True, fontsize='x-large')\n",
    "plt.show()"
   ]
  },
  {
   "cell_type": "code",
   "execution_count": 144,
   "metadata": {},
   "outputs": [
    {
     "data": {
      "image/png": "[encoded data removed]",
      "text/plain": [
       "<Figure size 640x480 with 1 Axes>"
      ]
     },
     "metadata": {},
     "output_type": "display_data"
    }
   ],
   "source": [
    "# Plot the cross validation measures (cross_val_train_acc & cross cross_val_test_acc) \n",
    "plt.plot(depth_range, cross_val_train_r2, 'bo-', label ='cross val training r2')\n",
    "plt.plot(depth_range, cross_val_test_r2, 'ro-', label = 'cross val testing r2')\n",
    "\n",
    "plt.xlabel('max_depth', fontsize='x-large')\n",
    "plt.ylabel('R^2', fontsize='x-large')\n",
    "\n",
    "plt.legend(loc='best', shadow=True, fontsize='x-large')\n",
    "plt.show()"
   ]
  },
  {
   "cell_type": "markdown",
   "metadata": {},
   "source": [
    "<b>RMSE</b>"
   ]
  },
  {
   "cell_type": "code",
   "execution_count": 145,
   "metadata": {},
   "outputs": [],
   "source": [
    "depth_range = range(2,16)\n",
    "\n",
    "train_rmse = []\n",
    "test_rmse = []\n",
    "cross_val_train_rmse =[]\n",
    "cross_val_test_rmse =[]\n",
    "\n",
    "for d in depth_range:\n",
    "    # Create Random Forest Model\n",
    "    tree_regVis = tree.DecisionTreeRegressor(criterion='squared_error', max_depth=d, min_samples_leaf = 10,\n",
    "                                         min_samples_split =2, random_state=999)\n",
    "    tree_regVis.fit(x_train, y_train.ravel()) \n",
    "    train_rmse.append(sqrt(mean_squared_error(tree_regVis.predict(x_train), y_train)))\n",
    "    test_rmse.append(sqrt(mean_squared_error(tree_regVis.predict(x_test), y_test)))\n",
    "    \n",
    "    \n",
    "    results  = cross_validate(tree_regVis, x_data_listings, y_data_listings.ravel(), scoring='neg_root_mean_squared_error', cv=5, return_train_score = True)\n",
    "    cross_val_train_rmse.append(sum(-results['train_score'])/len(results['train_score']))\n",
    "    cross_val_test_rmse.append(sum(-results['test_score'])/len(results['test_score']))"
   ]
  },
  {
   "cell_type": "code",
   "execution_count": 146,
   "metadata": {},
   "outputs": [
    {
     "data": {
      "image/png": "[encoded data removed]",
      "text/plain": [
       "<Figure size 640x480 with 1 Axes>"
      ]
     },
     "metadata": {},
     "output_type": "display_data"
    }
   ],
   "source": [
    "# Plot the simple split measures (train_acc & test_acc) \n",
    "plt.plot(depth_range, train_rmse, 'bo-', label ='training rmse')\n",
    "plt.plot(depth_range, test_rmse, 'ro-', label = 'testing rmse')\n",
    "\n",
    "plt.xlabel('max_depth', fontsize='x-large')\n",
    "plt.ylabel('RMSE', fontsize='x-large')\n",
    "\n",
    "plt.legend(loc='best', shadow=True, fontsize='x-large')\n",
    "plt.show()"
   ]
  },
  {
   "cell_type": "code",
   "execution_count": 147,
   "metadata": {},
   "outputs": [
    {
     "data": {
      "image/png": "[encoded data removed]",
      "text/plain": [
       "<Figure size 640x480 with 1 Axes>"
      ]
     },
     "metadata": {},
     "output_type": "display_data"
    }
   ],
   "source": [
    "# Plot the cross validation measures (cross_val_train_acc & cross cross_val_test_acc) \n",
    "plt.plot(depth_range, cross_val_train_rmse, 'bo-', label ='cross val training rmse')\n",
    "plt.plot(depth_range, cross_val_test_rmse, 'ro-', label = 'cross val testing rmse')\n",
    "\n",
    "plt.xlabel('max_depth', fontsize='x-large')\n",
    "plt.ylabel('RMSE', fontsize='x-large')\n",
    "\n",
    "plt.legend(loc='best', shadow=True, fontsize='x-large')\n",
    "plt.show()"
   ]
  },
  {
   "cell_type": "markdown",
   "metadata": {},
   "source": [
    "<b>MAE</b>"
   ]
  },
  {
   "cell_type": "code",
   "execution_count": 148,
   "metadata": {},
   "outputs": [],
   "source": [
    "depth_range = range(2,16)\n",
    "\n",
    "train_mae = []\n",
    "test_mae = []\n",
    "cross_val_train_mae =[]\n",
    "cross_val_test_mae =[]\n",
    "\n",
    "for d in depth_range:\n",
    "    # Create Random Forest Model\n",
    "    tree_regVis = tree.DecisionTreeRegressor(criterion='squared_error', max_depth=d, min_samples_leaf = 10,\n",
    "                                         min_samples_split =2, random_state=999)\n",
    "    tree_regVis.fit(x_train, y_train.ravel()) \n",
    "    train_mae.append(mean_absolute_error(tree_regVis.predict(x_train), y_train))\n",
    "    test_mae.append(mean_absolute_error(tree_regVis.predict(x_test), y_test))\n",
    "    \n",
    "    \n",
    "    results  = cross_validate(tree_regVis, x_data_listings, y_data_listings.ravel(), scoring='neg_median_absolute_error', cv=5, return_train_score = True)\n",
    "    cross_val_train_mae.append(sum(-results['train_score'])/len(results['train_score']))\n",
    "    cross_val_test_mae.append(sum(-results['test_score'])/len(results['test_score']))"
   ]
  },
  {
   "cell_type": "code",
   "execution_count": 149,
   "metadata": {},
   "outputs": [
    {
     "data": {
      "image/png": "[encoded data removed]",
      "text/plain": [
       "<Figure size 640x480 with 1 Axes>"
      ]
     },
     "metadata": {},
     "output_type": "display_data"
    }
   ],
   "source": [
    "# Plot the simple split measures (train_acc & test_acc) \n",
    "plt.plot(depth_range, train_mae, 'bo-', label ='training mae')\n",
    "plt.plot(depth_range, test_mae, 'ro-', label = 'testing mae')\n",
    "\n",
    "plt.xlabel('max_depth', fontsize='x-large')\n",
    "plt.ylabel('MAE', fontsize='x-large')\n",
    "\n",
    "plt.legend(loc='best', shadow=True, fontsize='x-large')\n",
    "plt.show()"
   ]
  },
  {
   "cell_type": "code",
   "execution_count": 150,
   "metadata": {},
   "outputs": [
    {
     "data": {
      "image/png": "[encoded data removed]",
      "text/plain": [
       "<Figure size 640x480 with 1 Axes>"
      ]
     },
     "metadata": {},
     "output_type": "display_data"
    }
   ],
   "source": [
    "# Plot the cross validation measures (cross_val_train_acc & cross cross_val_test_acc) \n",
    "plt.plot(depth_range, cross_val_train_mae, 'bo-', label ='cross val training mae')\n",
    "plt.plot(depth_range, cross_val_test_mae, 'ro-', label = 'cross val testing mae')\n",
    "\n",
    "plt.xlabel('max_depth', fontsize='x-large')\n",
    "plt.ylabel('MAE', fontsize='x-large')\n",
    "\n",
    "plt.legend(loc='best', shadow=True, fontsize='x-large')\n",
    "plt.show()"
   ]
  },
  {
   "cell_type": "code",
   "execution_count": 151,
   "metadata": {},
   "outputs": [
    {
     "data": {
      "text/plain": [
       "DecisionTreeRegressor(max_depth=4, min_samples_leaf=10, random_state=999)"
      ]
     },
     "execution_count": 151,
     "metadata": {},
     "output_type": "execute_result"
    }
   ],
   "source": [
    "# Use suggest params for DTRegresssor\n",
    "tree_reg3 = tree.DecisionTreeRegressor(criterion = 'squared_error', max_depth= 4, \n",
    "                                      min_samples_leaf= 10, min_samples_split= 2, random_state= 999)\n",
    "tree_reg3.fit(x_train, y_train)"
   ]
  },
  {
   "cell_type": "code",
   "execution_count": 152,
   "metadata": {},
   "outputs": [
    {
     "name": "stdout",
     "output_type": "stream",
     "text": [
      "the training mean absolute error is:  45.95960516901858\n",
      "the testing mean absolute error is:  46.7463975192766\n",
      "\n",
      "the training root mean squared error is:  61.17890308245663\n",
      "the testing root mean squared error is:  63.54157017373305\n",
      "\n",
      "training R^2 value is:  0.4810207808949384\n",
      "testing R^2 value is:  0.4463519121142602\n"
     ]
    }
   ],
   "source": [
    "#training mae\n",
    "train_mae = mean_absolute_error(tree_reg3.predict(x_train), y_train)\n",
    "print('the training mean absolute error is: ', train_mae)\n",
    "#testing mae\n",
    "test_mae = mean_absolute_error(tree_reg3.predict(x_test), y_test)\n",
    "print('the testing mean absolute error is: ',test_mae)\n",
    "print()\n",
    "#training rmse\n",
    "train_rmse = sqrt(mean_squared_error(tree_reg3.predict(x_train), y_train))\n",
    "print('the training root mean squared error is: ', train_rmse)\n",
    "#testing rmse\n",
    "test_rmse = sqrt(mean_squared_error(tree_reg3.predict(x_test), y_test))\n",
    "print('the testing root mean squared error is: ',test_rmse)\n",
    "print()\n",
    "# training r2\n",
    "train_R2 = tree_reg3.score(x_train, y_train)\n",
    "print('training R^2 value is: ', train_R2)\n",
    "# testing r2\n",
    "test_R2 = tree_reg3.score(x_test, y_test)\n",
    "print('testing R^2 value is: ', test_R2)"
   ]
  },
  {
   "cell_type": "code",
   "execution_count": 153,
   "metadata": {},
   "outputs": [
    {
     "name": "stdout",
     "output_type": "stream",
     "text": [
      "train_score:  [-63.55137011 -61.6149371  -61.90953796 -60.23288924 -61.45144181]\n",
      "test_score:  [-58.15205191 -61.38674247 -65.78325828 -68.12884984 -68.18934572]\n",
      "cross val training root_mean_squared_error is: 61.75203524462777\n",
      "cross val testing root_mean_squared_error is: 64.32804964335669\n",
      "\n",
      "train_score:  [-48.33329562 -46.83401153 -46.26895522 -45.04600114 -46.22255947]\n",
      "test_score:  [-43.52052108 -44.81527531 -49.27900007 -51.35575538 -54.48931909]\n",
      "cross val training mean_absolute_error is: 46.54096459573305\n",
      "cross val testing mean_absolute_error is: 48.69197418461392\n",
      "\n",
      "train_score:  [0.45759651 0.47220441 0.46432648 0.4987597  0.4635828 ]\n",
      "test_score:  [0.41760758 0.4664714  0.41860018 0.33270546 0.39661251]\n",
      "cross val training r2 is: 0.4712939804114171\n",
      "cross val testing r2 is: 0.40639942514997907\n"
     ]
    }
   ],
   "source": [
    "# Evaluate the Model using K-folds Cross validation  RMSE\n",
    "rmse_results = cross_validate(tree_reg3, x_data_listings, y_data_listings, scoring='neg_root_mean_squared_error', cv=5, return_train_score = True)\n",
    "print('train_score: ', rmse_results['train_score'])\n",
    "print('test_score: ', rmse_results['test_score'])\n",
    "print('cross val training root_mean_squared_error is:', sum(-rmse_results['train_score'])/len(rmse_results['train_score']))\n",
    "print('cross val testing root_mean_squared_error is:', sum(-rmse_results['test_score'])/len(rmse_results['test_score']))\n",
    "print()\n",
    "# Evaluate the Model using K-folds Cross validation  MAE\n",
    "mae_results = cross_validate(tree_reg3, x_data_listings, y_data_listings, scoring='neg_mean_absolute_error', cv=5, return_train_score = True)\n",
    "print('train_score: ', mae_results['train_score'])\n",
    "print('test_score: ', mae_results['test_score'])\n",
    "print('cross val training mean_absolute_error is:', sum(-mae_results['train_score'])/len(mae_results['train_score']))\n",
    "print('cross val testing mean_absolute_error is:', sum(-mae_results['test_score'])/len(mae_results['test_score']))\n",
    "print()\n",
    "# Evaluate the Model using K-folds Cross validation  R2\n",
    "r2_results = cross_validate(tree_reg3, x_data_listings, y_data_listings, scoring='r2', cv=5, return_train_score = True)\n",
    "print('train_score: ', r2_results['train_score'])\n",
    "print('test_score: ', r2_results['test_score'])\n",
    "print('cross val training r2 is:', sum(r2_results['train_score'])/len(r2_results['train_score']))\n",
    "print('cross val testing r2 is:', sum(r2_results['test_score'])/len(r2_results['test_score']))"
   ]
  },
  {
   "cell_type": "code",
   "execution_count": 154,
   "metadata": {},
   "outputs": [],
   "source": [
    "# Add Decision Tree Regressor to resultOfRegModelsDict\n",
    "new_row = {'Model': 'Decision Tree Regressor - GridSearchCV(Visualisation)', 'Training MAE': train_mae, 'Testing MAE': test_mae,\n",
    "                         'Training RMSE': train_rmse, 'Testing RMSE': test_rmse, \n",
    "                         'Training R2': train_R2, 'Testing R2': test_R2, \n",
    "                        'Cross Val Training MAE':  sum(-mae_results['train_score'])/len(mae_results['train_score']), 'Cross Val Testing MAE': sum(-mae_results['test_score'])/len(mae_results['test_score']),\n",
    "                        'Cross Val Training RMSE': sum(-rmse_results['train_score'])/len(rmse_results['train_score']), 'Cross Val Testing RMSE': sum(-rmse_results['test_score'])/len(rmse_results['test_score']),\n",
    "                        'Cross Val Training R2': (sum(r2_results['train_score'])/len(r2_results['train_score'])), 'Cross Val Testing R2': (sum(r2_results['test_score'])/len(r2_results['test_score']))}\n",
    "new_df = pd.DataFrame([new_row])\n",
    "resultOfRegModels = pd.concat([resultOfRegModels, new_df], axis=0, ignore_index=True) "
   ]
  },
  {
   "cell_type": "code",
   "execution_count": 155,
   "metadata": {},
   "outputs": [
    {
     "data": {
      "text/html": [
       "<div>\n",
       "<style scoped>\n",
       "    .dataframe tbody tr th:only-of-type {\n",
       "        vertical-align: middle;\n",
       "    }\n",
       "\n",
       "    .dataframe tbody tr th {\n",
       "        vertical-align: top;\n",
       "    }\n",
       "\n",
       "    .dataframe thead th {\n",
       "        text-align: right;\n",
       "    }\n",
       "</style>\n",
       "<table border=\"1\" class=\"dataframe\">\n",
       "  <thead>\n",
       "    <tr style=\"text-align: right;\">\n",
       "      <th></th>\n",
       "      <th>Model</th>\n",
       "      <th>Training MAE</th>\n",
       "      <th>Testing MAE</th>\n",
       "      <th>Training RMSE</th>\n",
       "      <th>Testing RMSE</th>\n",
       "      <th>Training R2</th>\n",
       "      <th>Testing R2</th>\n",
       "      <th>Cross Val Training MAE</th>\n",
       "      <th>Cross Val Testing MAE</th>\n",
       "      <th>Cross Val Training RMSE</th>\n",
       "      <th>Cross Val Testing RMSE</th>\n",
       "      <th>Cross Val Training R2</th>\n",
       "      <th>Cross Val Testing R2</th>\n",
       "    </tr>\n",
       "  </thead>\n",
       "  <tbody>\n",
       "    <tr>\n",
       "      <th>0</th>\n",
       "      <td>Naive Baseline Model</td>\n",
       "      <td>68.634679</td>\n",
       "      <td>68.519158</td>\n",
       "      <td>84.923269</td>\n",
       "      <td>85.430959</td>\n",
       "      <td>0.000000</td>\n",
       "      <td>0.000000</td>\n",
       "      <td>68.634679</td>\n",
       "      <td>68.519158</td>\n",
       "      <td>84.923269</td>\n",
       "      <td>85.430959</td>\n",
       "      <td>0.000000</td>\n",
       "      <td>0.000000</td>\n",
       "    </tr>\n",
       "    <tr>\n",
       "      <th>1</th>\n",
       "      <td>Linear Regression Model</td>\n",
       "      <td>46.726080</td>\n",
       "      <td>47.698981</td>\n",
       "      <td>61.675580</td>\n",
       "      <td>63.804358</td>\n",
       "      <td>0.472560</td>\n",
       "      <td>0.441763</td>\n",
       "      <td>46.755942</td>\n",
       "      <td>48.511791</td>\n",
       "      <td>61.846453</td>\n",
       "      <td>63.747304</td>\n",
       "      <td>0.469721</td>\n",
       "      <td>0.415948</td>\n",
       "    </tr>\n",
       "    <tr>\n",
       "      <th>2</th>\n",
       "      <td>Linear Regression Model - Improved</td>\n",
       "      <td>46.726632</td>\n",
       "      <td>47.704841</td>\n",
       "      <td>61.687877</td>\n",
       "      <td>63.829335</td>\n",
       "      <td>0.472350</td>\n",
       "      <td>0.441326</td>\n",
       "      <td>46.800879</td>\n",
       "      <td>48.177630</td>\n",
       "      <td>61.903173</td>\n",
       "      <td>63.429441</td>\n",
       "      <td>0.468750</td>\n",
       "      <td>0.421922</td>\n",
       "    </tr>\n",
       "    <tr>\n",
       "      <th>3</th>\n",
       "      <td>Decision Tree Regressor</td>\n",
       "      <td>50.609924</td>\n",
       "      <td>50.814608</td>\n",
       "      <td>65.846499</td>\n",
       "      <td>67.044102</td>\n",
       "      <td>0.398810</td>\n",
       "      <td>0.383633</td>\n",
       "      <td>50.677511</td>\n",
       "      <td>51.515028</td>\n",
       "      <td>65.998510</td>\n",
       "      <td>67.004480</td>\n",
       "      <td>0.396121</td>\n",
       "      <td>0.355402</td>\n",
       "    </tr>\n",
       "    <tr>\n",
       "      <th>4</th>\n",
       "      <td>Decision Tree Regressor - GridSearchCV</td>\n",
       "      <td>33.818771</td>\n",
       "      <td>40.572739</td>\n",
       "      <td>47.559536</td>\n",
       "      <td>58.157364</td>\n",
       "      <td>0.686367</td>\n",
       "      <td>0.536204</td>\n",
       "      <td>33.756181</td>\n",
       "      <td>46.730655</td>\n",
       "      <td>47.972016</td>\n",
       "      <td>64.735246</td>\n",
       "      <td>0.680555</td>\n",
       "      <td>0.398807</td>\n",
       "    </tr>\n",
       "    <tr>\n",
       "      <th>5</th>\n",
       "      <td>Decision Tree Regressor - GridSearchCV(Visuali...</td>\n",
       "      <td>45.959605</td>\n",
       "      <td>46.746398</td>\n",
       "      <td>61.178903</td>\n",
       "      <td>63.541570</td>\n",
       "      <td>0.481021</td>\n",
       "      <td>0.446352</td>\n",
       "      <td>46.540965</td>\n",
       "      <td>48.691974</td>\n",
       "      <td>61.752035</td>\n",
       "      <td>64.328050</td>\n",
       "      <td>0.471294</td>\n",
       "      <td>0.406399</td>\n",
       "    </tr>\n",
       "  </tbody>\n",
       "</table>\n",
       "</div>"
      ],
      "text/plain": [
       "                                               Model  Training MAE  \\\n",
       "0                               Naive Baseline Model     68.634679   \n",
       "1                            Linear Regression Model     46.726080   \n",
       "2                 Linear Regression Model - Improved     46.726632   \n",
       "3                            Decision Tree Regressor     50.609924   \n",
       "4             Decision Tree Regressor - GridSearchCV     33.818771   \n",
       "5  Decision Tree Regressor - GridSearchCV(Visuali...     45.959605   \n",
       "\n",
       "   Testing MAE  Training RMSE  Testing RMSE  Training R2  Testing R2  \\\n",
       "0    68.519158      84.923269     85.430959     0.000000    0.000000   \n",
       "1    47.698981      61.675580     63.804358     0.472560    0.441763   \n",
       "2    47.704841      61.687877     63.829335     0.472350    0.441326   \n",
       "3    50.814608      65.846499     67.044102     0.398810    0.383633   \n",
       "4    40.572739      47.559536     58.157364     0.686367    0.536204   \n",
       "5    46.746398      61.178903     63.541570     0.481021    0.446352   \n",
       "\n",
       "   Cross Val Training MAE  Cross Val Testing MAE  Cross Val Training RMSE  \\\n",
       "0               68.634679              68.519158                84.923269   \n",
       "1               46.755942              48.511791                61.846453   \n",
       "2               46.800879              48.177630                61.903173   \n",
       "3               50.677511              51.515028                65.998510   \n",
       "4               33.756181              46.730655                47.972016   \n",
       "5               46.540965              48.691974                61.752035   \n",
       "\n",
       "   Cross Val Testing RMSE  Cross Val Training R2  Cross Val Testing R2  \n",
       "0               85.430959               0.000000              0.000000  \n",
       "1               63.747304               0.469721              0.415948  \n",
       "2               63.429441               0.468750              0.421922  \n",
       "3               67.004480               0.396121              0.355402  \n",
       "4               64.735246               0.680555              0.398807  \n",
       "5               64.328050               0.471294              0.406399  "
      ]
     },
     "execution_count": 155,
     "metadata": {},
     "output_type": "execute_result"
    }
   ],
   "source": [
    "resultOfRegModels"
   ]
  },
  {
   "cell_type": "markdown",
   "metadata": {},
   "source": [
    "### 2.2.4. AdaBoost Regressor on Decision Tree Regressor <a id=\"2.2.4.\"></a>\n",
    "[Back to Top](#top)"
   ]
  },
  {
   "cell_type": "code",
   "execution_count": 156,
   "metadata": {},
   "outputs": [],
   "source": [
    "# Split both Inputs (X) and Ouput (y) into training set (80%) and testing set (20%)\n",
    "x_train, x_test, y_train, y_test = train_test_split(x_data_listings, y_data_listings, test_size=0.2, random_state=999)"
   ]
  },
  {
   "cell_type": "code",
   "execution_count": 157,
   "metadata": {},
   "outputs": [
    {
     "data": {
      "text/plain": [
       "AdaBoostRegressor(base_estimator=DecisionTreeRegressor(max_depth=4,\n",
       "                                                       min_samples_leaf=10,\n",
       "                                                       random_state=999),\n",
       "                  learning_rate=0.1, n_estimators=20, random_state=999)"
      ]
     },
     "execution_count": 157,
     "metadata": {},
     "output_type": "execute_result"
    }
   ],
   "source": [
    "# Build Ada Boost Model\n",
    "adb1= AdaBoostRegressor(tree.DecisionTreeRegressor(criterion = 'squared_error', max_depth= 4, \n",
    "                                      min_samples_leaf= 10, min_samples_split= 2, random_state= 999), n_estimators = 20, learning_rate = 0.1, random_state=999)\n",
    "adb1.fit(x_train,y_train)"
   ]
  },
  {
   "cell_type": "code",
   "execution_count": 158,
   "metadata": {},
   "outputs": [
    {
     "name": "stdout",
     "output_type": "stream",
     "text": [
      "the training mean absolute error is:  46.70059446246971\n",
      "the testing mean absolute error is:  47.47405612028214\n",
      "\n",
      "the training root mean squared error is:  60.1414801815371\n",
      "the testing root mean squared error is:  62.23269802994893\n",
      "\n",
      "training R^2 value is:  0.4984724190897992\n",
      "testing R^2 value is:  0.4689258301305579\n"
     ]
    }
   ],
   "source": [
    "#training mae\n",
    "train_mae = mean_absolute_error(adb1.predict(x_train), y_train)\n",
    "print('the training mean absolute error is: ', train_mae)\n",
    "#testing mae\n",
    "test_mae = mean_absolute_error(adb1.predict(x_test), y_test)\n",
    "print('the testing mean absolute error is: ',test_mae)\n",
    "print()\n",
    "#training rmse\n",
    "train_rmse = sqrt(mean_squared_error(adb1.predict(x_train), y_train))\n",
    "print('the training root mean squared error is: ', train_rmse)\n",
    "#testing rmse\n",
    "test_rmse = sqrt(mean_squared_error(adb1.predict(x_test), y_test))\n",
    "print('the testing root mean squared error is: ',test_rmse)\n",
    "print()\n",
    "# training r2\n",
    "train_R2 = adb1.score(x_train, y_train)\n",
    "print('training R^2 value is: ', train_R2)\n",
    "# testing r2\n",
    "test_R2 = adb1.score(x_test, y_test)\n",
    "print('testing R^2 value is: ', test_R2)"
   ]
  },
  {
   "cell_type": "code",
   "execution_count": 159,
   "metadata": {},
   "outputs": [
    {
     "name": "stdout",
     "output_type": "stream",
     "text": [
      "train_score:  [-61.70835017 -60.2297282  -59.54220807 -59.12728929 -60.16628259]\n",
      "test_score:  [-57.92308124 -62.30664859 -63.23051943 -67.62539122 -67.52403326]\n",
      "cross val training root_mean_squared_error is: 60.15477166100491\n",
      "cross val testing root_mean_squared_error is: 63.72193474789242\n",
      "\n",
      "train_score:  [-48.28522054 -47.38326945 -45.79900038 -45.56573825 -46.66306454]\n",
      "test_score:  [-43.78214435 -47.0183415  -49.2040671  -53.12497382 -55.15680544]\n",
      "cross val training mean_absolute_error is: 46.739258634190854\n",
      "cross val testing mean_absolute_error is: 49.65726644293744\n",
      "\n",
      "train_score:  [0.48860025 0.49566914 0.50450997 0.51699178 0.48578481]\n",
      "test_score:  [0.42218483 0.45036129 0.46284746 0.34253137 0.40832938]\n",
      "cross val training r2 is: 0.4983111886559886\n",
      "cross val testing r2 is: 0.41725086490665547\n"
     ]
    }
   ],
   "source": [
    "# Evaluate the Model using K-folds Cross validation  RMSE\n",
    "rmse_results = cross_validate(adb1, x_data_listings, y_data_listings, scoring='neg_root_mean_squared_error', cv=5, return_train_score = True)\n",
    "print('train_score: ', rmse_results['train_score'])\n",
    "print('test_score: ', rmse_results['test_score'])\n",
    "print('cross val training root_mean_squared_error is:', sum(-rmse_results['train_score'])/len(rmse_results['train_score']))\n",
    "print('cross val testing root_mean_squared_error is:', sum(-rmse_results['test_score'])/len(rmse_results['test_score']))\n",
    "print()\n",
    "# Evaluate the Model using K-folds Cross validation  MAE\n",
    "mae_results = cross_validate(adb1, x_data_listings, y_data_listings, scoring='neg_mean_absolute_error', cv=5, return_train_score = True)\n",
    "print('train_score: ', mae_results['train_score'])\n",
    "print('test_score: ', mae_results['test_score'])\n",
    "print('cross val training mean_absolute_error is:', sum(-mae_results['train_score'])/len(mae_results['train_score']))\n",
    "print('cross val testing mean_absolute_error is:', sum(-mae_results['test_score'])/len(mae_results['test_score']))\n",
    "print()\n",
    "# Evaluate the Model using K-folds Cross validation  R2\n",
    "r2_results = cross_validate(adb1, x_data_listings, y_data_listings, scoring='r2', cv=5, return_train_score = True)\n",
    "print('train_score: ', r2_results['train_score'])\n",
    "print('test_score: ', r2_results['test_score'])\n",
    "print('cross val training r2 is:', sum(r2_results['train_score'])/len(r2_results['train_score']))\n",
    "print('cross val testing r2 is:', sum(r2_results['test_score'])/len(r2_results['test_score']))"
   ]
  },
  {
   "cell_type": "code",
   "execution_count": 160,
   "metadata": {},
   "outputs": [],
   "source": [
    "# Add Decision Tree Regressor to resultOfRegModelsDict\n",
    "new_row = {'Model': 'AdaBoost on Decision Tree Regressor', 'Training MAE': train_mae, 'Testing MAE': test_mae,\n",
    "                         'Training RMSE': train_rmse, 'Testing RMSE': test_rmse, \n",
    "                         'Training R2': train_R2, 'Testing R2': test_R2, \n",
    "                        'Cross Val Training MAE':  sum(-mae_results['train_score'])/len(mae_results['train_score']), 'Cross Val Testing MAE': sum(-mae_results['test_score'])/len(mae_results['test_score']),\n",
    "                        'Cross Val Training RMSE': sum(-rmse_results['train_score'])/len(rmse_results['train_score']), 'Cross Val Testing RMSE': sum(-rmse_results['test_score'])/len(rmse_results['test_score']),\n",
    "                        'Cross Val Training R2': (sum(r2_results['train_score'])/len(r2_results['train_score'])), 'Cross Val Testing R2': (sum(r2_results['test_score'])/len(r2_results['test_score']))}\n",
    "new_df = pd.DataFrame([new_row])\n",
    "resultOfRegModels = pd.concat([resultOfRegModels, new_df], axis=0, ignore_index=True) "
   ]
  },
  {
   "cell_type": "code",
   "execution_count": 161,
   "metadata": {},
   "outputs": [
    {
     "data": {
      "text/html": [
       "<div>\n",
       "<style scoped>\n",
       "    .dataframe tbody tr th:only-of-type {\n",
       "        vertical-align: middle;\n",
       "    }\n",
       "\n",
       "    .dataframe tbody tr th {\n",
       "        vertical-align: top;\n",
       "    }\n",
       "\n",
       "    .dataframe thead th {\n",
       "        text-align: right;\n",
       "    }\n",
       "</style>\n",
       "<table border=\"1\" class=\"dataframe\">\n",
       "  <thead>\n",
       "    <tr style=\"text-align: right;\">\n",
       "      <th></th>\n",
       "      <th>Model</th>\n",
       "      <th>Training MAE</th>\n",
       "      <th>Testing MAE</th>\n",
       "      <th>Training RMSE</th>\n",
       "      <th>Testing RMSE</th>\n",
       "      <th>Training R2</th>\n",
       "      <th>Testing R2</th>\n",
       "      <th>Cross Val Training MAE</th>\n",
       "      <th>Cross Val Testing MAE</th>\n",
       "      <th>Cross Val Training RMSE</th>\n",
       "      <th>Cross Val Testing RMSE</th>\n",
       "      <th>Cross Val Training R2</th>\n",
       "      <th>Cross Val Testing R2</th>\n",
       "    </tr>\n",
       "  </thead>\n",
       "  <tbody>\n",
       "    <tr>\n",
       "      <th>0</th>\n",
       "      <td>Naive Baseline Model</td>\n",
       "      <td>68.634679</td>\n",
       "      <td>68.519158</td>\n",
       "      <td>84.923269</td>\n",
       "      <td>85.430959</td>\n",
       "      <td>0.000000</td>\n",
       "      <td>0.000000</td>\n",
       "      <td>68.634679</td>\n",
       "      <td>68.519158</td>\n",
       "      <td>84.923269</td>\n",
       "      <td>85.430959</td>\n",
       "      <td>0.000000</td>\n",
       "      <td>0.000000</td>\n",
       "    </tr>\n",
       "    <tr>\n",
       "      <th>1</th>\n",
       "      <td>Linear Regression Model</td>\n",
       "      <td>46.726080</td>\n",
       "      <td>47.698981</td>\n",
       "      <td>61.675580</td>\n",
       "      <td>63.804358</td>\n",
       "      <td>0.472560</td>\n",
       "      <td>0.441763</td>\n",
       "      <td>46.755942</td>\n",
       "      <td>48.511791</td>\n",
       "      <td>61.846453</td>\n",
       "      <td>63.747304</td>\n",
       "      <td>0.469721</td>\n",
       "      <td>0.415948</td>\n",
       "    </tr>\n",
       "    <tr>\n",
       "      <th>2</th>\n",
       "      <td>Linear Regression Model - Improved</td>\n",
       "      <td>46.726632</td>\n",
       "      <td>47.704841</td>\n",
       "      <td>61.687877</td>\n",
       "      <td>63.829335</td>\n",
       "      <td>0.472350</td>\n",
       "      <td>0.441326</td>\n",
       "      <td>46.800879</td>\n",
       "      <td>48.177630</td>\n",
       "      <td>61.903173</td>\n",
       "      <td>63.429441</td>\n",
       "      <td>0.468750</td>\n",
       "      <td>0.421922</td>\n",
       "    </tr>\n",
       "    <tr>\n",
       "      <th>3</th>\n",
       "      <td>Decision Tree Regressor</td>\n",
       "      <td>50.609924</td>\n",
       "      <td>50.814608</td>\n",
       "      <td>65.846499</td>\n",
       "      <td>67.044102</td>\n",
       "      <td>0.398810</td>\n",
       "      <td>0.383633</td>\n",
       "      <td>50.677511</td>\n",
       "      <td>51.515028</td>\n",
       "      <td>65.998510</td>\n",
       "      <td>67.004480</td>\n",
       "      <td>0.396121</td>\n",
       "      <td>0.355402</td>\n",
       "    </tr>\n",
       "    <tr>\n",
       "      <th>4</th>\n",
       "      <td>Decision Tree Regressor - GridSearchCV</td>\n",
       "      <td>33.818771</td>\n",
       "      <td>40.572739</td>\n",
       "      <td>47.559536</td>\n",
       "      <td>58.157364</td>\n",
       "      <td>0.686367</td>\n",
       "      <td>0.536204</td>\n",
       "      <td>33.756181</td>\n",
       "      <td>46.730655</td>\n",
       "      <td>47.972016</td>\n",
       "      <td>64.735246</td>\n",
       "      <td>0.680555</td>\n",
       "      <td>0.398807</td>\n",
       "    </tr>\n",
       "    <tr>\n",
       "      <th>5</th>\n",
       "      <td>Decision Tree Regressor - GridSearchCV(Visuali...</td>\n",
       "      <td>45.959605</td>\n",
       "      <td>46.746398</td>\n",
       "      <td>61.178903</td>\n",
       "      <td>63.541570</td>\n",
       "      <td>0.481021</td>\n",
       "      <td>0.446352</td>\n",
       "      <td>46.540965</td>\n",
       "      <td>48.691974</td>\n",
       "      <td>61.752035</td>\n",
       "      <td>64.328050</td>\n",
       "      <td>0.471294</td>\n",
       "      <td>0.406399</td>\n",
       "    </tr>\n",
       "    <tr>\n",
       "      <th>6</th>\n",
       "      <td>AdaBoost on Decision Tree Regressor</td>\n",
       "      <td>46.700594</td>\n",
       "      <td>47.474056</td>\n",
       "      <td>60.141480</td>\n",
       "      <td>62.232698</td>\n",
       "      <td>0.498472</td>\n",
       "      <td>0.468926</td>\n",
       "      <td>46.739259</td>\n",
       "      <td>49.657266</td>\n",
       "      <td>60.154772</td>\n",
       "      <td>63.721935</td>\n",
       "      <td>0.498311</td>\n",
       "      <td>0.417251</td>\n",
       "    </tr>\n",
       "  </tbody>\n",
       "</table>\n",
       "</div>"
      ],
      "text/plain": [
       "                                               Model  Training MAE  \\\n",
       "0                               Naive Baseline Model     68.634679   \n",
       "1                            Linear Regression Model     46.726080   \n",
       "2                 Linear Regression Model - Improved     46.726632   \n",
       "3                            Decision Tree Regressor     50.609924   \n",
       "4             Decision Tree Regressor - GridSearchCV     33.818771   \n",
       "5  Decision Tree Regressor - GridSearchCV(Visuali...     45.959605   \n",
       "6                AdaBoost on Decision Tree Regressor     46.700594   \n",
       "\n",
       "   Testing MAE  Training RMSE  Testing RMSE  Training R2  Testing R2  \\\n",
       "0    68.519158      84.923269     85.430959     0.000000    0.000000   \n",
       "1    47.698981      61.675580     63.804358     0.472560    0.441763   \n",
       "2    47.704841      61.687877     63.829335     0.472350    0.441326   \n",
       "3    50.814608      65.846499     67.044102     0.398810    0.383633   \n",
       "4    40.572739      47.559536     58.157364     0.686367    0.536204   \n",
       "5    46.746398      61.178903     63.541570     0.481021    0.446352   \n",
       "6    47.474056      60.141480     62.232698     0.498472    0.468926   \n",
       "\n",
       "   Cross Val Training MAE  Cross Val Testing MAE  Cross Val Training RMSE  \\\n",
       "0               68.634679              68.519158                84.923269   \n",
       "1               46.755942              48.511791                61.846453   \n",
       "2               46.800879              48.177630                61.903173   \n",
       "3               50.677511              51.515028                65.998510   \n",
       "4               33.756181              46.730655                47.972016   \n",
       "5               46.540965              48.691974                61.752035   \n",
       "6               46.739259              49.657266                60.154772   \n",
       "\n",
       "   Cross Val Testing RMSE  Cross Val Training R2  Cross Val Testing R2  \n",
       "0               85.430959               0.000000              0.000000  \n",
       "1               63.747304               0.469721              0.415948  \n",
       "2               63.429441               0.468750              0.421922  \n",
       "3               67.004480               0.396121              0.355402  \n",
       "4               64.735246               0.680555              0.398807  \n",
       "5               64.328050               0.471294              0.406399  \n",
       "6               63.721935               0.498311              0.417251  "
      ]
     },
     "execution_count": 161,
     "metadata": {},
     "output_type": "execute_result"
    }
   ],
   "source": [
    "resultOfRegModels"
   ]
  },
  {
   "cell_type": "markdown",
   "metadata": {},
   "source": [
    "### 2.2.4.1. Improve AdaBoost Regressor on Decision Tree Regressor <a id=\"2.2.4.1.\"></a>\n",
    "[Back to Top](#top)"
   ]
  },
  {
   "cell_type": "code",
   "execution_count": 162,
   "metadata": {},
   "outputs": [
    {
     "name": "stdout",
     "output_type": "stream",
     "text": [
      "0.48216729646462725\n",
      "{'learning_rate': 0.1, 'n_estimators': 50}\n"
     ]
    }
   ],
   "source": [
    "# Use GridSearch to find the best combination of model hyperparameters\n",
    "adb_dtr = AdaBoostRegressor(tree.DecisionTreeRegressor(criterion = 'squared_error', max_depth= 4, \n",
    "                                      min_samples_leaf= 10, min_samples_split= 2, random_state= 999),random_state= 999)\n",
    "param_grid = { \"n_estimators\" : [10, 20, 30, 40, 50],\n",
    "             \"learning_rate\" : [0.1, 0.2, 0.4, 0.5]}\n",
    "\n",
    "gs = GridSearchCV(adb_dtr, param_grid=param_grid, scoring='explained_variance', cv= 10, n_jobs=-1)\n",
    "# cv: number of partitions for cross validation\n",
    "# n_jobs: number of jobs to run in parallel, -1 means using all processors\n",
    "gs = gs.fit(x_train, y_train)\n",
    "\n",
    "print(gs.best_score_)\n",
    "print(gs.best_params_)"
   ]
  },
  {
   "cell_type": "code",
   "execution_count": 163,
   "metadata": {},
   "outputs": [
    {
     "data": {
      "text/plain": [
       "AdaBoostRegressor(base_estimator=DecisionTreeRegressor(max_depth=4,\n",
       "                                                       min_samples_leaf=10,\n",
       "                                                       random_state=999),\n",
       "                  learning_rate=0.1, random_state=999)"
      ]
     },
     "execution_count": 163,
     "metadata": {},
     "output_type": "execute_result"
    }
   ],
   "source": [
    "# Build Ada Boost Model and Evaluate both training and testing accuracy\n",
    "adb2= AdaBoostRegressor(tree.DecisionTreeRegressor(criterion = 'squared_error', max_depth= 4, \n",
    "                            min_samples_leaf= 10, min_samples_split= 2, random_state= 999)\n",
    "                        , n_estimators = 50, learning_rate = 0.1,random_state= 999)\n",
    "adb2.fit(x_train,y_train)"
   ]
  },
  {
   "cell_type": "code",
   "execution_count": 164,
   "metadata": {},
   "outputs": [
    {
     "name": "stdout",
     "output_type": "stream",
     "text": [
      "the training mean absolute error is:  48.7832054124154\n",
      "the testing mean absolute error is:  49.67529066811065\n",
      "\n",
      "the training root mean squared error is:  60.63293264510305\n",
      "the testing root mean squared error is:  62.44929840635208\n",
      "\n",
      "training R^2 value is:  0.4902423582157719\n",
      "testing R^2 value is:  0.4652225985268036\n"
     ]
    }
   ],
   "source": [
    "#training mae\n",
    "train_mae = mean_absolute_error(adb2.predict(x_train), y_train)\n",
    "print('the training mean absolute error is: ', train_mae)\n",
    "#testing mae\n",
    "test_mae = mean_absolute_error(adb2.predict(x_test), y_test)\n",
    "print('the testing mean absolute error is: ',test_mae)\n",
    "print()\n",
    "#training rmse\n",
    "train_rmse = sqrt(mean_squared_error(adb2.predict(x_train), y_train))\n",
    "print('the training root mean squared error is: ', train_rmse)\n",
    "#testing rmse\n",
    "test_rmse = sqrt(mean_squared_error(adb2.predict(x_test), y_test))\n",
    "print('the testing root mean squared error is: ',test_rmse)\n",
    "print()\n",
    "# training r2\n",
    "train_R2 = adb2.score(x_train, y_train)\n",
    "print('training R^2 value is: ', train_R2)\n",
    "# testing r2\n",
    "test_R2 = adb2.score(x_test, y_test)\n",
    "print('testing R^2 value is: ', test_R2)"
   ]
  },
  {
   "cell_type": "code",
   "execution_count": 165,
   "metadata": {},
   "outputs": [
    {
     "name": "stdout",
     "output_type": "stream",
     "text": [
      "train_score:  [-62.25023141 -60.97065269 -60.37893135 -59.98591275 -60.50393396]\n",
      "test_score:  [-58.9935378  -62.44015487 -63.47847259 -67.82241552 -68.3427225 ]\n",
      "cross val training root_mean_squared_error is: 60.81793243037265\n",
      "cross val testing root_mean_squared_error is: 64.21546065539643\n",
      "\n",
      "train_score:  [-50.0233509  -49.62167941 -48.80493417 -48.17842752 -48.61402706]\n",
      "test_score:  [-46.30488152 -48.7748811  -50.87463774 -55.07071828 -56.65131271]\n",
      "cross val training mean_absolute_error is: 49.04848381091996\n",
      "cross val testing mean_absolute_error is: 51.53528626861896\n",
      "\n",
      "train_score:  [0.47957928 0.48318462 0.49048627 0.50286181 0.47999709]\n",
      "test_score:  [0.40063068 0.44800331 0.4586264  0.33869476 0.39389508]\n",
      "cross val training r2 is: 0.4872218139118428\n",
      "cross val testing r2 is: 0.40797004779380774\n"
     ]
    }
   ],
   "source": [
    "# Evaluate the Model using K-folds Cross validation  RMSE\n",
    "rmse_results = cross_validate(adb2, x_data_listings, y_data_listings, scoring='neg_root_mean_squared_error', cv=5, return_train_score = True)\n",
    "print('train_score: ', rmse_results['train_score'])\n",
    "print('test_score: ', rmse_results['test_score'])\n",
    "print('cross val training root_mean_squared_error is:', sum(-rmse_results['train_score'])/len(rmse_results['train_score']))\n",
    "print('cross val testing root_mean_squared_error is:', sum(-rmse_results['test_score'])/len(rmse_results['test_score']))\n",
    "print()\n",
    "# Evaluate the Model using K-folds Cross validation  MAE\n",
    "mae_results = cross_validate(adb2, x_data_listings, y_data_listings, scoring='neg_mean_absolute_error', cv=5, return_train_score = True)\n",
    "print('train_score: ', mae_results['train_score'])\n",
    "print('test_score: ', mae_results['test_score'])\n",
    "print('cross val training mean_absolute_error is:', sum(-mae_results['train_score'])/len(mae_results['train_score']))\n",
    "print('cross val testing mean_absolute_error is:', sum(-mae_results['test_score'])/len(mae_results['test_score']))\n",
    "print()\n",
    "# Evaluate the Model using K-folds Cross validation  R2\n",
    "r2_results = cross_validate(adb2, x_data_listings, y_data_listings, scoring='r2', cv=5, return_train_score = True)\n",
    "print('train_score: ', r2_results['train_score'])\n",
    "print('test_score: ', r2_results['test_score'])\n",
    "print('cross val training r2 is:', sum(r2_results['train_score'])/len(r2_results['train_score']))\n",
    "print('cross val testing r2 is:', sum(r2_results['test_score'])/len(r2_results['test_score']))"
   ]
  },
  {
   "cell_type": "code",
   "execution_count": 166,
   "metadata": {},
   "outputs": [],
   "source": [
    "# Add AdaBoost on Decision Tree Regressor to resultOfRegModelsDict\n",
    "new_row = {'Model': 'AdaBoost on Decision Tree Regressor - GridSearchCV', 'Training MAE': train_mae, 'Testing MAE': test_mae,\n",
    "                         'Training RMSE': train_rmse, 'Testing RMSE': test_rmse, \n",
    "                         'Training R2': train_R2, 'Testing R2': test_R2, \n",
    "                        'Cross Val Training MAE':  sum(-mae_results['train_score'])/len(mae_results['train_score']), 'Cross Val Testing MAE': sum(-mae_results['test_score'])/len(mae_results['test_score']),\n",
    "                        'Cross Val Training RMSE': sum(-rmse_results['train_score'])/len(rmse_results['train_score']), 'Cross Val Testing RMSE': sum(-rmse_results['test_score'])/len(rmse_results['test_score']),\n",
    "                        'Cross Val Training R2': (sum(r2_results['train_score'])/len(r2_results['train_score'])), 'Cross Val Testing R2': (sum(r2_results['test_score'])/len(r2_results['test_score']))}\n",
    "new_df = pd.DataFrame([new_row])\n",
    "resultOfRegModels = pd.concat([resultOfRegModels, new_df], axis=0, ignore_index=True) "
   ]
  },
  {
   "cell_type": "code",
   "execution_count": 167,
   "metadata": {},
   "outputs": [
    {
     "data": {
      "text/html": [
       "<div>\n",
       "<style scoped>\n",
       "    .dataframe tbody tr th:only-of-type {\n",
       "        vertical-align: middle;\n",
       "    }\n",
       "\n",
       "    .dataframe tbody tr th {\n",
       "        vertical-align: top;\n",
       "    }\n",
       "\n",
       "    .dataframe thead th {\n",
       "        text-align: right;\n",
       "    }\n",
       "</style>\n",
       "<table border=\"1\" class=\"dataframe\">\n",
       "  <thead>\n",
       "    <tr style=\"text-align: right;\">\n",
       "      <th></th>\n",
       "      <th>Model</th>\n",
       "      <th>Training MAE</th>\n",
       "      <th>Testing MAE</th>\n",
       "      <th>Training RMSE</th>\n",
       "      <th>Testing RMSE</th>\n",
       "      <th>Training R2</th>\n",
       "      <th>Testing R2</th>\n",
       "      <th>Cross Val Training MAE</th>\n",
       "      <th>Cross Val Testing MAE</th>\n",
       "      <th>Cross Val Training RMSE</th>\n",
       "      <th>Cross Val Testing RMSE</th>\n",
       "      <th>Cross Val Training R2</th>\n",
       "      <th>Cross Val Testing R2</th>\n",
       "    </tr>\n",
       "  </thead>\n",
       "  <tbody>\n",
       "    <tr>\n",
       "      <th>0</th>\n",
       "      <td>Naive Baseline Model</td>\n",
       "      <td>68.634679</td>\n",
       "      <td>68.519158</td>\n",
       "      <td>84.923269</td>\n",
       "      <td>85.430959</td>\n",
       "      <td>0.000000</td>\n",
       "      <td>0.000000</td>\n",
       "      <td>68.634679</td>\n",
       "      <td>68.519158</td>\n",
       "      <td>84.923269</td>\n",
       "      <td>85.430959</td>\n",
       "      <td>0.000000</td>\n",
       "      <td>0.000000</td>\n",
       "    </tr>\n",
       "    <tr>\n",
       "      <th>1</th>\n",
       "      <td>Linear Regression Model</td>\n",
       "      <td>46.726080</td>\n",
       "      <td>47.698981</td>\n",
       "      <td>61.675580</td>\n",
       "      <td>63.804358</td>\n",
       "      <td>0.472560</td>\n",
       "      <td>0.441763</td>\n",
       "      <td>46.755942</td>\n",
       "      <td>48.511791</td>\n",
       "      <td>61.846453</td>\n",
       "      <td>63.747304</td>\n",
       "      <td>0.469721</td>\n",
       "      <td>0.415948</td>\n",
       "    </tr>\n",
       "    <tr>\n",
       "      <th>2</th>\n",
       "      <td>Linear Regression Model - Improved</td>\n",
       "      <td>46.726632</td>\n",
       "      <td>47.704841</td>\n",
       "      <td>61.687877</td>\n",
       "      <td>63.829335</td>\n",
       "      <td>0.472350</td>\n",
       "      <td>0.441326</td>\n",
       "      <td>46.800879</td>\n",
       "      <td>48.177630</td>\n",
       "      <td>61.903173</td>\n",
       "      <td>63.429441</td>\n",
       "      <td>0.468750</td>\n",
       "      <td>0.421922</td>\n",
       "    </tr>\n",
       "    <tr>\n",
       "      <th>3</th>\n",
       "      <td>Decision Tree Regressor</td>\n",
       "      <td>50.609924</td>\n",
       "      <td>50.814608</td>\n",
       "      <td>65.846499</td>\n",
       "      <td>67.044102</td>\n",
       "      <td>0.398810</td>\n",
       "      <td>0.383633</td>\n",
       "      <td>50.677511</td>\n",
       "      <td>51.515028</td>\n",
       "      <td>65.998510</td>\n",
       "      <td>67.004480</td>\n",
       "      <td>0.396121</td>\n",
       "      <td>0.355402</td>\n",
       "    </tr>\n",
       "    <tr>\n",
       "      <th>4</th>\n",
       "      <td>Decision Tree Regressor - GridSearchCV</td>\n",
       "      <td>33.818771</td>\n",
       "      <td>40.572739</td>\n",
       "      <td>47.559536</td>\n",
       "      <td>58.157364</td>\n",
       "      <td>0.686367</td>\n",
       "      <td>0.536204</td>\n",
       "      <td>33.756181</td>\n",
       "      <td>46.730655</td>\n",
       "      <td>47.972016</td>\n",
       "      <td>64.735246</td>\n",
       "      <td>0.680555</td>\n",
       "      <td>0.398807</td>\n",
       "    </tr>\n",
       "    <tr>\n",
       "      <th>5</th>\n",
       "      <td>Decision Tree Regressor - GridSearchCV(Visuali...</td>\n",
       "      <td>45.959605</td>\n",
       "      <td>46.746398</td>\n",
       "      <td>61.178903</td>\n",
       "      <td>63.541570</td>\n",
       "      <td>0.481021</td>\n",
       "      <td>0.446352</td>\n",
       "      <td>46.540965</td>\n",
       "      <td>48.691974</td>\n",
       "      <td>61.752035</td>\n",
       "      <td>64.328050</td>\n",
       "      <td>0.471294</td>\n",
       "      <td>0.406399</td>\n",
       "    </tr>\n",
       "    <tr>\n",
       "      <th>6</th>\n",
       "      <td>AdaBoost on Decision Tree Regressor</td>\n",
       "      <td>46.700594</td>\n",
       "      <td>47.474056</td>\n",
       "      <td>60.141480</td>\n",
       "      <td>62.232698</td>\n",
       "      <td>0.498472</td>\n",
       "      <td>0.468926</td>\n",
       "      <td>46.739259</td>\n",
       "      <td>49.657266</td>\n",
       "      <td>60.154772</td>\n",
       "      <td>63.721935</td>\n",
       "      <td>0.498311</td>\n",
       "      <td>0.417251</td>\n",
       "    </tr>\n",
       "    <tr>\n",
       "      <th>7</th>\n",
       "      <td>AdaBoost on Decision Tree Regressor - GridSear...</td>\n",
       "      <td>48.783205</td>\n",
       "      <td>49.675291</td>\n",
       "      <td>60.632933</td>\n",
       "      <td>62.449298</td>\n",
       "      <td>0.490242</td>\n",
       "      <td>0.465223</td>\n",
       "      <td>49.048484</td>\n",
       "      <td>51.535286</td>\n",
       "      <td>60.817932</td>\n",
       "      <td>64.215461</td>\n",
       "      <td>0.487222</td>\n",
       "      <td>0.407970</td>\n",
       "    </tr>\n",
       "  </tbody>\n",
       "</table>\n",
       "</div>"
      ],
      "text/plain": [
       "                                               Model  Training MAE  \\\n",
       "0                               Naive Baseline Model     68.634679   \n",
       "1                            Linear Regression Model     46.726080   \n",
       "2                 Linear Regression Model - Improved     46.726632   \n",
       "3                            Decision Tree Regressor     50.609924   \n",
       "4             Decision Tree Regressor - GridSearchCV     33.818771   \n",
       "5  Decision Tree Regressor - GridSearchCV(Visuali...     45.959605   \n",
       "6                AdaBoost on Decision Tree Regressor     46.700594   \n",
       "7  AdaBoost on Decision Tree Regressor - GridSear...     48.783205   \n",
       "\n",
       "   Testing MAE  Training RMSE  Testing RMSE  Training R2  Testing R2  \\\n",
       "0    68.519158      84.923269     85.430959     0.000000    0.000000   \n",
       "1    47.698981      61.675580     63.804358     0.472560    0.441763   \n",
       "2    47.704841      61.687877     63.829335     0.472350    0.441326   \n",
       "3    50.814608      65.846499     67.044102     0.398810    0.383633   \n",
       "4    40.572739      47.559536     58.157364     0.686367    0.536204   \n",
       "5    46.746398      61.178903     63.541570     0.481021    0.446352   \n",
       "6    47.474056      60.141480     62.232698     0.498472    0.468926   \n",
       "7    49.675291      60.632933     62.449298     0.490242    0.465223   \n",
       "\n",
       "   Cross Val Training MAE  Cross Val Testing MAE  Cross Val Training RMSE  \\\n",
       "0               68.634679              68.519158                84.923269   \n",
       "1               46.755942              48.511791                61.846453   \n",
       "2               46.800879              48.177630                61.903173   \n",
       "3               50.677511              51.515028                65.998510   \n",
       "4               33.756181              46.730655                47.972016   \n",
       "5               46.540965              48.691974                61.752035   \n",
       "6               46.739259              49.657266                60.154772   \n",
       "7               49.048484              51.535286                60.817932   \n",
       "\n",
       "   Cross Val Testing RMSE  Cross Val Training R2  Cross Val Testing R2  \n",
       "0               85.430959               0.000000              0.000000  \n",
       "1               63.747304               0.469721              0.415948  \n",
       "2               63.429441               0.468750              0.421922  \n",
       "3               67.004480               0.396121              0.355402  \n",
       "4               64.735246               0.680555              0.398807  \n",
       "5               64.328050               0.471294              0.406399  \n",
       "6               63.721935               0.498311              0.417251  \n",
       "7               64.215461               0.487222              0.407970  "
      ]
     },
     "execution_count": 167,
     "metadata": {},
     "output_type": "execute_result"
    }
   ],
   "source": [
    "resultOfRegModels"
   ]
  },
  {
   "cell_type": "markdown",
   "metadata": {},
   "source": [
    "### 2.3. Summarize the findings <a id=\"2.3.\"></a>\n",
    "[Back to Top](#top)   "
   ]
  },
  {
   "cell_type": "code",
   "execution_count": 168,
   "metadata": {},
   "outputs": [
    {
     "data": {
      "text/plain": [
       "Index(['Model', 'Training MAE', 'Testing MAE', 'Training RMSE', 'Testing RMSE',\n",
       "       'Training R2', 'Testing R2', 'Cross Val Training MAE',\n",
       "       'Cross Val Testing MAE', 'Cross Val Training RMSE',\n",
       "       'Cross Val Testing RMSE', 'Cross Val Training R2',\n",
       "       'Cross Val Testing R2'],\n",
       "      dtype='object')"
      ]
     },
     "execution_count": 168,
     "metadata": {},
     "output_type": "execute_result"
    }
   ],
   "source": [
    "resultOfRegModels.columns"
   ]
  },
  {
   "cell_type": "code",
   "execution_count": 169,
   "metadata": {},
   "outputs": [],
   "source": [
    "resultOfRegModels = resultOfRegModels.groupby('Model')[['Training MAE', 'Testing MAE', 'Training RMSE', 'Testing RMSE',\n",
    "       'Training R2', 'Testing R2', 'Cross Val Training MAE',\n",
    "       'Cross Val Testing MAE', 'Cross Val Training RMSE',\n",
    "       'Cross Val Testing RMSE', 'Cross Val Training R2',\n",
    "       'Cross Val Testing R2']].sum()"
   ]
  },
  {
   "cell_type": "code",
   "execution_count": 170,
   "metadata": {},
   "outputs": [
    {
     "data": {
      "text/html": [
       "<div>\n",
       "<style scoped>\n",
       "    .dataframe tbody tr th:only-of-type {\n",
       "        vertical-align: middle;\n",
       "    }\n",
       "\n",
       "    .dataframe tbody tr th {\n",
       "        vertical-align: top;\n",
       "    }\n",
       "\n",
       "    .dataframe thead th {\n",
       "        text-align: right;\n",
       "    }\n",
       "</style>\n",
       "<table border=\"1\" class=\"dataframe\">\n",
       "  <thead>\n",
       "    <tr style=\"text-align: right;\">\n",
       "      <th></th>\n",
       "      <th>Training MAE</th>\n",
       "      <th>Testing MAE</th>\n",
       "      <th>Training RMSE</th>\n",
       "      <th>Testing RMSE</th>\n",
       "      <th>Training R2</th>\n",
       "      <th>Testing R2</th>\n",
       "      <th>Cross Val Training MAE</th>\n",
       "      <th>Cross Val Testing MAE</th>\n",
       "      <th>Cross Val Training RMSE</th>\n",
       "      <th>Cross Val Testing RMSE</th>\n",
       "      <th>Cross Val Training R2</th>\n",
       "      <th>Cross Val Testing R2</th>\n",
       "    </tr>\n",
       "    <tr>\n",
       "      <th>Model</th>\n",
       "      <th></th>\n",
       "      <th></th>\n",
       "      <th></th>\n",
       "      <th></th>\n",
       "      <th></th>\n",
       "      <th></th>\n",
       "      <th></th>\n",
       "      <th></th>\n",
       "      <th></th>\n",
       "      <th></th>\n",
       "      <th></th>\n",
       "      <th></th>\n",
       "    </tr>\n",
       "  </thead>\n",
       "  <tbody>\n",
       "    <tr>\n",
       "      <th>AdaBoost on Decision Tree Regressor</th>\n",
       "      <td>46.70</td>\n",
       "      <td>47.47</td>\n",
       "      <td>60.14</td>\n",
       "      <td>62.23</td>\n",
       "      <td>0.50</td>\n",
       "      <td>0.47</td>\n",
       "      <td>46.74</td>\n",
       "      <td>49.66</td>\n",
       "      <td>60.15</td>\n",
       "      <td>63.72</td>\n",
       "      <td>0.50</td>\n",
       "      <td>0.42</td>\n",
       "    </tr>\n",
       "    <tr>\n",
       "      <th>AdaBoost on Decision Tree Regressor - GridSearchCV</th>\n",
       "      <td>48.78</td>\n",
       "      <td>49.68</td>\n",
       "      <td>60.63</td>\n",
       "      <td>62.45</td>\n",
       "      <td>0.49</td>\n",
       "      <td>0.47</td>\n",
       "      <td>49.05</td>\n",
       "      <td>51.54</td>\n",
       "      <td>60.82</td>\n",
       "      <td>64.22</td>\n",
       "      <td>0.49</td>\n",
       "      <td>0.41</td>\n",
       "    </tr>\n",
       "    <tr>\n",
       "      <th>Decision Tree Regressor</th>\n",
       "      <td>50.61</td>\n",
       "      <td>50.81</td>\n",
       "      <td>65.85</td>\n",
       "      <td>67.04</td>\n",
       "      <td>0.40</td>\n",
       "      <td>0.38</td>\n",
       "      <td>50.68</td>\n",
       "      <td>51.52</td>\n",
       "      <td>66.00</td>\n",
       "      <td>67.00</td>\n",
       "      <td>0.40</td>\n",
       "      <td>0.36</td>\n",
       "    </tr>\n",
       "    <tr>\n",
       "      <th>Decision Tree Regressor - GridSearchCV</th>\n",
       "      <td>33.82</td>\n",
       "      <td>40.57</td>\n",
       "      <td>47.56</td>\n",
       "      <td>58.16</td>\n",
       "      <td>0.69</td>\n",
       "      <td>0.54</td>\n",
       "      <td>33.76</td>\n",
       "      <td>46.73</td>\n",
       "      <td>47.97</td>\n",
       "      <td>64.74</td>\n",
       "      <td>0.68</td>\n",
       "      <td>0.40</td>\n",
       "    </tr>\n",
       "    <tr>\n",
       "      <th>Decision Tree Regressor - GridSearchCV(Visualisation)</th>\n",
       "      <td>45.96</td>\n",
       "      <td>46.75</td>\n",
       "      <td>61.18</td>\n",
       "      <td>63.54</td>\n",
       "      <td>0.48</td>\n",
       "      <td>0.45</td>\n",
       "      <td>46.54</td>\n",
       "      <td>48.69</td>\n",
       "      <td>61.75</td>\n",
       "      <td>64.33</td>\n",
       "      <td>0.47</td>\n",
       "      <td>0.41</td>\n",
       "    </tr>\n",
       "    <tr>\n",
       "      <th>Linear Regression Model</th>\n",
       "      <td>46.73</td>\n",
       "      <td>47.70</td>\n",
       "      <td>61.68</td>\n",
       "      <td>63.80</td>\n",
       "      <td>0.47</td>\n",
       "      <td>0.44</td>\n",
       "      <td>46.76</td>\n",
       "      <td>48.51</td>\n",
       "      <td>61.85</td>\n",
       "      <td>63.75</td>\n",
       "      <td>0.47</td>\n",
       "      <td>0.42</td>\n",
       "    </tr>\n",
       "    <tr>\n",
       "      <th>Linear Regression Model - Improved</th>\n",
       "      <td>46.73</td>\n",
       "      <td>47.70</td>\n",
       "      <td>61.69</td>\n",
       "      <td>63.83</td>\n",
       "      <td>0.47</td>\n",
       "      <td>0.44</td>\n",
       "      <td>46.80</td>\n",
       "      <td>48.18</td>\n",
       "      <td>61.90</td>\n",
       "      <td>63.43</td>\n",
       "      <td>0.47</td>\n",
       "      <td>0.42</td>\n",
       "    </tr>\n",
       "    <tr>\n",
       "      <th>Naive Baseline Model</th>\n",
       "      <td>68.63</td>\n",
       "      <td>68.52</td>\n",
       "      <td>84.92</td>\n",
       "      <td>85.43</td>\n",
       "      <td>0.00</td>\n",
       "      <td>0.00</td>\n",
       "      <td>68.63</td>\n",
       "      <td>68.52</td>\n",
       "      <td>84.92</td>\n",
       "      <td>85.43</td>\n",
       "      <td>0.00</td>\n",
       "      <td>0.00</td>\n",
       "    </tr>\n",
       "  </tbody>\n",
       "</table>\n",
       "</div>"
      ],
      "text/plain": [
       "                                                    Training MAE  Testing MAE  \\\n",
       "Model                                                                           \n",
       "AdaBoost on Decision Tree Regressor                        46.70        47.47   \n",
       "AdaBoost on Decision Tree Regressor - GridSearchCV         48.78        49.68   \n",
       "Decision Tree Regressor                                    50.61        50.81   \n",
       "Decision Tree Regressor - GridSearchCV                     33.82        40.57   \n",
       "Decision Tree Regressor - GridSearchCV(Visualis...         45.96        46.75   \n",
       "Linear Regression Model                                    46.73        47.70   \n",
       "Linear Regression Model - Improved                         46.73        47.70   \n",
       "Naive Baseline Model                                       68.63        68.52   \n",
       "\n",
       "                                                    Training RMSE  \\\n",
       "Model                                                               \n",
       "AdaBoost on Decision Tree Regressor                         60.14   \n",
       "AdaBoost on Decision Tree Regressor - GridSearchCV          60.63   \n",
       "Decision Tree Regressor                                     65.85   \n",
       "Decision Tree Regressor - GridSearchCV                      47.56   \n",
       "Decision Tree Regressor - GridSearchCV(Visualis...          61.18   \n",
       "Linear Regression Model                                     61.68   \n",
       "Linear Regression Model - Improved                          61.69   \n",
       "Naive Baseline Model                                        84.92   \n",
       "\n",
       "                                                    Testing RMSE  Training R2  \\\n",
       "Model                                                                           \n",
       "AdaBoost on Decision Tree Regressor                        62.23         0.50   \n",
       "AdaBoost on Decision Tree Regressor - GridSearchCV         62.45         0.49   \n",
       "Decision Tree Regressor                                    67.04         0.40   \n",
       "Decision Tree Regressor - GridSearchCV                     58.16         0.69   \n",
       "Decision Tree Regressor - GridSearchCV(Visualis...         63.54         0.48   \n",
       "Linear Regression Model                                    63.80         0.47   \n",
       "Linear Regression Model - Improved                         63.83         0.47   \n",
       "Naive Baseline Model                                       85.43         0.00   \n",
       "\n",
       "                                                    Testing R2  \\\n",
       "Model                                                            \n",
       "AdaBoost on Decision Tree Regressor                       0.47   \n",
       "AdaBoost on Decision Tree Regressor - GridSearchCV        0.47   \n",
       "Decision Tree Regressor                                   0.38   \n",
       "Decision Tree Regressor - GridSearchCV                    0.54   \n",
       "Decision Tree Regressor - GridSearchCV(Visualis...        0.45   \n",
       "Linear Regression Model                                   0.44   \n",
       "Linear Regression Model - Improved                        0.44   \n",
       "Naive Baseline Model                                      0.00   \n",
       "\n",
       "                                                    Cross Val Training MAE  \\\n",
       "Model                                                                        \n",
       "AdaBoost on Decision Tree Regressor                                  46.74   \n",
       "AdaBoost on Decision Tree Regressor - GridSearchCV                   49.05   \n",
       "Decision Tree Regressor                                              50.68   \n",
       "Decision Tree Regressor - GridSearchCV                               33.76   \n",
       "Decision Tree Regressor - GridSearchCV(Visualis...                   46.54   \n",
       "Linear Regression Model                                              46.76   \n",
       "Linear Regression Model - Improved                                   46.80   \n",
       "Naive Baseline Model                                                 68.63   \n",
       "\n",
       "                                                    Cross Val Testing MAE  \\\n",
       "Model                                                                       \n",
       "AdaBoost on Decision Tree Regressor                                 49.66   \n",
       "AdaBoost on Decision Tree Regressor - GridSearchCV                  51.54   \n",
       "Decision Tree Regressor                                             51.52   \n",
       "Decision Tree Regressor - GridSearchCV                              46.73   \n",
       "Decision Tree Regressor - GridSearchCV(Visualis...                  48.69   \n",
       "Linear Regression Model                                             48.51   \n",
       "Linear Regression Model - Improved                                  48.18   \n",
       "Naive Baseline Model                                                68.52   \n",
       "\n",
       "                                                    Cross Val Training RMSE  \\\n",
       "Model                                                                         \n",
       "AdaBoost on Decision Tree Regressor                                   60.15   \n",
       "AdaBoost on Decision Tree Regressor - GridSearchCV                    60.82   \n",
       "Decision Tree Regressor                                               66.00   \n",
       "Decision Tree Regressor - GridSearchCV                                47.97   \n",
       "Decision Tree Regressor - GridSearchCV(Visualis...                    61.75   \n",
       "Linear Regression Model                                               61.85   \n",
       "Linear Regression Model - Improved                                    61.90   \n",
       "Naive Baseline Model                                                  84.92   \n",
       "\n",
       "                                                    Cross Val Testing RMSE  \\\n",
       "Model                                                                        \n",
       "AdaBoost on Decision Tree Regressor                                  63.72   \n",
       "AdaBoost on Decision Tree Regressor - GridSearchCV                   64.22   \n",
       "Decision Tree Regressor                                              67.00   \n",
       "Decision Tree Regressor - GridSearchCV                               64.74   \n",
       "Decision Tree Regressor - GridSearchCV(Visualis...                   64.33   \n",
       "Linear Regression Model                                              63.75   \n",
       "Linear Regression Model - Improved                                   63.43   \n",
       "Naive Baseline Model                                                 85.43   \n",
       "\n",
       "                                                    Cross Val Training R2  \\\n",
       "Model                                                                       \n",
       "AdaBoost on Decision Tree Regressor                                  0.50   \n",
       "AdaBoost on Decision Tree Regressor - GridSearchCV                   0.49   \n",
       "Decision Tree Regressor                                              0.40   \n",
       "Decision Tree Regressor - GridSearchCV                               0.68   \n",
       "Decision Tree Regressor - GridSearchCV(Visualis...                   0.47   \n",
       "Linear Regression Model                                              0.47   \n",
       "Linear Regression Model - Improved                                   0.47   \n",
       "Naive Baseline Model                                                 0.00   \n",
       "\n",
       "                                                    Cross Val Testing R2  \n",
       "Model                                                                     \n",
       "AdaBoost on Decision Tree Regressor                                 0.42  \n",
       "AdaBoost on Decision Tree Regressor - GridSearchCV                  0.41  \n",
       "Decision Tree Regressor                                             0.36  \n",
       "Decision Tree Regressor - GridSearchCV                              0.40  \n",
       "Decision Tree Regressor - GridSearchCV(Visualis...                  0.41  \n",
       "Linear Regression Model                                             0.42  \n",
       "Linear Regression Model - Improved                                  0.42  \n",
       "Naive Baseline Model                                                0.00  "
      ]
     },
     "execution_count": 170,
     "metadata": {},
     "output_type": "execute_result"
    }
   ],
   "source": [
    "resultOfRegModels.round(2)"
   ]
  },
  {
   "cell_type": "markdown",
   "metadata": {},
   "source": [
    "### 2.3.1. Regression Final Model <a id=\"2.3.1.\"></a>\n",
    "[Back to Top](#top)"
   ]
  },
  {
   "cell_type": "code",
   "execution_count": 171,
   "metadata": {},
   "outputs": [],
   "source": [
    "#Define Model Inputs (X) and Output (y)\n",
    "\n",
    "# Set the \"is_promoted\" as target/model output and the rest features as model inputs\n",
    "x_data_listings_final = x_data_listings.drop(['latitude','last_review_day','neighbourhood_Toa Payoh',\n",
    "                                           'name_Luxury hostel with in-cabin locker - Single mixed','neighbourhood_Tanglin',\n",
    "                                           'name_City-located 1BR loft apartment *BRAND NEW*',\n",
    "                                           'neighbourhood_Novena','neighbourhood_Bishan'], axis=1)\n",
    "y_data_listings_final = y_data_listings"
   ]
  },
  {
   "cell_type": "code",
   "execution_count": 172,
   "metadata": {},
   "outputs": [],
   "source": [
    "# Split both Inputs (X) and Ouput (y) into training set (80%) and testing set (20%)\n",
    "x_train, x_test, y_train, y_test = train_test_split(x_data_listings_final, y_data_listings_final, test_size=0.2, random_state=999)"
   ]
  },
  {
   "cell_type": "code",
   "execution_count": 173,
   "metadata": {},
   "outputs": [
    {
     "data": {
      "text/plain": [
       "LinearRegression()"
      ]
     },
     "execution_count": 173,
     "metadata": {},
     "output_type": "execute_result"
    }
   ],
   "source": [
    "lm_final = LinearRegression()\n",
    "lm_final.fit(x_train, y_train)"
   ]
  },
  {
   "cell_type": "code",
   "execution_count": 174,
   "metadata": {},
   "outputs": [
    {
     "name": "stdout",
     "output_type": "stream",
     "text": [
      "61.68787694843428 (Train RMSE)\n",
      "46.72663210509768 (Train MAE)\n",
      "0.4723496337389731 (Train R^2 Value)\n"
     ]
    }
   ],
   "source": [
    "# Calculated the fitted values for training set\n",
    "y_fitted = lm_final.predict(x_train)\n",
    "# Calculated the RMSE and R^2 for training set\n",
    "print(sqrt(mean_squared_error(y_fitted, y_train)), '(Train RMSE)') # RMSE: the lower the better\n",
    "print(mean_absolute_error(y_fitted, y_train), '(Train MAE)') # MAE: the lower the better\n",
    "print(lm_final.score(x_train, y_train), '(Train R^2 Value)') # R squared value (ranges from 0 to 1): the higher the better"
   ]
  },
  {
   "cell_type": "code",
   "execution_count": 175,
   "metadata": {},
   "outputs": [
    {
     "name": "stdout",
     "output_type": "stream",
     "text": [
      "63.82933542029962 (Test RMSE)\n",
      "47.70484068265605 (Test MAE)\n",
      "0.44132586565200926 (Test R^2 Value)\n"
     ]
    }
   ],
   "source": [
    "# calculated the predicated value for testing data\n",
    "y_pred = lm_final.predict(x_test)\n",
    "# Calculated the RMSE and R^2 for testing set\n",
    "print(sqrt(mean_squared_error(y_pred, y_test)), '(Test RMSE)') # RMSE: the lower the better\n",
    "print(mean_absolute_error(y_pred, y_test), '(Test MAE)') # MAE: the lower the better\n",
    "print(lm_final.score(x_test, y_test), '(Test R^2 Value)') # R squared value (ranges from 0 to 1): the higher the better"
   ]
  },
  {
   "cell_type": "code",
   "execution_count": 176,
   "metadata": {},
   "outputs": [
    {
     "name": "stdout",
     "output_type": "stream",
     "text": [
      "***Final Linear Regression Model (Improved)***\n",
      "train_score:  [-63.13961386 -62.13660192 -61.91928727 -60.96996725 -61.35039477]\n",
      "test_score:  [-58.97908918 -62.3892185  -63.007746   -67.05768778 -65.71346291]\n",
      "cross val training root_mean_squared_error is: 61.90317301580611\n",
      "cross val testing root_mean_squared_error is: 63.42944087348566\n",
      "\n",
      "train_score:  [-47.92233779 -47.46396788 -46.66844483 -46.05473984 -45.89490451]\n",
      "test_score:  [-43.76551209 -45.69512917 -47.31284237 -51.43110166 -52.68356395]\n",
      "cross val training mean_absolute_error is: 46.80087897033328\n",
      "cross val testing mean_absolute_error is: 48.17762984847803\n",
      "\n",
      "train_score:  [0.46460232 0.46322938 0.46415776 0.48641715 0.46534545]\n",
      "test_score:  [0.40092424 0.44890354 0.46662578 0.35352371 0.43963376]\n",
      "cross val training r2 is: 0.46875041269124945\n",
      "cross val testing r2 is: 0.4219222038764249\n"
     ]
    }
   ],
   "source": [
    "print('***Final Linear Regression Model (Improved)***')\n",
    "\n",
    "# Evaluate the Model using K-folds Cross validation  RMSE\n",
    "rmse_results = cross_validate(lm_final, x_data_listings_final, y_data_listings_final, scoring='neg_root_mean_squared_error', cv=5, return_train_score = True)\n",
    "print('train_score: ', rmse_results['train_score'])\n",
    "print('test_score: ', rmse_results['test_score'])\n",
    "print('cross val training root_mean_squared_error is:', sum(-rmse_results['train_score'])/len(rmse_results['train_score']))\n",
    "print('cross val testing root_mean_squared_error is:', sum(-rmse_results['test_score'])/len(rmse_results['test_score']))\n",
    "print()\n",
    "# Evaluate the Model using K-folds Cross validation  MAE\n",
    "mae_results = cross_validate(lm_final, x_data_listings_final, y_data_listings_final, scoring='neg_mean_absolute_error', cv=5, return_train_score = True)\n",
    "print('train_score: ', mae_results['train_score'])\n",
    "print('test_score: ', mae_results['test_score'])\n",
    "print('cross val training mean_absolute_error is:', sum(-mae_results['train_score'])/len(mae_results['train_score']))\n",
    "print('cross val testing mean_absolute_error is:', sum(-mae_results['test_score'])/len(mae_results['test_score']))\n",
    "print()\n",
    "# Evaluate the Model using K-folds Cross validation  R2\n",
    "r2_results = cross_validate(lm_final, x_data_listings_final, y_data_listings_final, scoring='r2', cv=5, return_train_score = True)\n",
    "print('train_score: ', r2_results['train_score'])\n",
    "print('test_score: ', r2_results['test_score'])\n",
    "print('cross val training r2 is:', sum(r2_results['train_score'])/len(r2_results['train_score']))\n",
    "print('cross val testing r2 is:', sum(r2_results['test_score'])/len(r2_results['test_score']))"
   ]
  },
  {
   "cell_type": "markdown",
   "metadata": {},
   "source": [
    "~ End ~"
   ]
  }
 ],
 "metadata": {
  "kernelspec": {
   "display_name": "Python 3 (ipykernel)",
   "language": "python",
   "name": "python3"
  },
  "language_info": {
   "codemirror_mode": {
    "name": "ipython",
    "version": 3
   },
   "file_extension": ".py",
   "mimetype": "text/x-python",
   "name": "python",
   "nbconvert_exporter": "python",
   "pygments_lexer": "ipython3",
   "version": "3.9.13"
  }
 },
 "nbformat": 4,
 "nbformat_minor": 2
}
